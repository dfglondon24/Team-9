{
 "cells": [
  {
   "cell_type": "code",
   "execution_count": 1,
   "metadata": {},
   "outputs": [],
   "source": [
    "import pandas as pd\n",
    "import openpyxl\n",
    "import seaborn as sns\n",
    "from matplotlib import pyplot as plt"
   ]
  },
  {
   "cell_type": "code",
   "execution_count": 2,
   "metadata": {},
   "outputs": [],
   "source": [
    "df = pd.read_excel(\"/Users/paulmuchembled/Desktop/afrikids.xls\", sheet_name = \"Learner Data Template\")"
   ]
  },
  {
   "cell_type": "code",
   "execution_count": 3,
   "metadata": {},
   "outputs": [
    {
     "data": {
      "text/html": [
       "<div>\n",
       "<style scoped>\n",
       "    .dataframe tbody tr th:only-of-type {\n",
       "        vertical-align: middle;\n",
       "    }\n",
       "\n",
       "    .dataframe tbody tr th {\n",
       "        vertical-align: top;\n",
       "    }\n",
       "\n",
       "    .dataframe thead th {\n",
       "        text-align: right;\n",
       "    }\n",
       "</style>\n",
       "<table border=\"1\" class=\"dataframe\">\n",
       "  <thead>\n",
       "    <tr style=\"text-align: right;\">\n",
       "      <th></th>\n",
       "      <th>IP</th>\n",
       "      <th>REGION</th>\n",
       "      <th>DISTRICT</th>\n",
       "      <th>COMMUNITY/CLASS</th>\n",
       "      <th>TYPE OF OOSC</th>\n",
       "      <th>SEX</th>\n",
       "      <th>AGE</th>\n",
       "      <th>DROP OUT (YES/NO)</th>\n",
       "      <th>WHICH QUARTER CHILD DROPPED</th>\n",
       "      <th>GRADUATED (YES/NO)</th>\n",
       "      <th>...</th>\n",
       "      <th>Region</th>\n",
       "      <th>District</th>\n",
       "      <th>Type of OOSC</th>\n",
       "      <th>Sex</th>\n",
       "      <th>Age</th>\n",
       "      <th>Dropout</th>\n",
       "      <th>Quarter Drop</th>\n",
       "      <th>Graduated</th>\n",
       "      <th>Transition</th>\n",
       "      <th>Language</th>\n",
       "    </tr>\n",
       "  </thead>\n",
       "  <tbody>\n",
       "    <tr>\n",
       "      <th>0</th>\n",
       "      <td>AfriKids</td>\n",
       "      <td>Upper East</td>\n",
       "      <td>Bongo</td>\n",
       "      <td>Abelinzanga</td>\n",
       "      <td>NaN</td>\n",
       "      <td>M</td>\n",
       "      <td>13.0</td>\n",
       "      <td>No</td>\n",
       "      <td>NaN</td>\n",
       "      <td>Yes</td>\n",
       "      <td>...</td>\n",
       "      <td>Ashanti</td>\n",
       "      <td>Atebubu</td>\n",
       "      <td>Never been to school</td>\n",
       "      <td>M</td>\n",
       "      <td>8.0</td>\n",
       "      <td>YES</td>\n",
       "      <td>1.0</td>\n",
       "      <td>YES</td>\n",
       "      <td>YES</td>\n",
       "      <td>Asante Twi</td>\n",
       "    </tr>\n",
       "    <tr>\n",
       "      <th>1</th>\n",
       "      <td>AfriKids</td>\n",
       "      <td>Upper East</td>\n",
       "      <td>Bongo</td>\n",
       "      <td>Abelinzanga</td>\n",
       "      <td>NaN</td>\n",
       "      <td>F</td>\n",
       "      <td>13.0</td>\n",
       "      <td>No</td>\n",
       "      <td>NaN</td>\n",
       "      <td>Yes</td>\n",
       "      <td>...</td>\n",
       "      <td>Brong Ahafo</td>\n",
       "      <td>Banda</td>\n",
       "      <td>Drop out</td>\n",
       "      <td>F</td>\n",
       "      <td>9.0</td>\n",
       "      <td>NO</td>\n",
       "      <td>2.0</td>\n",
       "      <td>NO</td>\n",
       "      <td>NO</td>\n",
       "      <td>Birfour</td>\n",
       "    </tr>\n",
       "    <tr>\n",
       "      <th>2</th>\n",
       "      <td>AfriKids</td>\n",
       "      <td>Upper East</td>\n",
       "      <td>Bongo</td>\n",
       "      <td>Abelinzanga</td>\n",
       "      <td>NaN</td>\n",
       "      <td>F</td>\n",
       "      <td>11.0</td>\n",
       "      <td>No</td>\n",
       "      <td>NaN</td>\n",
       "      <td>Yes</td>\n",
       "      <td>...</td>\n",
       "      <td>Northern</td>\n",
       "      <td>Bawku Municipal</td>\n",
       "      <td>NaN</td>\n",
       "      <td>NaN</td>\n",
       "      <td>10.0</td>\n",
       "      <td>NaN</td>\n",
       "      <td>3.0</td>\n",
       "      <td>NaN</td>\n",
       "      <td>NaN</td>\n",
       "      <td>Dagaare</td>\n",
       "    </tr>\n",
       "    <tr>\n",
       "      <th>3</th>\n",
       "      <td>AfriKids</td>\n",
       "      <td>Upper East</td>\n",
       "      <td>Bongo</td>\n",
       "      <td>Abelinzanga</td>\n",
       "      <td>NaN</td>\n",
       "      <td>F</td>\n",
       "      <td>12.0</td>\n",
       "      <td>No</td>\n",
       "      <td>NaN</td>\n",
       "      <td>Yes</td>\n",
       "      <td>...</td>\n",
       "      <td>Upper East</td>\n",
       "      <td>Bawku West</td>\n",
       "      <td>NaN</td>\n",
       "      <td>NaN</td>\n",
       "      <td>11.0</td>\n",
       "      <td>NaN</td>\n",
       "      <td>4.0</td>\n",
       "      <td>NaN</td>\n",
       "      <td>NaN</td>\n",
       "      <td>Dagbani</td>\n",
       "    </tr>\n",
       "    <tr>\n",
       "      <th>4</th>\n",
       "      <td>AfriKids</td>\n",
       "      <td>Upper East</td>\n",
       "      <td>Bongo</td>\n",
       "      <td>Abelinzanga</td>\n",
       "      <td>NaN</td>\n",
       "      <td>F</td>\n",
       "      <td>14.0</td>\n",
       "      <td>No</td>\n",
       "      <td>NaN</td>\n",
       "      <td>Yes</td>\n",
       "      <td>...</td>\n",
       "      <td>Upper West</td>\n",
       "      <td>Bole</td>\n",
       "      <td>NaN</td>\n",
       "      <td>NaN</td>\n",
       "      <td>12.0</td>\n",
       "      <td>NaN</td>\n",
       "      <td>NaN</td>\n",
       "      <td>NaN</td>\n",
       "      <td>NaN</td>\n",
       "      <td>Ewe</td>\n",
       "    </tr>\n",
       "    <tr>\n",
       "      <th>5</th>\n",
       "      <td>AfriKids</td>\n",
       "      <td>Upper East</td>\n",
       "      <td>Bongo</td>\n",
       "      <td>Abelinzanga</td>\n",
       "      <td>NaN</td>\n",
       "      <td>F</td>\n",
       "      <td>13.0</td>\n",
       "      <td>No</td>\n",
       "      <td>NaN</td>\n",
       "      <td>Yes</td>\n",
       "      <td>...</td>\n",
       "      <td>NaN</td>\n",
       "      <td>Bongo</td>\n",
       "      <td>NaN</td>\n",
       "      <td>NaN</td>\n",
       "      <td>13.0</td>\n",
       "      <td>NaN</td>\n",
       "      <td>NaN</td>\n",
       "      <td>NaN</td>\n",
       "      <td>NaN</td>\n",
       "      <td>Gonja</td>\n",
       "    </tr>\n",
       "    <tr>\n",
       "      <th>6</th>\n",
       "      <td>AfriKids</td>\n",
       "      <td>Upper East</td>\n",
       "      <td>Bongo</td>\n",
       "      <td>Abelinzanga</td>\n",
       "      <td>NaN</td>\n",
       "      <td>M</td>\n",
       "      <td>14.0</td>\n",
       "      <td>No</td>\n",
       "      <td>NaN</td>\n",
       "      <td>Yes</td>\n",
       "      <td>...</td>\n",
       "      <td>NaN</td>\n",
       "      <td>Central Gonja</td>\n",
       "      <td>NaN</td>\n",
       "      <td>NaN</td>\n",
       "      <td>14.0</td>\n",
       "      <td>NaN</td>\n",
       "      <td>NaN</td>\n",
       "      <td>NaN</td>\n",
       "      <td>NaN</td>\n",
       "      <td>Gurene</td>\n",
       "    </tr>\n",
       "    <tr>\n",
       "      <th>7</th>\n",
       "      <td>AfriKids</td>\n",
       "      <td>Upper East</td>\n",
       "      <td>Bongo</td>\n",
       "      <td>Abelinzanga</td>\n",
       "      <td>NaN</td>\n",
       "      <td>F</td>\n",
       "      <td>12.0</td>\n",
       "      <td>No</td>\n",
       "      <td>NaN</td>\n",
       "      <td>Yes</td>\n",
       "      <td>...</td>\n",
       "      <td>NaN</td>\n",
       "      <td>Daffiama Bussie Issah</td>\n",
       "      <td>NaN</td>\n",
       "      <td>NaN</td>\n",
       "      <td>NaN</td>\n",
       "      <td>NaN</td>\n",
       "      <td>NaN</td>\n",
       "      <td>NaN</td>\n",
       "      <td>NaN</td>\n",
       "      <td>Kasem</td>\n",
       "    </tr>\n",
       "    <tr>\n",
       "      <th>8</th>\n",
       "      <td>AfriKids</td>\n",
       "      <td>Upper East</td>\n",
       "      <td>Bongo</td>\n",
       "      <td>Abelinzanga</td>\n",
       "      <td>NaN</td>\n",
       "      <td>F</td>\n",
       "      <td>12.0</td>\n",
       "      <td>No</td>\n",
       "      <td>NaN</td>\n",
       "      <td>Yes</td>\n",
       "      <td>...</td>\n",
       "      <td>NaN</td>\n",
       "      <td>East Gonja</td>\n",
       "      <td>NaN</td>\n",
       "      <td>NaN</td>\n",
       "      <td>NaN</td>\n",
       "      <td>NaN</td>\n",
       "      <td>NaN</td>\n",
       "      <td>NaN</td>\n",
       "      <td>NaN</td>\n",
       "      <td>Kusaal</td>\n",
       "    </tr>\n",
       "    <tr>\n",
       "      <th>9</th>\n",
       "      <td>AfriKids</td>\n",
       "      <td>Upper East</td>\n",
       "      <td>Bongo</td>\n",
       "      <td>Abelinzanga</td>\n",
       "      <td>NaN</td>\n",
       "      <td>F</td>\n",
       "      <td>14.0</td>\n",
       "      <td>No</td>\n",
       "      <td>NaN</td>\n",
       "      <td>Yes</td>\n",
       "      <td>...</td>\n",
       "      <td>NaN</td>\n",
       "      <td>Garu Tempane</td>\n",
       "      <td>NaN</td>\n",
       "      <td>NaN</td>\n",
       "      <td>NaN</td>\n",
       "      <td>NaN</td>\n",
       "      <td>NaN</td>\n",
       "      <td>NaN</td>\n",
       "      <td>NaN</td>\n",
       "      <td>Likpalkpaaln</td>\n",
       "    </tr>\n",
       "  </tbody>\n",
       "</table>\n",
       "<p>10 rows × 27 columns</p>\n",
       "</div>"
      ],
      "text/plain": [
       "         IP      REGION DISTRICT COMMUNITY/CLASS  TYPE OF OOSC SEX   AGE  \\\n",
       "0  AfriKids  Upper East    Bongo     Abelinzanga           NaN   M  13.0   \n",
       "1  AfriKids  Upper East    Bongo     Abelinzanga           NaN   F  13.0   \n",
       "2  AfriKids  Upper East    Bongo     Abelinzanga           NaN   F  11.0   \n",
       "3  AfriKids  Upper East    Bongo     Abelinzanga           NaN   F  12.0   \n",
       "4  AfriKids  Upper East    Bongo     Abelinzanga           NaN   F  14.0   \n",
       "5  AfriKids  Upper East    Bongo     Abelinzanga           NaN   F  13.0   \n",
       "6  AfriKids  Upper East    Bongo     Abelinzanga           NaN   M  14.0   \n",
       "7  AfriKids  Upper East    Bongo     Abelinzanga           NaN   F  12.0   \n",
       "8  AfriKids  Upper East    Bongo     Abelinzanga           NaN   F  12.0   \n",
       "9  AfriKids  Upper East    Bongo     Abelinzanga           NaN   F  14.0   \n",
       "\n",
       "  DROP OUT (YES/NO)  WHICH QUARTER CHILD DROPPED GRADUATED (YES/NO)  ...  \\\n",
       "0                No                          NaN                Yes  ...   \n",
       "1                No                          NaN                Yes  ...   \n",
       "2                No                          NaN                Yes  ...   \n",
       "3                No                          NaN                Yes  ...   \n",
       "4                No                          NaN                Yes  ...   \n",
       "5                No                          NaN                Yes  ...   \n",
       "6                No                          NaN                Yes  ...   \n",
       "7                No                          NaN                Yes  ...   \n",
       "8                No                          NaN                Yes  ...   \n",
       "9                No                          NaN                Yes  ...   \n",
       "\n",
       "        Region               District          Type of OOSC  Sex   Age  \\\n",
       "0      Ashanti                Atebubu  Never been to school    M   8.0   \n",
       "1  Brong Ahafo                  Banda              Drop out    F   9.0   \n",
       "2     Northern        Bawku Municipal                   NaN  NaN  10.0   \n",
       "3   Upper East             Bawku West                   NaN  NaN  11.0   \n",
       "4   Upper West                   Bole                   NaN  NaN  12.0   \n",
       "5          NaN                  Bongo                   NaN  NaN  13.0   \n",
       "6          NaN          Central Gonja                   NaN  NaN  14.0   \n",
       "7          NaN  Daffiama Bussie Issah                   NaN  NaN   NaN   \n",
       "8          NaN             East Gonja                   NaN  NaN   NaN   \n",
       "9          NaN           Garu Tempane                   NaN  NaN   NaN   \n",
       "\n",
       "   Dropout Quarter Drop Graduated Transition      Language  \n",
       "0      YES          1.0       YES        YES    Asante Twi  \n",
       "1       NO          2.0        NO         NO       Birfour  \n",
       "2      NaN          3.0       NaN        NaN       Dagaare  \n",
       "3      NaN          4.0       NaN        NaN       Dagbani  \n",
       "4      NaN          NaN       NaN        NaN           Ewe  \n",
       "5      NaN          NaN       NaN        NaN         Gonja  \n",
       "6      NaN          NaN       NaN        NaN        Gurene  \n",
       "7      NaN          NaN       NaN        NaN         Kasem  \n",
       "8      NaN          NaN       NaN        NaN        Kusaal  \n",
       "9      NaN          NaN       NaN        NaN  Likpalkpaaln  \n",
       "\n",
       "[10 rows x 27 columns]"
      ]
     },
     "execution_count": 3,
     "metadata": {},
     "output_type": "execute_result"
    }
   ],
   "source": [
    "df.head(10)"
   ]
  },
  {
   "cell_type": "code",
   "execution_count": 4,
   "metadata": {},
   "outputs": [
    {
     "name": "stdout",
     "output_type": "stream",
     "text": [
      "Index(['IP', 'REGION', 'DISTRICT', 'COMMUNITY/CLASS', 'TYPE OF OOSC', 'SEX',\n",
      "       'AGE', 'DROP OUT (YES/NO)', 'WHICH QUARTER CHILD DROPPED',\n",
      "       'GRADUATED (YES/NO)', 'TRANSITIONED (YES/NO)', 'SCHOOL TRANSITIONED',\n",
      "       'CLASS PLACED IN', 'LANGUAGE', 'Unnamed: 14', 'Unnamed: 15', 'IP.1',\n",
      "       'Region', 'District', 'Type of OOSC', 'Sex', 'Age', 'Dropout',\n",
      "       'Quarter Drop', 'Graduated', 'Transition', 'Language'],\n",
      "      dtype='object')\n"
     ]
    }
   ],
   "source": [
    "print(df.columns)\n"
   ]
  },
  {
   "cell_type": "code",
   "execution_count": 5,
   "metadata": {},
   "outputs": [
    {
     "name": "stdout",
     "output_type": "stream",
     "text": [
      "       AGE        School Level\n",
      "0     13.0  Junior High School\n",
      "1     13.0  Junior High School\n",
      "2     11.0       Upper Primary\n",
      "3     12.0  Junior High School\n",
      "4     14.0  Junior High School\n",
      "...    ...                 ...\n",
      "1416   NaN        Out of range\n",
      "1417   NaN        Out of range\n",
      "1418   NaN        Out of range\n",
      "1419   NaN        Out of range\n",
      "1420   NaN        Out of range\n",
      "\n",
      "[1421 rows x 2 columns]\n"
     ]
    }
   ],
   "source": [
    "def categorize_age(age):\n",
    "    if 6 <= age <= 8:\n",
    "        return 'Lower Primary'\n",
    "    elif 9 <= age <= 11:\n",
    "        return 'Upper Primary'\n",
    "    elif 12 <= age <= 14:\n",
    "        return 'Junior High School'\n",
    "    else:\n",
    "        return 'Out of range'\n",
    "\n",
    "# Apply the function to the AGE column and create a new column\n",
    "df['School Level'] = df['AGE'].apply(categorize_age)\n",
    "\n",
    "# Check the DataFrame to see the new column\n",
    "print(df[['AGE', 'School Level']])\n"
   ]
  },
  {
   "cell_type": "code",
   "execution_count": 6,
   "metadata": {},
   "outputs": [
    {
     "data": {
      "image/png": "[encoded data removed]",
      "text/plain": [
       "<Figure size 800x600 with 1 Axes>"
      ]
     },
     "metadata": {},
     "output_type": "display_data"
    }
   ],
   "source": [
    "# Count the number of occurrences of each school level category\n",
    "school_level_counts = df['School Level'].value_counts()\n",
    "\n",
    "# Plot the counts as a bar chart\n",
    "plt.figure(figsize=(8, 6))\n",
    "school_level_counts.plot(kind='bar', color='blue')\n",
    "\n",
    "# Add title and labels\n",
    "plt.title('Number of Students by School Level per cycle', fontsize=16)\n",
    "plt.xlabel('School Level', fontsize=12)\n",
    "plt.ylabel('Number of Students', fontsize=12)\n",
    "\n",
    "# Show the plot\n",
    "plt.show()"
   ]
  },
  {
   "cell_type": "code",
   "execution_count": 7,
   "metadata": {},
   "outputs": [
    {
     "name": "stdout",
     "output_type": "stream",
     "text": [
      "count    1416.000000\n",
      "mean       11.360169\n",
      "std         1.946695\n",
      "min         8.000000\n",
      "25%        10.000000\n",
      "50%        12.000000\n",
      "75%        13.000000\n",
      "max        14.000000\n",
      "Name: AGE, dtype: float64\n"
     ]
    }
   ],
   "source": [
    "print(df['AGE'].describe())"
   ]
  },
  {
   "cell_type": "code",
   "execution_count": 8,
   "metadata": {},
   "outputs": [],
   "source": [
    "# Filter out 'Out of range' entries\n",
    "df_filtered = df[df['School Level'] != 'Out of range']\n"
   ]
  },
  {
   "cell_type": "code",
   "execution_count": 9,
   "metadata": {},
   "outputs": [
    {
     "data": {
      "image/png": "[encoded data removed]",
      "text/plain": [
       "<Figure size 800x600 with 1 Axes>"
      ]
     },
     "metadata": {},
     "output_type": "display_data"
    }
   ],
   "source": [
    "# Count the number of occurrences of each school level category in the filtered DataFrame\n",
    "school_level_counts = df_filtered['School Level'].value_counts()\n",
    "\n",
    "plt.figure(figsize=(8, 6))\n",
    "school_level_counts.plot(kind='bar', color='blue')\n",
    "\n",
    "# Add title and labels\n",
    "plt.title('Number of Students by School Level per cycle', fontsize=16)\n",
    "plt.xlabel('School Level', fontsize=12)\n",
    "plt.ylabel('Number of Students', fontsize=12)\n",
    "\n",
    "# Show the plot\n",
    "plt.show()\n"
   ]
  },
  {
   "cell_type": "code",
   "execution_count": 10,
   "metadata": {},
   "outputs": [
    {
     "name": "stdout",
     "output_type": "stream",
     "text": [
      "0        No\n",
      "1        No\n",
      "2        No\n",
      "3        No\n",
      "4        No\n",
      "       ... \n",
      "1416    NaN\n",
      "1417    NaN\n",
      "1418    NaN\n",
      "1419    NaN\n",
      "1420    NaN\n",
      "Name: DROP OUT (YES/NO), Length: 1421, dtype: object\n"
     ]
    }
   ],
   "source": [
    "intervention = df['DROP OUT (YES/NO)']\n",
    "print(intervention)"
   ]
  },
  {
   "cell_type": "code",
   "execution_count": 11,
   "metadata": {},
   "outputs": [
    {
     "name": "stdout",
     "output_type": "stream",
     "text": [
      "['No' 'Yes' 'YES' 'NO' nan]\n"
     ]
    }
   ],
   "source": [
    "# Get the unique/distinct values in the 'DROP OUT (YES/NO)' column\n",
    "intervention = df['DROP OUT (YES/NO)'].unique()\n",
    "\n",
    "# Print the unique values\n",
    "print(intervention)\n"
   ]
  },
  {
   "cell_type": "code",
   "execution_count": 12,
   "metadata": {},
   "outputs": [
    {
     "name": "stdout",
     "output_type": "stream",
     "text": [
      "['NO' 'YES' 'UNKNOWN']\n",
      "['YES' 'NO' 'UNKNOWN']\n"
     ]
    }
   ],
   "source": [
    "# Standardize values in the 'DROP OUT (YES/NO)' column by converting to uppercase\n",
    "df['DROP OUT (YES/NO)'] = df['DROP OUT (YES/NO)'].str.upper()\n",
    "\n",
    "# Optionally, you can fill missing values (NaN) with a default value (e.g., 'UNKNOWN' or any other appropriate value)\n",
    "df['DROP OUT (YES/NO)'] = df['DROP OUT (YES/NO)'].fillna('UNKNOWN')\n",
    "\n",
    "# Check the unique values after cleaning\n",
    "print(df['DROP OUT (YES/NO)'].unique())\n",
    "\n",
    "# Standardize values in the 'GRADUATED (YES/NO)' column by converting to uppercase\n",
    "df['GRADUATED (YES/NO)'] = df['GRADUATED (YES/NO)'].str.upper()\n",
    "\n",
    "# Optionally, fill missing values (NaN) with a default value (e.g., 'UNKNOWN' or another appropriate value)\n",
    "df['GRADUATED (YES/NO)'] = df['GRADUATED (YES/NO)'].fillna('UNKNOWN')\n",
    "\n",
    "# Check the unique values after cleaning\n",
    "print(df['GRADUATED (YES/NO)'].unique())\n",
    "\n"
   ]
  },
  {
   "cell_type": "code",
   "execution_count": 13,
   "metadata": {},
   "outputs": [
    {
     "name": "stdout",
     "output_type": "stream",
     "text": [
      "Ratio of 'YES' to 'NO': 0.14470493128536782\n"
     ]
    }
   ],
   "source": [
    "# Evaluating the CBE intervention\n",
    "dropout_counts = df['DROP OUT (YES/NO)'].value_counts()\n",
    "\n",
    "# Ensure both 'YES' and 'NO' exist in the counts\n",
    "if 'YES' in dropout_counts and 'NO' in dropout_counts:\n",
    "    dropout_ratio = dropout_counts['YES'] / dropout_counts['NO']\n",
    "    print(f\"Ratio of 'YES' to 'NO': {dropout_ratio}\")\n",
    "else:\n",
    "    print(\"Either 'YES' or 'NO' values are missing in the data.\")\n"
   ]
  },
  {
   "cell_type": "code",
   "execution_count": 14,
   "metadata": {},
   "outputs": [
    {
     "name": "stdout",
     "output_type": "stream",
     "text": [
      "Percentage of students who graduated (YES): 84.39%\n",
      "Percentage of students who did not graduate (NO): 15.61%\n"
     ]
    }
   ],
   "source": [
    "# Count the number of 'YES' and 'NO' in the 'GRADUATED (YES/NO)' column\n",
    "graduation_count = df['GRADUATED (YES/NO)'].value_counts()\n",
    "\n",
    "# Calculate the total number of students\n",
    "total_students = graduation_count['YES'] + graduation_count['NO']\n",
    "\n",
    "# Calculate the percentage of 'YES' (graduated) students\n",
    "graduated_percentage = (graduation_count['YES'] / total_students) * 100\n",
    "\n",
    "# Calculate the percentage of 'NO' (not graduated) students\n",
    "not_graduated_percentage = (graduation_count['NO'] / total_students) * 100\n",
    "\n",
    "# Print the percentages\n",
    "print(f\"Percentage of students who graduated (YES): {graduated_percentage:.2f}%\")\n",
    "print(f\"Percentage of students who did not graduate (NO): {not_graduated_percentage:.2f}%\")\n"
   ]
  },
  {
   "cell_type": "code",
   "execution_count": 18,
   "metadata": {},
   "outputs": [
    {
     "data": {
      "image/png": "[encoded data removed]",
      "text/plain": [
       "<Figure size 700x700 with 1 Axes>"
      ]
     },
     "metadata": {},
     "output_type": "display_data"
    }
   ],
   "source": [
    "# Data for pie chart\n",
    "labels = ['Graduated', 'Not Graduated']\n",
    "sizes = [graduated_percentage, not_graduated_percentage]\n",
    "colors = ['green', 'red']\n",
    "\n",
    "# Create a pie chart without labels\n",
    "plt.figure(figsize=(7, 7))  # Set the figure size\n",
    "patches, texts, autotexts = plt.pie(sizes, autopct='%1.1f%%', colors=colors, startangle=90)\n",
    "\n",
    "# Add a legend (without labels on the pie slices)\n",
    "plt.legend(patches, labels, title=\"Graduation Status\", loc=\"best\")\n",
    "\n",
    "# Equal aspect ratio ensures that the pie chart is drawn as a circle\n",
    "plt.axis('equal')\n",
    "\n",
    "# Add title\n",
    "plt.title('Graduation Status')\n",
    "\n",
    "# Show the plot\n",
    "plt.show()"
   ]
  }
 ],
 "metadata": {
  "kernelspec": {
   "display_name": "DFG_environment",
   "language": "python",
   "name": "python3"
  },
  "language_info": {
   "codemirror_mode": {
    "name": "ipython",
    "version": 3
   },
   "file_extension": ".py",
   "mimetype": "text/x-python",
   "name": "python",
   "nbconvert_exporter": "python",
   "pygments_lexer": "ipython3",
   "version": "3.11.4"
  }
 },
 "nbformat": 4,
 "nbformat_minor": 2
}
