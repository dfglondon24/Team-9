{
 "cells": [
  {
   "cell_type": "code",
   "execution_count": 6,
   "metadata": {},
   "outputs": [
    {
     "name": "stdout",
     "output_type": "stream",
     "text": [
      "Percentage of students who graduated (YES): 96.72%\n",
      "Percentage of students who did not graduate (NO): 3.28%\n"
     ]
    }
   ],
   "source": [
    "import pandas as pd\n",
    "\n",
    "# Load all datasets\n",
    "df1 = pd.read_excel(\"/Users/paulmuchembled/Desktop/afrikids.xls\", sheet_name=\"Learner Data Template\")\n",
    "df2 = pd.read_excel(\"/Users/paulmuchembled/Desktop/afrikids2.xls\", sheet_name=\"Learner Data Template\")\n",
    "df3 = pd.read_excel(\"/Users/paulmuchembled/Desktop/afrikids3.xlsx\", sheet_name=\"Learner Data Template\")\n",
    "df4 = pd.read_excel(\"/Users/paulmuchembled/Desktop/afrikids4.xls\", sheet_name=\"Learner Data Template\")\n",
    "df5 = pd.read_excel(\"/Users/paulmuchembled/Desktop/afrikids5.xls\", sheet_name=\"Learner \")\n",
    "\n",
    "# Combine the 'GRADUATED (YES/NO)' columns from all datasets into one DataFrame\n",
    "graduated_combined = pd.concat([df1['GRADUATED (YES/NO)'], \n",
    "                                df2['GRADUATED (YES/NO)'], \n",
    "                                df3['GRADUATED (YES/NO)'], \n",
    "                                df4['GRADUATED (YES/NO)'], \n",
    "                                df5['GRADUATED (YES/NO)']], axis=0)\n",
    "\n",
    "# Standardize the values (if needed)\n",
    "graduated_combined = graduated_combined.str.upper().fillna('UNKNOWN')\n",
    "\n",
    "# Calculate the value counts of 'YES' and 'NO'\n",
    "graduation_count = graduated_combined.value_counts()\n",
    "\n",
    "# Calculate total entries\n",
    "total_graduates = graduation_count['YES'] + graduation_count['NO']\n",
    "\n",
    "# Calculate the percentage of 'YES' and 'NO'\n",
    "graduated_percentage = (graduation_count['YES'] / total_graduates) * 100\n",
    "not_graduated_percentage = (graduation_count['NO'] / total_graduates) * 100\n",
    "\n",
    "# Print the results\n",
    "print(f\"Percentage of students who graduated (YES): {graduated_percentage:.2f}%\")\n",
    "print(f\"Percentage of students who did not graduate (NO): {not_graduated_percentage:.2f}%\")\n"
   ]
  },
  {
   "cell_type": "code",
   "execution_count": 5,
   "metadata": {},
   "outputs": [
    {
     "name": "stdout",
     "output_type": "stream",
     "text": [
      "Dataset 1:\n",
      "  Percentage of students who graduated (YES): 84.39%\n",
      "  Percentage of students who did not graduate (NO): 15.61%\n",
      "\n",
      "Dataset 2:\n",
      "  Percentage of students who graduated (YES): 95.41%\n",
      "  Percentage of students who did not graduate (NO): 4.59%\n",
      "\n",
      "Dataset 3:\n",
      "  Percentage of students who graduated (YES): 98.27%\n",
      "  Percentage of students who did not graduate (NO): 1.73%\n",
      "\n",
      "Dataset 4:\n",
      "  Percentage of students who graduated (YES): 98.63%\n",
      "  Percentage of students who did not graduate (NO): 1.37%\n",
      "\n",
      "Dataset 5:\n",
      "  Percentage of students who graduated (YES): 97.74%\n",
      "  Percentage of students who did not graduate (NO): 2.26%\n",
      "\n",
      "Dataset 1:\n",
      "  Percentage of students who graduated (YES): 84.39%\n",
      "  Percentage of students who did not graduate (NO): 15.61%\n",
      "\n",
      "Dataset 2:\n",
      "  Percentage of students who graduated (YES): 95.41%\n",
      "  Percentage of students who did not graduate (NO): 4.59%\n",
      "\n",
      "Dataset 3:\n",
      "  Percentage of students who graduated (YES): 98.27%\n",
      "  Percentage of students who did not graduate (NO): 1.73%\n",
      "\n",
      "Dataset 4:\n",
      "  Percentage of students who graduated (YES): 98.63%\n",
      "  Percentage of students who did not graduate (NO): 1.37%\n",
      "\n",
      "Dataset 5:\n",
      "  Percentage of students who graduated (YES): 97.74%\n",
      "  Percentage of students who did not graduate (NO): 2.26%\n",
      "\n",
      "Combined Dataset:\n",
      "  Percentage of students who graduated (YES): 96.72%\n",
      "  Percentage of students who did not graduate (NO): 3.28%\n"
     ]
    }
   ],
   "source": [
    "import pandas as pd\n",
    "import matplotlib.pyplot as plt\n",
    "\n",
    "# Load all datasets\n",
    "df1 = pd.read_excel(\"/Users/paulmuchembled/Desktop/afrikids.xls\", sheet_name=\"Learner Data Template\")\n",
    "df2 = pd.read_excel(\"/Users/paulmuchembled/Desktop/afrikids2.xls\", sheet_name=\"Learner Data Template\")\n",
    "df3 = pd.read_excel(\"/Users/paulmuchembled/Desktop/afrikids3.xlsx\", sheet_name=\"Learner Data Template\")\n",
    "df4 = pd.read_excel(\"/Users/paulmuchembled/Desktop/afrikids4.xls\", sheet_name=\"Learner Data Template\")\n",
    "df5 = pd.read_excel(\"/Users/paulmuchembled/Desktop/afrikids5.xls\", sheet_name=\"Learner \")\n",
    "\n",
    "# List of all DataFrames\n",
    "dfs = [df1, df2, df3, df4, df5]\n",
    "\n",
    "# Function to calculate graduation rate\n",
    "def calculate_graduation_rate(df, df_name):\n",
    "    graduation_count = df['GRADUATED (YES/NO)'].str.upper().fillna('UNKNOWN').value_counts()\n",
    "    total_students = graduation_count.get('YES', 0) + graduation_count.get('NO', 0)\n",
    "    \n",
    "    if total_students == 0:\n",
    "        print(f\"{df_name}: No data available for calculation\")\n",
    "        return None\n",
    "    \n",
    "    graduated_percentage = (graduation_count.get('YES', 0) / total_students) * 100\n",
    "    not_graduated_percentage = (graduation_count.get('NO', 0) / total_students) * 100\n",
    "    \n",
    "    print(f\"{df_name}:\\n  Percentage of students who graduated (YES): {graduated_percentage:.2f}%\")\n",
    "    print(f\"  Percentage of students who did not graduate (NO): {not_graduated_percentage:.2f}%\\n\")\n",
    "    \n",
    "    return df['GRADUATED (YES/NO)'].str.upper()\n",
    "\n",
    "# Calculate stats for each individual dataset\n",
    "for i, df in enumerate(dfs, start=1):\n",
    "    calculate_graduation_rate(df, f'Dataset {i}')\n",
    "\n",
    "# Combine the 'GRADUATED (YES/NO)' columns from all datasets into one combined series\n",
    "graduated_combined = pd.concat([calculate_graduation_rate(df, f'Dataset {i}') for i, df in enumerate(dfs, start=1)], axis=0)\n",
    "\n",
    "# Calculate stats for the combined dataset\n",
    "graduation_count_combined = graduated_combined.value_counts()\n",
    "total_graduates_combined = graduation_count_combined.get('YES', 0) + graduation_count_combined.get('NO', 0)\n",
    "\n",
    "# Calculate the percentage of 'YES' and 'NO' for the combined dataset\n",
    "graduated_percentage_combined = (graduation_count_combined.get('YES', 0) / total_graduates_combined) * 100\n",
    "not_graduated_percentage_combined = (graduation_count_combined.get('NO', 0) / total_graduates_combined) * 100\n",
    "\n",
    "# Print the results for the combined dataset\n",
    "print(f\"Combined Dataset:\\n  Percentage of students who graduated (YES): {graduated_percentage_combined:.2f}%\")\n",
    "print(f\"  Percentage of students who did not graduate (NO): {not_graduated_percentage_combined:.2f}%\")\n"
   ]
  },
  {
   "cell_type": "code",
   "execution_count": 10,
   "metadata": {},
   "outputs": [
    {
     "data": {
      "image/png": "[encoded data removed]",
      "text/plain": [
       "<Figure size 800x600 with 1 Axes>"
      ]
     },
     "metadata": {},
     "output_type": "display_data"
    }
   ],
   "source": [
    "# Function to calculate graduation rate\n",
    "def calculate_graduation_rate(df):\n",
    "    graduation_count = df['GRADUATED (YES/NO)'].str.upper().fillna('UNKNOWN').value_counts()\n",
    "    total_students = graduation_count.get('YES', 0) + graduation_count.get('NO', 0)\n",
    "    if total_students == 0:\n",
    "        return None\n",
    "    graduated_percentage = (graduation_count.get('YES', 0) / total_students) * 100\n",
    "    return graduated_percentage\n",
    "\n",
    "# Collect graduation rates for each dataset\n",
    "graduation_rates = []\n",
    "for i, df in enumerate(dfs, start=1):\n",
    "    grad_rate = calculate_graduation_rate(df)\n",
    "    if grad_rate is not None:\n",
    "        graduation_rates.append(grad_rate)\n",
    "\n",
    "# Plot the bar chart\n",
    "cycle_labels = [f'Cycle {i}' for i in range(1, len(graduation_rates) + 1)]\n",
    "\n",
    "plt.figure(figsize=(8, 6))\n",
    "plt.bar(cycle_labels, graduation_rates, color='blue')\n",
    "\n",
    "# Add title and labels\n",
    "plt.title('Graduation Rates by Cycle', fontsize=16)\n",
    "plt.xlabel('Cycle', fontsize=12)\n",
    "plt.ylabel('Graduation Rate (%)', fontsize=12)\n",
    "\n",
    "# Show the plot\n",
    "plt.show()"
   ]
  }
 ],
 "metadata": {
  "kernelspec": {
   "display_name": "DFG_environment",
   "language": "python",
   "name": "python3"
  },
  "language_info": {
   "codemirror_mode": {
    "name": "ipython",
    "version": 3
   },
   "file_extension": ".py",
   "mimetype": "text/x-python",
   "name": "python",
   "nbconvert_exporter": "python",
   "pygments_lexer": "ipython3",
   "version": "3.11.4"
  }
 },
 "nbformat": 4,
 "nbformat_minor": 2
}
