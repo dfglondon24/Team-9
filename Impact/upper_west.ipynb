{
 "cells": [
  {
   "cell_type": "code",
   "execution_count": 1,
   "metadata": {
    "collapsed": true
   },
   "outputs": [],
   "source": [
    "import pandas as pd\n",
    "pd.set_option('display.max_columns', None)\n",
    "import plotly.express as px\n",
    "pd.set_option('display.max_rows', None)\n",
    "pd.set_option('display.max_columns', None)"
   ]
  },
  {
   "cell_type": "code",
   "execution_count": 2,
   "metadata": {
    "collapsed": false
   },
   "outputs": [],
   "source": [
    "df10 = pd.read_csv('ext_data/edu2.csv')\n",
    "df21 = pd.read_csv('ext_data/edu1.csv')"
   ]
  },
  {
   "cell_type": "markdown",
   "metadata": {
    "collapsed": false
   },
   "source": []
  },
  {
   "cell_type": "code",
   "execution_count": 3,
   "metadata": {
    "collapsed": false
   },
   "outputs": [],
   "source": [
    "df21 = df21.rename(columns={\n",
    "    \"Schoolattendancestatus\": \"School_Attendance\",\n",
    "})\n",
    "df10 = df10.rename(columns={\n",
    "    \"Geographical_Area\": \"Geographic_Area\",\n",
    "})"
   ]
  },
  {
   "cell_type": "code",
   "execution_count": 4,
   "metadata": {
    "collapsed": false
   },
   "outputs": [],
   "source": [
    "cols = list(df10.columns)  # Get a list of the current column names\n",
    "col1_index, col2_index = cols.index('Geographic_Area'), cols.index('School_Attendance')\n",
    "cols[col1_index], cols[col2_index] = cols[col2_index], cols[col1_index]\n",
    "df10 = df10[cols]"
   ]
  },
  {
   "cell_type": "code",
   "execution_count": 5,
   "metadata": {
    "collapsed": false
   },
   "outputs": [
    {
     "name": "stderr",
     "output_type": "stream",
     "text": [
      "/tmp/ipykernel_67088/2679132477.py:8: FutureWarning: DataFrame.applymap has been deprecated. Use DataFrame.map instead.\n",
      "  df10 = df10.applymap(clean_entry)\n"
     ]
    }
   ],
   "source": [
    "# Function to remove quotes and strip spaces from each entry\n",
    "def clean_entry(entry):\n",
    "    if isinstance(entry, str):  # Only apply to strings\n",
    "        return entry.replace('Attended in the Past', 'Attended in the past').strip()\n",
    "    return entry  # Return non-string entries unchanged\n",
    "\n",
    "# Apply the clean_entry function to each element in the DataFrame\n",
    "df10 = df10.applymap(clean_entry)"
   ]
  },
  {
   "cell_type": "code",
   "execution_count": 6,
   "metadata": {
    "collapsed": false
   },
   "outputs": [
    {
     "name": "stderr",
     "output_type": "stream",
     "text": [
      "/tmp/ipykernel_67088/2396353698.py:8: FutureWarning: DataFrame.applymap has been deprecated. Use DataFrame.map instead.\n",
      "  df10 = df10.applymap(clean_entry)\n"
     ]
    }
   ],
   "source": [
    "# Function to remove quotes and strip spaces from each entry\n",
    "def clean_entry(entry):\n",
    "    if isinstance(entry, str):  # Only apply to strings\n",
    "        return entry.replace('Currently Attending', 'Attending now').strip()\n",
    "    return entry  # Return non-string entries unchanged\n",
    "\n",
    "# Apply the clean_entry function to each element in the DataFrame\n",
    "df10 = df10.applymap(clean_entry)"
   ]
  },
  {
   "cell_type": "code",
   "execution_count": 7,
   "metadata": {
    "collapsed": false
   },
   "outputs": [
    {
     "name": "stderr",
     "output_type": "stream",
     "text": [
      "/tmp/ipykernel_67088/1097454991.py:8: FutureWarning: DataFrame.applymap has been deprecated. Use DataFrame.map instead.\n",
      "  df10 = df10.applymap(clean_entry)\n"
     ]
    }
   ],
   "source": [
    "# Function to remove quotes and strip spaces from each entry\n",
    "def clean_entry(entry):\n",
    "    if isinstance(entry, str):  # Only apply to strings\n",
    "        return entry.replace('Never attended School', 'Never attended').strip()\n",
    "    return entry  # Return non-string entries unchanged\n",
    "\n",
    "# Apply the clean_entry function to each element in the DataFrame\n",
    "df10 = df10.applymap(clean_entry)"
   ]
  },
  {
   "cell_type": "code",
   "execution_count": 8,
   "metadata": {
    "collapsed": false
   },
   "outputs": [],
   "source": [
    "def count_attendees(df):\n",
    "    regions = df['Geographic_Area'].unique()\n",
    "\n",
    "    # Initialize an empty list to store the new rows\n",
    "    new_rows = []\n",
    "\n",
    "    # Loop through each region and calculate totals\n",
    "    for region in regions:\n",
    "        region_data = df[(df['Geographic_Area'] == region) & (df['Sex'] == 'Both sexes')]\n",
    "        attended_now_or_past = region_data[region_data['School_Attendance'].isin(['Attending now'])]\n",
    "        never_attended = region_data[region_data['School_Attendance'] == 'Never attended']\n",
    "\n",
    "        attended_total = attended_now_or_past.iloc[:, 4:].sum(numeric_only=True)\n",
    "\n",
    "        never_attended_total = never_attended.iloc[:, 4:].sum(numeric_only=True)\n",
    "\n",
    "        attended_row = pd.Series(['Attended', region, 'Total', 'Total'] + attended_total.tolist(), index=df.columns)\n",
    "\n",
    "        never_attended_row = pd.Series(['Never attended', region, 'Total', 'Total'] + never_attended_total.tolist(), index=df.columns)\n",
    "\n",
    "        new_rows.append(attended_row)\n",
    "        new_rows.append(never_attended_row)\n",
    "\n",
    "    new_rows_df = pd.DataFrame(new_rows)\n",
    "    df = pd.concat([df, new_rows_df], ignore_index=True)\n",
    "    return df"
   ]
  },
  {
   "cell_type": "code",
   "execution_count": 9,
   "metadata": {
    "collapsed": false
   },
   "outputs": [],
   "source": [
    "df10 = df10[(df10['Sex'] != 'Total') & (df10['Locality'] != 'Total')]\n",
    "df21 = df21[(df21['Sex'] != 'Total') & (df21['Locality'] != 'Total')]"
   ]
  },
  {
   "cell_type": "code",
   "execution_count": 10,
   "metadata": {
    "collapsed": false
   },
   "outputs": [],
   "source": [
    "df10 = count_attendees(df10)\n",
    "df21 = count_attendees(df21)"
   ]
  },
  {
   "cell_type": "code",
   "execution_count": 11,
   "metadata": {
    "collapsed": false
   },
   "outputs": [
    {
     "data": {
      "text/html": [
       "<div>\n",
       "<style scoped>\n",
       "    .dataframe tbody tr th:only-of-type {\n",
       "        vertical-align: middle;\n",
       "    }\n",
       "\n",
       "    .dataframe tbody tr th {\n",
       "        vertical-align: top;\n",
       "    }\n",
       "\n",
       "    .dataframe thead th {\n",
       "        text-align: right;\n",
       "    }\n",
       "</style>\n",
       "<table border=\"1\" class=\"dataframe\">\n",
       "  <thead>\n",
       "    <tr style=\"text-align: right;\">\n",
       "      <th></th>\n",
       "      <th>School_Attendance</th>\n",
       "      <th>Geographic_Area</th>\n",
       "      <th>Locality</th>\n",
       "      <th>Sex</th>\n",
       "      <th>All ages</th>\n",
       "      <th>3-5</th>\n",
       "      <th>6-10</th>\n",
       "      <th>11-14</th>\n",
       "      <th>15-19</th>\n",
       "      <th>20-24</th>\n",
       "      <th>25-29</th>\n",
       "      <th>30-34</th>\n",
       "      <th>35-39</th>\n",
       "      <th>40-44</th>\n",
       "    </tr>\n",
       "  </thead>\n",
       "  <tbody>\n",
       "  </tbody>\n",
       "</table>\n",
       "</div>"
      ],
      "text/plain": [
       "Empty DataFrame\n",
       "Columns: [School_Attendance, Geographic_Area, Locality, Sex, All ages, 3-5, 6-10, 11-14, 15-19, 20-24, 25-29, 30-34, 35-39, 40-44]\n",
       "Index: []"
      ]
     },
     "execution_count": 11,
     "metadata": {},
     "output_type": "execute_result"
    }
   ],
   "source": [
    "df21[df21[\"Geographic_Area\"]==\"Bongo\"]"
   ]
  },
  {
   "cell_type": "code",
   "execution_count": 23,
   "metadata": {
    "collapsed": false
   },
   "outputs": [
    {
     "data": {
      "text/html": [
       "<div>\n",
       "<style scoped>\n",
       "    .dataframe tbody tr th:only-of-type {\n",
       "        vertical-align: middle;\n",
       "    }\n",
       "\n",
       "    .dataframe tbody tr th {\n",
       "        vertical-align: top;\n",
       "    }\n",
       "\n",
       "    .dataframe thead th {\n",
       "        text-align: right;\n",
       "    }\n",
       "</style>\n",
       "<table border=\"1\" class=\"dataframe\">\n",
       "  <thead>\n",
       "    <tr style=\"text-align: right;\">\n",
       "      <th></th>\n",
       "      <th>School_Attendance</th>\n",
       "      <th>Geographic_Area</th>\n",
       "      <th>Locality</th>\n",
       "      <th>Sex</th>\n",
       "      <th>All ages</th>\n",
       "      <th>3-5</th>\n",
       "      <th>6-10</th>\n",
       "      <th>11-14</th>\n",
       "      <th>15-19</th>\n",
       "      <th>20-24</th>\n",
       "      <th>25-29</th>\n",
       "      <th>30-34</th>\n",
       "      <th>35-39</th>\n",
       "      <th>40-44</th>\n",
       "    </tr>\n",
       "  </thead>\n",
       "  <tbody>\n",
       "    <tr>\n",
       "      <th>0</th>\n",
       "      <td>Attended in the past</td>\n",
       "      <td>Ghana</td>\n",
       "      <td>All locality types</td>\n",
       "      <td>Both sexes</td>\n",
       "      <td>11375502</td>\n",
       "      <td>0</td>\n",
       "      <td>26117</td>\n",
       "      <td>59730</td>\n",
       "      <td>542151</td>\n",
       "      <td>1661537</td>\n",
       "      <td>1923249</td>\n",
       "      <td>1725033</td>\n",
       "      <td>1448599</td>\n",
       "      <td>1059990</td>\n",
       "    </tr>\n",
       "    <tr>\n",
       "      <th>1</th>\n",
       "      <td>Attended in the past</td>\n",
       "      <td>Ghana</td>\n",
       "      <td>All locality types</td>\n",
       "      <td>Male</td>\n",
       "      <td>5879519</td>\n",
       "      <td>0</td>\n",
       "      <td>14129</td>\n",
       "      <td>31178</td>\n",
       "      <td>246478</td>\n",
       "      <td>778862</td>\n",
       "      <td>940458</td>\n",
       "      <td>883257</td>\n",
       "      <td>761562</td>\n",
       "      <td>587029</td>\n",
       "    </tr>\n",
       "    <tr>\n",
       "      <th>2</th>\n",
       "      <td>Attended in the past</td>\n",
       "      <td>Ghana</td>\n",
       "      <td>All locality types</td>\n",
       "      <td>Female</td>\n",
       "      <td>5495983</td>\n",
       "      <td>0</td>\n",
       "      <td>11988</td>\n",
       "      <td>28552</td>\n",
       "      <td>295673</td>\n",
       "      <td>882675</td>\n",
       "      <td>982791</td>\n",
       "      <td>841776</td>\n",
       "      <td>687037</td>\n",
       "      <td>472961</td>\n",
       "    </tr>\n",
       "    <tr>\n",
       "      <th>3</th>\n",
       "      <td>Attended in the past</td>\n",
       "      <td>Upper West</td>\n",
       "      <td>All locality types</td>\n",
       "      <td>Both sexes</td>\n",
       "      <td>178536</td>\n",
       "      <td>0</td>\n",
       "      <td>1380</td>\n",
       "      <td>3330</td>\n",
       "      <td>15715</td>\n",
       "      <td>36926</td>\n",
       "      <td>38909</td>\n",
       "      <td>27170</td>\n",
       "      <td>18673</td>\n",
       "      <td>11834</td>\n",
       "    </tr>\n",
       "    <tr>\n",
       "      <th>4</th>\n",
       "      <td>Attended in the past</td>\n",
       "      <td>Upper West</td>\n",
       "      <td>All locality types</td>\n",
       "      <td>Male</td>\n",
       "      <td>97276</td>\n",
       "      <td>0</td>\n",
       "      <td>817</td>\n",
       "      <td>1885</td>\n",
       "      <td>7504</td>\n",
       "      <td>16652</td>\n",
       "      <td>20015</td>\n",
       "      <td>15697</td>\n",
       "      <td>11191</td>\n",
       "      <td>7490</td>\n",
       "    </tr>\n",
       "    <tr>\n",
       "      <th>5</th>\n",
       "      <td>Attended in the past</td>\n",
       "      <td>Upper West</td>\n",
       "      <td>All locality types</td>\n",
       "      <td>Female</td>\n",
       "      <td>81260</td>\n",
       "      <td>0</td>\n",
       "      <td>563</td>\n",
       "      <td>1445</td>\n",
       "      <td>8211</td>\n",
       "      <td>20274</td>\n",
       "      <td>18894</td>\n",
       "      <td>11473</td>\n",
       "      <td>7482</td>\n",
       "      <td>4344</td>\n",
       "    </tr>\n",
       "    <tr>\n",
       "      <th>6</th>\n",
       "      <td>Attended in the past</td>\n",
       "      <td>Sissala East Municipal</td>\n",
       "      <td>All locality types</td>\n",
       "      <td>Both sexes</td>\n",
       "      <td>13905</td>\n",
       "      <td>0</td>\n",
       "      <td>56</td>\n",
       "      <td>162</td>\n",
       "      <td>1099</td>\n",
       "      <td>3137</td>\n",
       "      <td>3261</td>\n",
       "      <td>2219</td>\n",
       "      <td>1441</td>\n",
       "      <td>871</td>\n",
       "    </tr>\n",
       "    <tr>\n",
       "      <th>7</th>\n",
       "      <td>Attended in the past</td>\n",
       "      <td>Sissala East Municipal</td>\n",
       "      <td>All locality types</td>\n",
       "      <td>Male</td>\n",
       "      <td>7169</td>\n",
       "      <td>0</td>\n",
       "      <td>36</td>\n",
       "      <td>113</td>\n",
       "      <td>502</td>\n",
       "      <td>1297</td>\n",
       "      <td>1506</td>\n",
       "      <td>1235</td>\n",
       "      <td>845</td>\n",
       "      <td>524</td>\n",
       "    </tr>\n",
       "    <tr>\n",
       "      <th>8</th>\n",
       "      <td>Attended in the past</td>\n",
       "      <td>Sissala East Municipal</td>\n",
       "      <td>All locality types</td>\n",
       "      <td>Female</td>\n",
       "      <td>6736</td>\n",
       "      <td>0</td>\n",
       "      <td>20</td>\n",
       "      <td>49</td>\n",
       "      <td>597</td>\n",
       "      <td>1840</td>\n",
       "      <td>1755</td>\n",
       "      <td>984</td>\n",
       "      <td>596</td>\n",
       "      <td>347</td>\n",
       "    </tr>\n",
       "    <tr>\n",
       "      <th>9</th>\n",
       "      <td>Attended in the past</td>\n",
       "      <td>Sissala West</td>\n",
       "      <td>All locality types</td>\n",
       "      <td>Both sexes</td>\n",
       "      <td>10061</td>\n",
       "      <td>0</td>\n",
       "      <td>78</td>\n",
       "      <td>180</td>\n",
       "      <td>1070</td>\n",
       "      <td>2541</td>\n",
       "      <td>2550</td>\n",
       "      <td>1464</td>\n",
       "      <td>811</td>\n",
       "      <td>468</td>\n",
       "    </tr>\n",
       "    <tr>\n",
       "      <th>10</th>\n",
       "      <td>Attended in the past</td>\n",
       "      <td>Sissala West</td>\n",
       "      <td>All locality types</td>\n",
       "      <td>Male</td>\n",
       "      <td>5587</td>\n",
       "      <td>0</td>\n",
       "      <td>45</td>\n",
       "      <td>104</td>\n",
       "      <td>555</td>\n",
       "      <td>1172</td>\n",
       "      <td>1320</td>\n",
       "      <td>890</td>\n",
       "      <td>539</td>\n",
       "      <td>312</td>\n",
       "    </tr>\n",
       "    <tr>\n",
       "      <th>11</th>\n",
       "      <td>Attended in the past</td>\n",
       "      <td>Sissala West</td>\n",
       "      <td>All locality types</td>\n",
       "      <td>Female</td>\n",
       "      <td>4474</td>\n",
       "      <td>0</td>\n",
       "      <td>33</td>\n",
       "      <td>76</td>\n",
       "      <td>515</td>\n",
       "      <td>1369</td>\n",
       "      <td>1230</td>\n",
       "      <td>574</td>\n",
       "      <td>272</td>\n",
       "      <td>156</td>\n",
       "    </tr>\n",
       "    <tr>\n",
       "      <th>12</th>\n",
       "      <td>Attending now</td>\n",
       "      <td>Ghana</td>\n",
       "      <td>All locality types</td>\n",
       "      <td>Both sexes</td>\n",
       "      <td>11286990</td>\n",
       "      <td>1774472</td>\n",
       "      <td>3333314</td>\n",
       "      <td>2411728</td>\n",
       "      <td>2494708</td>\n",
       "      <td>862675</td>\n",
       "      <td>229280</td>\n",
       "      <td>96725</td>\n",
       "      <td>45514</td>\n",
       "      <td>20586</td>\n",
       "    </tr>\n",
       "    <tr>\n",
       "      <th>13</th>\n",
       "      <td>Attending now</td>\n",
       "      <td>Ghana</td>\n",
       "      <td>All locality types</td>\n",
       "      <td>Male</td>\n",
       "      <td>5798519</td>\n",
       "      <td>896045</td>\n",
       "      <td>1692817</td>\n",
       "      <td>1219393</td>\n",
       "      <td>1271520</td>\n",
       "      <td>483356</td>\n",
       "      <td>129475</td>\n",
       "      <td>55933</td>\n",
       "      <td>26198</td>\n",
       "      <td>12472</td>\n",
       "    </tr>\n",
       "    <tr>\n",
       "      <th>14</th>\n",
       "      <td>Attending now</td>\n",
       "      <td>Ghana</td>\n",
       "      <td>All locality types</td>\n",
       "      <td>Female</td>\n",
       "      <td>5488471</td>\n",
       "      <td>878427</td>\n",
       "      <td>1640497</td>\n",
       "      <td>1192335</td>\n",
       "      <td>1223188</td>\n",
       "      <td>379319</td>\n",
       "      <td>99805</td>\n",
       "      <td>40792</td>\n",
       "      <td>19316</td>\n",
       "      <td>8114</td>\n",
       "    </tr>\n",
       "    <tr>\n",
       "      <th>15</th>\n",
       "      <td>Attending now</td>\n",
       "      <td>Upper West</td>\n",
       "      <td>All locality types</td>\n",
       "      <td>Both sexes</td>\n",
       "      <td>324667</td>\n",
       "      <td>47584</td>\n",
       "      <td>94889</td>\n",
       "      <td>67584</td>\n",
       "      <td>69672</td>\n",
       "      <td>30776</td>\n",
       "      <td>8496</td>\n",
       "      <td>3193</td>\n",
       "      <td>1467</td>\n",
       "      <td>565</td>\n",
       "    </tr>\n",
       "    <tr>\n",
       "      <th>16</th>\n",
       "      <td>Attending now</td>\n",
       "      <td>Upper West</td>\n",
       "      <td>All locality types</td>\n",
       "      <td>Male</td>\n",
       "      <td>166979</td>\n",
       "      <td>23711</td>\n",
       "      <td>47856</td>\n",
       "      <td>34008</td>\n",
       "      <td>35205</td>\n",
       "      <td>17779</td>\n",
       "      <td>4918</td>\n",
       "      <td>1924</td>\n",
       "      <td>884</td>\n",
       "      <td>380</td>\n",
       "    </tr>\n",
       "    <tr>\n",
       "      <th>17</th>\n",
       "      <td>Attending now</td>\n",
       "      <td>Upper West</td>\n",
       "      <td>All locality types</td>\n",
       "      <td>Female</td>\n",
       "      <td>157688</td>\n",
       "      <td>23873</td>\n",
       "      <td>47033</td>\n",
       "      <td>33576</td>\n",
       "      <td>34467</td>\n",
       "      <td>12997</td>\n",
       "      <td>3578</td>\n",
       "      <td>1269</td>\n",
       "      <td>583</td>\n",
       "      <td>185</td>\n",
       "    </tr>\n",
       "    <tr>\n",
       "      <th>18</th>\n",
       "      <td>Attending now</td>\n",
       "      <td>Sissala East Municipal</td>\n",
       "      <td>All locality types</td>\n",
       "      <td>Both sexes</td>\n",
       "      <td>27312</td>\n",
       "      <td>4152</td>\n",
       "      <td>8159</td>\n",
       "      <td>5289</td>\n",
       "      <td>5968</td>\n",
       "      <td>2480</td>\n",
       "      <td>711</td>\n",
       "      <td>311</td>\n",
       "      <td>137</td>\n",
       "      <td>55</td>\n",
       "    </tr>\n",
       "    <tr>\n",
       "      <th>19</th>\n",
       "      <td>Attending now</td>\n",
       "      <td>Sissala East Municipal</td>\n",
       "      <td>All locality types</td>\n",
       "      <td>Male</td>\n",
       "      <td>13701</td>\n",
       "      <td>2064</td>\n",
       "      <td>4085</td>\n",
       "      <td>2573</td>\n",
       "      <td>2992</td>\n",
       "      <td>1343</td>\n",
       "      <td>336</td>\n",
       "      <td>173</td>\n",
       "      <td>69</td>\n",
       "      <td>38</td>\n",
       "    </tr>\n",
       "    <tr>\n",
       "      <th>20</th>\n",
       "      <td>Attending now</td>\n",
       "      <td>Sissala East Municipal</td>\n",
       "      <td>All locality types</td>\n",
       "      <td>Female</td>\n",
       "      <td>13611</td>\n",
       "      <td>2088</td>\n",
       "      <td>4074</td>\n",
       "      <td>2716</td>\n",
       "      <td>2976</td>\n",
       "      <td>1137</td>\n",
       "      <td>375</td>\n",
       "      <td>138</td>\n",
       "      <td>68</td>\n",
       "      <td>17</td>\n",
       "    </tr>\n",
       "    <tr>\n",
       "      <th>21</th>\n",
       "      <td>Attending now</td>\n",
       "      <td>Sissala West</td>\n",
       "      <td>All locality types</td>\n",
       "      <td>Both sexes</td>\n",
       "      <td>23202</td>\n",
       "      <td>3693</td>\n",
       "      <td>7558</td>\n",
       "      <td>4980</td>\n",
       "      <td>4684</td>\n",
       "      <td>1655</td>\n",
       "      <td>406</td>\n",
       "      <td>142</td>\n",
       "      <td>53</td>\n",
       "      <td>19</td>\n",
       "    </tr>\n",
       "    <tr>\n",
       "      <th>22</th>\n",
       "      <td>Attending now</td>\n",
       "      <td>Sissala West</td>\n",
       "      <td>All locality types</td>\n",
       "      <td>Male</td>\n",
       "      <td>12188</td>\n",
       "      <td>1852</td>\n",
       "      <td>3889</td>\n",
       "      <td>2598</td>\n",
       "      <td>2410</td>\n",
       "      <td>1003</td>\n",
       "      <td>262</td>\n",
       "      <td>111</td>\n",
       "      <td>39</td>\n",
       "      <td>13</td>\n",
       "    </tr>\n",
       "    <tr>\n",
       "      <th>23</th>\n",
       "      <td>Attending now</td>\n",
       "      <td>Sissala West</td>\n",
       "      <td>All locality types</td>\n",
       "      <td>Female</td>\n",
       "      <td>11014</td>\n",
       "      <td>1841</td>\n",
       "      <td>3669</td>\n",
       "      <td>2382</td>\n",
       "      <td>2274</td>\n",
       "      <td>652</td>\n",
       "      <td>144</td>\n",
       "      <td>31</td>\n",
       "      <td>14</td>\n",
       "      <td>6</td>\n",
       "    </tr>\n",
       "    <tr>\n",
       "      <th>24</th>\n",
       "      <td>Never attended</td>\n",
       "      <td>Ghana</td>\n",
       "      <td>All locality types</td>\n",
       "      <td>Both sexes</td>\n",
       "      <td>5952272</td>\n",
       "      <td>558184</td>\n",
       "      <td>333486</td>\n",
       "      <td>176167</td>\n",
       "      <td>274587</td>\n",
       "      <td>421325</td>\n",
       "      <td>471773</td>\n",
       "      <td>564957</td>\n",
       "      <td>549925</td>\n",
       "      <td>525327</td>\n",
       "    </tr>\n",
       "    <tr>\n",
       "      <th>25</th>\n",
       "      <td>Never attended</td>\n",
       "      <td>Ghana</td>\n",
       "      <td>All locality types</td>\n",
       "      <td>Male</td>\n",
       "      <td>2399314</td>\n",
       "      <td>288645</td>\n",
       "      <td>172452</td>\n",
       "      <td>92470</td>\n",
       "      <td>135243</td>\n",
       "      <td>180584</td>\n",
       "      <td>192185</td>\n",
       "      <td>223431</td>\n",
       "      <td>212371</td>\n",
       "      <td>202931</td>\n",
       "    </tr>\n",
       "    <tr>\n",
       "      <th>26</th>\n",
       "      <td>Never attended</td>\n",
       "      <td>Ghana</td>\n",
       "      <td>All locality types</td>\n",
       "      <td>Female</td>\n",
       "      <td>3552958</td>\n",
       "      <td>269539</td>\n",
       "      <td>161034</td>\n",
       "      <td>83697</td>\n",
       "      <td>139344</td>\n",
       "      <td>240741</td>\n",
       "      <td>279588</td>\n",
       "      <td>341526</td>\n",
       "      <td>337554</td>\n",
       "      <td>322396</td>\n",
       "    </tr>\n",
       "    <tr>\n",
       "      <th>27</th>\n",
       "      <td>Never attended</td>\n",
       "      <td>Upper West</td>\n",
       "      <td>All locality types</td>\n",
       "      <td>Both sexes</td>\n",
       "      <td>327347</td>\n",
       "      <td>26551</td>\n",
       "      <td>18500</td>\n",
       "      <td>10979</td>\n",
       "      <td>16518</td>\n",
       "      <td>23901</td>\n",
       "      <td>24954</td>\n",
       "      <td>29706</td>\n",
       "      <td>28717</td>\n",
       "      <td>28884</td>\n",
       "    </tr>\n",
       "    <tr>\n",
       "      <th>28</th>\n",
       "      <td>Never attended</td>\n",
       "      <td>Upper West</td>\n",
       "      <td>All locality types</td>\n",
       "      <td>Male</td>\n",
       "      <td>140281</td>\n",
       "      <td>13943</td>\n",
       "      <td>10211</td>\n",
       "      <td>6390</td>\n",
       "      <td>8732</td>\n",
       "      <td>10766</td>\n",
       "      <td>11026</td>\n",
       "      <td>12466</td>\n",
       "      <td>11639</td>\n",
       "      <td>11205</td>\n",
       "    </tr>\n",
       "    <tr>\n",
       "      <th>29</th>\n",
       "      <td>Never attended</td>\n",
       "      <td>Upper West</td>\n",
       "      <td>All locality types</td>\n",
       "      <td>Female</td>\n",
       "      <td>187066</td>\n",
       "      <td>12608</td>\n",
       "      <td>8289</td>\n",
       "      <td>4589</td>\n",
       "      <td>7786</td>\n",
       "      <td>13135</td>\n",
       "      <td>13928</td>\n",
       "      <td>17240</td>\n",
       "      <td>17078</td>\n",
       "      <td>17679</td>\n",
       "    </tr>\n",
       "    <tr>\n",
       "      <th>30</th>\n",
       "      <td>Never attended</td>\n",
       "      <td>Sissala East Municipal</td>\n",
       "      <td>All locality types</td>\n",
       "      <td>Both sexes</td>\n",
       "      <td>32079</td>\n",
       "      <td>3127</td>\n",
       "      <td>1912</td>\n",
       "      <td>1068</td>\n",
       "      <td>1699</td>\n",
       "      <td>2884</td>\n",
       "      <td>3085</td>\n",
       "      <td>3452</td>\n",
       "      <td>3000</td>\n",
       "      <td>2873</td>\n",
       "    </tr>\n",
       "    <tr>\n",
       "      <th>31</th>\n",
       "      <td>Never attended</td>\n",
       "      <td>Sissala East Municipal</td>\n",
       "      <td>All locality types</td>\n",
       "      <td>Male</td>\n",
       "      <td>15315</td>\n",
       "      <td>1631</td>\n",
       "      <td>1048</td>\n",
       "      <td>650</td>\n",
       "      <td>962</td>\n",
       "      <td>1454</td>\n",
       "      <td>1549</td>\n",
       "      <td>1702</td>\n",
       "      <td>1409</td>\n",
       "      <td>1222</td>\n",
       "    </tr>\n",
       "    <tr>\n",
       "      <th>32</th>\n",
       "      <td>Never attended</td>\n",
       "      <td>Sissala East Municipal</td>\n",
       "      <td>All locality types</td>\n",
       "      <td>Female</td>\n",
       "      <td>16764</td>\n",
       "      <td>1496</td>\n",
       "      <td>864</td>\n",
       "      <td>418</td>\n",
       "      <td>737</td>\n",
       "      <td>1430</td>\n",
       "      <td>1536</td>\n",
       "      <td>1750</td>\n",
       "      <td>1591</td>\n",
       "      <td>1651</td>\n",
       "    </tr>\n",
       "    <tr>\n",
       "      <th>33</th>\n",
       "      <td>Never attended</td>\n",
       "      <td>Sissala West</td>\n",
       "      <td>All locality types</td>\n",
       "      <td>Both sexes</td>\n",
       "      <td>24792</td>\n",
       "      <td>2176</td>\n",
       "      <td>1232</td>\n",
       "      <td>728</td>\n",
       "      <td>1139</td>\n",
       "      <td>1985</td>\n",
       "      <td>2151</td>\n",
       "      <td>2589</td>\n",
       "      <td>2414</td>\n",
       "      <td>2342</td>\n",
       "    </tr>\n",
       "    <tr>\n",
       "      <th>34</th>\n",
       "      <td>Never attended</td>\n",
       "      <td>Sissala West</td>\n",
       "      <td>All locality types</td>\n",
       "      <td>Male</td>\n",
       "      <td>10912</td>\n",
       "      <td>1161</td>\n",
       "      <td>665</td>\n",
       "      <td>410</td>\n",
       "      <td>637</td>\n",
       "      <td>870</td>\n",
       "      <td>948</td>\n",
       "      <td>1154</td>\n",
       "      <td>977</td>\n",
       "      <td>955</td>\n",
       "    </tr>\n",
       "    <tr>\n",
       "      <th>35</th>\n",
       "      <td>Never attended</td>\n",
       "      <td>Sissala West</td>\n",
       "      <td>All locality types</td>\n",
       "      <td>Female</td>\n",
       "      <td>13880</td>\n",
       "      <td>1015</td>\n",
       "      <td>567</td>\n",
       "      <td>318</td>\n",
       "      <td>502</td>\n",
       "      <td>1115</td>\n",
       "      <td>1203</td>\n",
       "      <td>1435</td>\n",
       "      <td>1437</td>\n",
       "      <td>1387</td>\n",
       "    </tr>\n",
       "    <tr>\n",
       "      <th>36</th>\n",
       "      <td>Attended</td>\n",
       "      <td>Ghana</td>\n",
       "      <td>Total</td>\n",
       "      <td>Total</td>\n",
       "      <td>11286990</td>\n",
       "      <td>1774472</td>\n",
       "      <td>3333314</td>\n",
       "      <td>2411728</td>\n",
       "      <td>2494708</td>\n",
       "      <td>862675</td>\n",
       "      <td>229280</td>\n",
       "      <td>96725</td>\n",
       "      <td>45514</td>\n",
       "      <td>20586</td>\n",
       "    </tr>\n",
       "    <tr>\n",
       "      <th>37</th>\n",
       "      <td>Never attended</td>\n",
       "      <td>Ghana</td>\n",
       "      <td>Total</td>\n",
       "      <td>Total</td>\n",
       "      <td>5952272</td>\n",
       "      <td>558184</td>\n",
       "      <td>333486</td>\n",
       "      <td>176167</td>\n",
       "      <td>274587</td>\n",
       "      <td>421325</td>\n",
       "      <td>471773</td>\n",
       "      <td>564957</td>\n",
       "      <td>549925</td>\n",
       "      <td>525327</td>\n",
       "    </tr>\n",
       "    <tr>\n",
       "      <th>38</th>\n",
       "      <td>Attended</td>\n",
       "      <td>Upper West</td>\n",
       "      <td>Total</td>\n",
       "      <td>Total</td>\n",
       "      <td>324667</td>\n",
       "      <td>47584</td>\n",
       "      <td>94889</td>\n",
       "      <td>67584</td>\n",
       "      <td>69672</td>\n",
       "      <td>30776</td>\n",
       "      <td>8496</td>\n",
       "      <td>3193</td>\n",
       "      <td>1467</td>\n",
       "      <td>565</td>\n",
       "    </tr>\n",
       "    <tr>\n",
       "      <th>39</th>\n",
       "      <td>Never attended</td>\n",
       "      <td>Upper West</td>\n",
       "      <td>Total</td>\n",
       "      <td>Total</td>\n",
       "      <td>327347</td>\n",
       "      <td>26551</td>\n",
       "      <td>18500</td>\n",
       "      <td>10979</td>\n",
       "      <td>16518</td>\n",
       "      <td>23901</td>\n",
       "      <td>24954</td>\n",
       "      <td>29706</td>\n",
       "      <td>28717</td>\n",
       "      <td>28884</td>\n",
       "    </tr>\n",
       "    <tr>\n",
       "      <th>40</th>\n",
       "      <td>Attended</td>\n",
       "      <td>Sissala East Municipal</td>\n",
       "      <td>Total</td>\n",
       "      <td>Total</td>\n",
       "      <td>27312</td>\n",
       "      <td>4152</td>\n",
       "      <td>8159</td>\n",
       "      <td>5289</td>\n",
       "      <td>5968</td>\n",
       "      <td>2480</td>\n",
       "      <td>711</td>\n",
       "      <td>311</td>\n",
       "      <td>137</td>\n",
       "      <td>55</td>\n",
       "    </tr>\n",
       "    <tr>\n",
       "      <th>41</th>\n",
       "      <td>Never attended</td>\n",
       "      <td>Sissala East Municipal</td>\n",
       "      <td>Total</td>\n",
       "      <td>Total</td>\n",
       "      <td>32079</td>\n",
       "      <td>3127</td>\n",
       "      <td>1912</td>\n",
       "      <td>1068</td>\n",
       "      <td>1699</td>\n",
       "      <td>2884</td>\n",
       "      <td>3085</td>\n",
       "      <td>3452</td>\n",
       "      <td>3000</td>\n",
       "      <td>2873</td>\n",
       "    </tr>\n",
       "    <tr>\n",
       "      <th>42</th>\n",
       "      <td>Attended</td>\n",
       "      <td>Sissala West</td>\n",
       "      <td>Total</td>\n",
       "      <td>Total</td>\n",
       "      <td>23202</td>\n",
       "      <td>3693</td>\n",
       "      <td>7558</td>\n",
       "      <td>4980</td>\n",
       "      <td>4684</td>\n",
       "      <td>1655</td>\n",
       "      <td>406</td>\n",
       "      <td>142</td>\n",
       "      <td>53</td>\n",
       "      <td>19</td>\n",
       "    </tr>\n",
       "    <tr>\n",
       "      <th>43</th>\n",
       "      <td>Never attended</td>\n",
       "      <td>Sissala West</td>\n",
       "      <td>Total</td>\n",
       "      <td>Total</td>\n",
       "      <td>24792</td>\n",
       "      <td>2176</td>\n",
       "      <td>1232</td>\n",
       "      <td>728</td>\n",
       "      <td>1139</td>\n",
       "      <td>1985</td>\n",
       "      <td>2151</td>\n",
       "      <td>2589</td>\n",
       "      <td>2414</td>\n",
       "      <td>2342</td>\n",
       "    </tr>\n",
       "  </tbody>\n",
       "</table>\n",
       "</div>"
      ],
      "text/plain": [
       "       School_Attendance         Geographic_Area            Locality  \\\n",
       "0   Attended in the past                   Ghana  All locality types   \n",
       "1   Attended in the past                   Ghana  All locality types   \n",
       "2   Attended in the past                   Ghana  All locality types   \n",
       "3   Attended in the past              Upper West  All locality types   \n",
       "4   Attended in the past              Upper West  All locality types   \n",
       "5   Attended in the past              Upper West  All locality types   \n",
       "6   Attended in the past  Sissala East Municipal  All locality types   \n",
       "7   Attended in the past  Sissala East Municipal  All locality types   \n",
       "8   Attended in the past  Sissala East Municipal  All locality types   \n",
       "9   Attended in the past            Sissala West  All locality types   \n",
       "10  Attended in the past            Sissala West  All locality types   \n",
       "11  Attended in the past            Sissala West  All locality types   \n",
       "12         Attending now                   Ghana  All locality types   \n",
       "13         Attending now                   Ghana  All locality types   \n",
       "14         Attending now                   Ghana  All locality types   \n",
       "15         Attending now              Upper West  All locality types   \n",
       "16         Attending now              Upper West  All locality types   \n",
       "17         Attending now              Upper West  All locality types   \n",
       "18         Attending now  Sissala East Municipal  All locality types   \n",
       "19         Attending now  Sissala East Municipal  All locality types   \n",
       "20         Attending now  Sissala East Municipal  All locality types   \n",
       "21         Attending now            Sissala West  All locality types   \n",
       "22         Attending now            Sissala West  All locality types   \n",
       "23         Attending now            Sissala West  All locality types   \n",
       "24        Never attended                   Ghana  All locality types   \n",
       "25        Never attended                   Ghana  All locality types   \n",
       "26        Never attended                   Ghana  All locality types   \n",
       "27        Never attended              Upper West  All locality types   \n",
       "28        Never attended              Upper West  All locality types   \n",
       "29        Never attended              Upper West  All locality types   \n",
       "30        Never attended  Sissala East Municipal  All locality types   \n",
       "31        Never attended  Sissala East Municipal  All locality types   \n",
       "32        Never attended  Sissala East Municipal  All locality types   \n",
       "33        Never attended            Sissala West  All locality types   \n",
       "34        Never attended            Sissala West  All locality types   \n",
       "35        Never attended            Sissala West  All locality types   \n",
       "36              Attended                   Ghana               Total   \n",
       "37        Never attended                   Ghana               Total   \n",
       "38              Attended              Upper West               Total   \n",
       "39        Never attended              Upper West               Total   \n",
       "40              Attended  Sissala East Municipal               Total   \n",
       "41        Never attended  Sissala East Municipal               Total   \n",
       "42              Attended            Sissala West               Total   \n",
       "43        Never attended            Sissala West               Total   \n",
       "\n",
       "           Sex  All ages      3-5     6-10    11-14    15-19    20-24  \\\n",
       "0   Both sexes  11375502        0    26117    59730   542151  1661537   \n",
       "1         Male   5879519        0    14129    31178   246478   778862   \n",
       "2       Female   5495983        0    11988    28552   295673   882675   \n",
       "3   Both sexes    178536        0     1380     3330    15715    36926   \n",
       "4         Male     97276        0      817     1885     7504    16652   \n",
       "5       Female     81260        0      563     1445     8211    20274   \n",
       "6   Both sexes     13905        0       56      162     1099     3137   \n",
       "7         Male      7169        0       36      113      502     1297   \n",
       "8       Female      6736        0       20       49      597     1840   \n",
       "9   Both sexes     10061        0       78      180     1070     2541   \n",
       "10        Male      5587        0       45      104      555     1172   \n",
       "11      Female      4474        0       33       76      515     1369   \n",
       "12  Both sexes  11286990  1774472  3333314  2411728  2494708   862675   \n",
       "13        Male   5798519   896045  1692817  1219393  1271520   483356   \n",
       "14      Female   5488471   878427  1640497  1192335  1223188   379319   \n",
       "15  Both sexes    324667    47584    94889    67584    69672    30776   \n",
       "16        Male    166979    23711    47856    34008    35205    17779   \n",
       "17      Female    157688    23873    47033    33576    34467    12997   \n",
       "18  Both sexes     27312     4152     8159     5289     5968     2480   \n",
       "19        Male     13701     2064     4085     2573     2992     1343   \n",
       "20      Female     13611     2088     4074     2716     2976     1137   \n",
       "21  Both sexes     23202     3693     7558     4980     4684     1655   \n",
       "22        Male     12188     1852     3889     2598     2410     1003   \n",
       "23      Female     11014     1841     3669     2382     2274      652   \n",
       "24  Both sexes   5952272   558184   333486   176167   274587   421325   \n",
       "25        Male   2399314   288645   172452    92470   135243   180584   \n",
       "26      Female   3552958   269539   161034    83697   139344   240741   \n",
       "27  Both sexes    327347    26551    18500    10979    16518    23901   \n",
       "28        Male    140281    13943    10211     6390     8732    10766   \n",
       "29      Female    187066    12608     8289     4589     7786    13135   \n",
       "30  Both sexes     32079     3127     1912     1068     1699     2884   \n",
       "31        Male     15315     1631     1048      650      962     1454   \n",
       "32      Female     16764     1496      864      418      737     1430   \n",
       "33  Both sexes     24792     2176     1232      728     1139     1985   \n",
       "34        Male     10912     1161      665      410      637      870   \n",
       "35      Female     13880     1015      567      318      502     1115   \n",
       "36       Total  11286990  1774472  3333314  2411728  2494708   862675   \n",
       "37       Total   5952272   558184   333486   176167   274587   421325   \n",
       "38       Total    324667    47584    94889    67584    69672    30776   \n",
       "39       Total    327347    26551    18500    10979    16518    23901   \n",
       "40       Total     27312     4152     8159     5289     5968     2480   \n",
       "41       Total     32079     3127     1912     1068     1699     2884   \n",
       "42       Total     23202     3693     7558     4980     4684     1655   \n",
       "43       Total     24792     2176     1232      728     1139     1985   \n",
       "\n",
       "      25-29    30-34    35-39    40-44  \n",
       "0   1923249  1725033  1448599  1059990  \n",
       "1    940458   883257   761562   587029  \n",
       "2    982791   841776   687037   472961  \n",
       "3     38909    27170    18673    11834  \n",
       "4     20015    15697    11191     7490  \n",
       "5     18894    11473     7482     4344  \n",
       "6      3261     2219     1441      871  \n",
       "7      1506     1235      845      524  \n",
       "8      1755      984      596      347  \n",
       "9      2550     1464      811      468  \n",
       "10     1320      890      539      312  \n",
       "11     1230      574      272      156  \n",
       "12   229280    96725    45514    20586  \n",
       "13   129475    55933    26198    12472  \n",
       "14    99805    40792    19316     8114  \n",
       "15     8496     3193     1467      565  \n",
       "16     4918     1924      884      380  \n",
       "17     3578     1269      583      185  \n",
       "18      711      311      137       55  \n",
       "19      336      173       69       38  \n",
       "20      375      138       68       17  \n",
       "21      406      142       53       19  \n",
       "22      262      111       39       13  \n",
       "23      144       31       14        6  \n",
       "24   471773   564957   549925   525327  \n",
       "25   192185   223431   212371   202931  \n",
       "26   279588   341526   337554   322396  \n",
       "27    24954    29706    28717    28884  \n",
       "28    11026    12466    11639    11205  \n",
       "29    13928    17240    17078    17679  \n",
       "30     3085     3452     3000     2873  \n",
       "31     1549     1702     1409     1222  \n",
       "32     1536     1750     1591     1651  \n",
       "33     2151     2589     2414     2342  \n",
       "34      948     1154      977      955  \n",
       "35     1203     1435     1437     1387  \n",
       "36   229280    96725    45514    20586  \n",
       "37   471773   564957   549925   525327  \n",
       "38     8496     3193     1467      565  \n",
       "39    24954    29706    28717    28884  \n",
       "40      711      311      137       55  \n",
       "41     3085     3452     3000     2873  \n",
       "42      406      142       53       19  \n",
       "43     2151     2589     2414     2342  "
      ]
     },
     "execution_count": 23,
     "metadata": {},
     "output_type": "execute_result"
    }
   ],
   "source": [
    "df21"
   ]
  },
  {
   "cell_type": "code",
   "execution_count": 22,
   "metadata": {
    "collapsed": false
   },
   "outputs": [
    {
     "data": {
      "text/html": [
       "<div>\n",
       "<style scoped>\n",
       "    .dataframe tbody tr th:only-of-type {\n",
       "        vertical-align: middle;\n",
       "    }\n",
       "\n",
       "    .dataframe tbody tr th {\n",
       "        vertical-align: top;\n",
       "    }\n",
       "\n",
       "    .dataframe thead th {\n",
       "        text-align: right;\n",
       "    }\n",
       "</style>\n",
       "<table border=\"1\" class=\"dataframe\">\n",
       "  <thead>\n",
       "    <tr style=\"text-align: right;\">\n",
       "      <th></th>\n",
       "      <th>School_Attendance</th>\n",
       "      <th>Geographic_Area</th>\n",
       "      <th>Sex</th>\n",
       "      <th>Locality</th>\n",
       "      <th>All ages</th>\n",
       "      <th>3-4</th>\n",
       "      <th>5-9</th>\n",
       "      <th>10-14</th>\n",
       "      <th>15-19</th>\n",
       "      <th>20-24</th>\n",
       "      <th>25-29</th>\n",
       "      <th>30-34</th>\n",
       "      <th>35-39</th>\n",
       "      <th>40-44</th>\n",
       "    </tr>\n",
       "  </thead>\n",
       "  <tbody>\n",
       "    <tr>\n",
       "      <th>0</th>\n",
       "      <td>Never attended</td>\n",
       "      <td>Ghana</td>\n",
       "      <td>Both sexes</td>\n",
       "      <td>All Locality Types</td>\n",
       "      <td>5299884</td>\n",
       "      <td>357541</td>\n",
       "      <td>372718</td>\n",
       "      <td>235823</td>\n",
       "      <td>288642</td>\n",
       "      <td>415005</td>\n",
       "      <td>482332</td>\n",
       "      <td>479008</td>\n",
       "      <td>449370</td>\n",
       "      <td>412092</td>\n",
       "    </tr>\n",
       "    <tr>\n",
       "      <th>1</th>\n",
       "      <td>Never attended</td>\n",
       "      <td>Ghana</td>\n",
       "      <td>Male</td>\n",
       "      <td>All Locality Types</td>\n",
       "      <td>2058897</td>\n",
       "      <td>184103</td>\n",
       "      <td>190373</td>\n",
       "      <td>120478</td>\n",
       "      <td>130659</td>\n",
       "      <td>150724</td>\n",
       "      <td>170399</td>\n",
       "      <td>170489</td>\n",
       "      <td>163515</td>\n",
       "      <td>151939</td>\n",
       "    </tr>\n",
       "    <tr>\n",
       "      <th>2</th>\n",
       "      <td>Never attended</td>\n",
       "      <td>Ghana</td>\n",
       "      <td>Female</td>\n",
       "      <td>All Locality Types</td>\n",
       "      <td>3240987</td>\n",
       "      <td>173438</td>\n",
       "      <td>182345</td>\n",
       "      <td>115345</td>\n",
       "      <td>157983</td>\n",
       "      <td>264281</td>\n",
       "      <td>311933</td>\n",
       "      <td>308519</td>\n",
       "      <td>285855</td>\n",
       "      <td>260153</td>\n",
       "    </tr>\n",
       "    <tr>\n",
       "      <th>3</th>\n",
       "      <td>Attended in the past</td>\n",
       "      <td>Ghana</td>\n",
       "      <td>Both sexes</td>\n",
       "      <td>All Locality Types</td>\n",
       "      <td>8393922</td>\n",
       "      <td>0</td>\n",
       "      <td>0</td>\n",
       "      <td>37902</td>\n",
       "      <td>578016</td>\n",
       "      <td>1359838</td>\n",
       "      <td>1422859</td>\n",
       "      <td>1153508</td>\n",
       "      <td>955023</td>\n",
       "      <td>765962</td>\n",
       "    </tr>\n",
       "    <tr>\n",
       "      <th>4</th>\n",
       "      <td>Attended in the past</td>\n",
       "      <td>Ghana</td>\n",
       "      <td>Male</td>\n",
       "      <td>All Locality Types</td>\n",
       "      <td>4285155</td>\n",
       "      <td>0</td>\n",
       "      <td>0</td>\n",
       "      <td>16862</td>\n",
       "      <td>258275</td>\n",
       "      <td>622511</td>\n",
       "      <td>682289</td>\n",
       "      <td>589383</td>\n",
       "      <td>501582</td>\n",
       "      <td>415232</td>\n",
       "    </tr>\n",
       "    <tr>\n",
       "      <th>5</th>\n",
       "      <td>Attended in the past</td>\n",
       "      <td>Ghana</td>\n",
       "      <td>Female</td>\n",
       "      <td>All Locality Types</td>\n",
       "      <td>4108767</td>\n",
       "      <td>0</td>\n",
       "      <td>0</td>\n",
       "      <td>21040</td>\n",
       "      <td>319741</td>\n",
       "      <td>737327</td>\n",
       "      <td>740570</td>\n",
       "      <td>564125</td>\n",
       "      <td>453441</td>\n",
       "      <td>350730</td>\n",
       "    </tr>\n",
       "    <tr>\n",
       "      <th>6</th>\n",
       "      <td>Attending now</td>\n",
       "      <td>Ghana</td>\n",
       "      <td>Both sexes</td>\n",
       "      <td>All Locality Types</td>\n",
       "      <td>8930304</td>\n",
       "      <td>1013152</td>\n",
       "      <td>2756234</td>\n",
       "      <td>2642315</td>\n",
       "      <td>1743331</td>\n",
       "      <td>548648</td>\n",
       "      <td>144920</td>\n",
       "      <td>46293</td>\n",
       "      <td>17010</td>\n",
       "      <td>8296</td>\n",
       "    </tr>\n",
       "    <tr>\n",
       "      <th>7</th>\n",
       "      <td>Attending now</td>\n",
       "      <td>Ghana</td>\n",
       "      <td>Male</td>\n",
       "      <td>All Locality Types</td>\n",
       "      <td>4644919</td>\n",
       "      <td>511810</td>\n",
       "      <td>1399259</td>\n",
       "      <td>1340185</td>\n",
       "      <td>922178</td>\n",
       "      <td>327492</td>\n",
       "      <td>90525</td>\n",
       "      <td>30429</td>\n",
       "      <td>11671</td>\n",
       "      <td>5449</td>\n",
       "    </tr>\n",
       "    <tr>\n",
       "      <th>8</th>\n",
       "      <td>Attending now</td>\n",
       "      <td>Ghana</td>\n",
       "      <td>Female</td>\n",
       "      <td>All Locality Types</td>\n",
       "      <td>4285385</td>\n",
       "      <td>501342</td>\n",
       "      <td>1356975</td>\n",
       "      <td>1302130</td>\n",
       "      <td>821153</td>\n",
       "      <td>221156</td>\n",
       "      <td>54395</td>\n",
       "      <td>15864</td>\n",
       "      <td>5339</td>\n",
       "      <td>2847</td>\n",
       "    </tr>\n",
       "    <tr>\n",
       "      <th>9</th>\n",
       "      <td>Never attended</td>\n",
       "      <td>Upper West</td>\n",
       "      <td>Both sexes</td>\n",
       "      <td>All Locality Types</td>\n",
       "      <td>305245</td>\n",
       "      <td>17645</td>\n",
       "      <td>26135</td>\n",
       "      <td>17855</td>\n",
       "      <td>17200</td>\n",
       "      <td>22228</td>\n",
       "      <td>26058</td>\n",
       "      <td>28169</td>\n",
       "      <td>25698</td>\n",
       "      <td>24655</td>\n",
       "    </tr>\n",
       "    <tr>\n",
       "      <th>10</th>\n",
       "      <td>Never attended</td>\n",
       "      <td>Upper West</td>\n",
       "      <td>Male</td>\n",
       "      <td>All Locality Types</td>\n",
       "      <td>131669</td>\n",
       "      <td>9152</td>\n",
       "      <td>14155</td>\n",
       "      <td>10639</td>\n",
       "      <td>9175</td>\n",
       "      <td>8551</td>\n",
       "      <td>9510</td>\n",
       "      <td>10454</td>\n",
       "      <td>9857</td>\n",
       "      <td>9650</td>\n",
       "    </tr>\n",
       "    <tr>\n",
       "      <th>11</th>\n",
       "      <td>Never attended</td>\n",
       "      <td>Upper West</td>\n",
       "      <td>Female</td>\n",
       "      <td>All Locality Types</td>\n",
       "      <td>173576</td>\n",
       "      <td>8493</td>\n",
       "      <td>11980</td>\n",
       "      <td>7216</td>\n",
       "      <td>8025</td>\n",
       "      <td>13677</td>\n",
       "      <td>16548</td>\n",
       "      <td>17715</td>\n",
       "      <td>15841</td>\n",
       "      <td>15005</td>\n",
       "    </tr>\n",
       "    <tr>\n",
       "      <th>12</th>\n",
       "      <td>Attended in the past</td>\n",
       "      <td>Upper West</td>\n",
       "      <td>Both sexes</td>\n",
       "      <td>All Locality Types</td>\n",
       "      <td>84408</td>\n",
       "      <td>0</td>\n",
       "      <td>0</td>\n",
       "      <td>913</td>\n",
       "      <td>7458</td>\n",
       "      <td>15969</td>\n",
       "      <td>15538</td>\n",
       "      <td>11670</td>\n",
       "      <td>8236</td>\n",
       "      <td>5722</td>\n",
       "    </tr>\n",
       "    <tr>\n",
       "      <th>13</th>\n",
       "      <td>Attended in the past</td>\n",
       "      <td>Upper West</td>\n",
       "      <td>Male</td>\n",
       "      <td>All Locality Types</td>\n",
       "      <td>46343</td>\n",
       "      <td>0</td>\n",
       "      <td>0</td>\n",
       "      <td>523</td>\n",
       "      <td>3657</td>\n",
       "      <td>7758</td>\n",
       "      <td>7908</td>\n",
       "      <td>6495</td>\n",
       "      <td>4975</td>\n",
       "      <td>3385</td>\n",
       "    </tr>\n",
       "    <tr>\n",
       "      <th>14</th>\n",
       "      <td>Attended in the past</td>\n",
       "      <td>Upper West</td>\n",
       "      <td>Female</td>\n",
       "      <td>All Locality Types</td>\n",
       "      <td>38065</td>\n",
       "      <td>0</td>\n",
       "      <td>0</td>\n",
       "      <td>390</td>\n",
       "      <td>3801</td>\n",
       "      <td>8211</td>\n",
       "      <td>7630</td>\n",
       "      <td>5175</td>\n",
       "      <td>3261</td>\n",
       "      <td>2337</td>\n",
       "    </tr>\n",
       "    <tr>\n",
       "      <th>15</th>\n",
       "      <td>Attending now</td>\n",
       "      <td>Upper West</td>\n",
       "      <td>Both sexes</td>\n",
       "      <td>All Locality Types</td>\n",
       "      <td>256955</td>\n",
       "      <td>24796</td>\n",
       "      <td>76707</td>\n",
       "      <td>73145</td>\n",
       "      <td>53678</td>\n",
       "      <td>20752</td>\n",
       "      <td>5588</td>\n",
       "      <td>1574</td>\n",
       "      <td>438</td>\n",
       "      <td>132</td>\n",
       "    </tr>\n",
       "    <tr>\n",
       "      <th>16</th>\n",
       "      <td>Attending now</td>\n",
       "      <td>Upper West</td>\n",
       "      <td>Male</td>\n",
       "      <td>All Locality Types</td>\n",
       "      <td>134807</td>\n",
       "      <td>12441</td>\n",
       "      <td>38669</td>\n",
       "      <td>37268</td>\n",
       "      <td>28203</td>\n",
       "      <td>12706</td>\n",
       "      <td>3894</td>\n",
       "      <td>1136</td>\n",
       "      <td>331</td>\n",
       "      <td>74</td>\n",
       "    </tr>\n",
       "    <tr>\n",
       "      <th>17</th>\n",
       "      <td>Attending now</td>\n",
       "      <td>Upper West</td>\n",
       "      <td>Female</td>\n",
       "      <td>All Locality Types</td>\n",
       "      <td>122148</td>\n",
       "      <td>12355</td>\n",
       "      <td>38038</td>\n",
       "      <td>35877</td>\n",
       "      <td>25475</td>\n",
       "      <td>8046</td>\n",
       "      <td>1694</td>\n",
       "      <td>438</td>\n",
       "      <td>107</td>\n",
       "      <td>58</td>\n",
       "    </tr>\n",
       "    <tr>\n",
       "      <th>18</th>\n",
       "      <td>Never attended</td>\n",
       "      <td>Sissala East Municipal</td>\n",
       "      <td>Both sexes</td>\n",
       "      <td>All Locality Types</td>\n",
       "      <td>26455</td>\n",
       "      <td>1622</td>\n",
       "      <td>2294</td>\n",
       "      <td>1679</td>\n",
       "      <td>1860</td>\n",
       "      <td>2284</td>\n",
       "      <td>2673</td>\n",
       "      <td>2821</td>\n",
       "      <td>2353</td>\n",
       "      <td>2102</td>\n",
       "    </tr>\n",
       "    <tr>\n",
       "      <th>19</th>\n",
       "      <td>Never attended</td>\n",
       "      <td>Sissala East Municipal</td>\n",
       "      <td>Male</td>\n",
       "      <td>All Locality Types</td>\n",
       "      <td>12601</td>\n",
       "      <td>823</td>\n",
       "      <td>1353</td>\n",
       "      <td>1108</td>\n",
       "      <td>1192</td>\n",
       "      <td>1025</td>\n",
       "      <td>1067</td>\n",
       "      <td>1096</td>\n",
       "      <td>1004</td>\n",
       "      <td>903</td>\n",
       "    </tr>\n",
       "    <tr>\n",
       "      <th>20</th>\n",
       "      <td>Never attended</td>\n",
       "      <td>Sissala East Municipal</td>\n",
       "      <td>Female</td>\n",
       "      <td>All Locality Types</td>\n",
       "      <td>13854</td>\n",
       "      <td>799</td>\n",
       "      <td>941</td>\n",
       "      <td>571</td>\n",
       "      <td>668</td>\n",
       "      <td>1259</td>\n",
       "      <td>1606</td>\n",
       "      <td>1725</td>\n",
       "      <td>1349</td>\n",
       "      <td>1199</td>\n",
       "    </tr>\n",
       "    <tr>\n",
       "      <th>21</th>\n",
       "      <td>Attended in the past</td>\n",
       "      <td>Sissala East Municipal</td>\n",
       "      <td>Both sexes</td>\n",
       "      <td>All Locality Types</td>\n",
       "      <td>6269</td>\n",
       "      <td>0</td>\n",
       "      <td>0</td>\n",
       "      <td>57</td>\n",
       "      <td>601</td>\n",
       "      <td>1211</td>\n",
       "      <td>1234</td>\n",
       "      <td>970</td>\n",
       "      <td>685</td>\n",
       "      <td>435</td>\n",
       "    </tr>\n",
       "    <tr>\n",
       "      <th>22</th>\n",
       "      <td>Attended in the past</td>\n",
       "      <td>Sissala East Municipal</td>\n",
       "      <td>Male</td>\n",
       "      <td>All Locality Types</td>\n",
       "      <td>3298</td>\n",
       "      <td>0</td>\n",
       "      <td>0</td>\n",
       "      <td>35</td>\n",
       "      <td>266</td>\n",
       "      <td>577</td>\n",
       "      <td>586</td>\n",
       "      <td>463</td>\n",
       "      <td>412</td>\n",
       "      <td>266</td>\n",
       "    </tr>\n",
       "    <tr>\n",
       "      <th>23</th>\n",
       "      <td>Attended in the past</td>\n",
       "      <td>Sissala East Municipal</td>\n",
       "      <td>Female</td>\n",
       "      <td>All Locality Types</td>\n",
       "      <td>2971</td>\n",
       "      <td>0</td>\n",
       "      <td>0</td>\n",
       "      <td>22</td>\n",
       "      <td>335</td>\n",
       "      <td>634</td>\n",
       "      <td>648</td>\n",
       "      <td>507</td>\n",
       "      <td>273</td>\n",
       "      <td>169</td>\n",
       "    </tr>\n",
       "    <tr>\n",
       "      <th>24</th>\n",
       "      <td>Attending now</td>\n",
       "      <td>Sissala East Municipal</td>\n",
       "      <td>Both sexes</td>\n",
       "      <td>All Locality Types</td>\n",
       "      <td>19409</td>\n",
       "      <td>2157</td>\n",
       "      <td>6300</td>\n",
       "      <td>5132</td>\n",
       "      <td>3957</td>\n",
       "      <td>1278</td>\n",
       "      <td>415</td>\n",
       "      <td>109</td>\n",
       "      <td>38</td>\n",
       "      <td>9</td>\n",
       "    </tr>\n",
       "    <tr>\n",
       "      <th>25</th>\n",
       "      <td>Attending now</td>\n",
       "      <td>Sissala East Municipal</td>\n",
       "      <td>Male</td>\n",
       "      <td>All Locality Types</td>\n",
       "      <td>9356</td>\n",
       "      <td>1087</td>\n",
       "      <td>3075</td>\n",
       "      <td>2372</td>\n",
       "      <td>1812</td>\n",
       "      <td>633</td>\n",
       "      <td>272</td>\n",
       "      <td>65</td>\n",
       "      <td>26</td>\n",
       "      <td>5</td>\n",
       "    </tr>\n",
       "    <tr>\n",
       "      <th>26</th>\n",
       "      <td>Attending now</td>\n",
       "      <td>Sissala East Municipal</td>\n",
       "      <td>Female</td>\n",
       "      <td>All Locality Types</td>\n",
       "      <td>10053</td>\n",
       "      <td>1070</td>\n",
       "      <td>3225</td>\n",
       "      <td>2760</td>\n",
       "      <td>2145</td>\n",
       "      <td>645</td>\n",
       "      <td>143</td>\n",
       "      <td>44</td>\n",
       "      <td>12</td>\n",
       "      <td>4</td>\n",
       "    </tr>\n",
       "    <tr>\n",
       "      <th>27</th>\n",
       "      <td>Never attended</td>\n",
       "      <td>Sissala West</td>\n",
       "      <td>Both sexes</td>\n",
       "      <td>All Locality Types</td>\n",
       "      <td>22945</td>\n",
       "      <td>1413</td>\n",
       "      <td>1941</td>\n",
       "      <td>1237</td>\n",
       "      <td>1500</td>\n",
       "      <td>2017</td>\n",
       "      <td>2163</td>\n",
       "      <td>2277</td>\n",
       "      <td>1967</td>\n",
       "      <td>1788</td>\n",
       "    </tr>\n",
       "    <tr>\n",
       "      <th>28</th>\n",
       "      <td>Never attended</td>\n",
       "      <td>Sissala West</td>\n",
       "      <td>Male</td>\n",
       "      <td>All Locality Types</td>\n",
       "      <td>10104</td>\n",
       "      <td>731</td>\n",
       "      <td>1053</td>\n",
       "      <td>740</td>\n",
       "      <td>837</td>\n",
       "      <td>815</td>\n",
       "      <td>808</td>\n",
       "      <td>908</td>\n",
       "      <td>783</td>\n",
       "      <td>700</td>\n",
       "    </tr>\n",
       "    <tr>\n",
       "      <th>29</th>\n",
       "      <td>Never attended</td>\n",
       "      <td>Sissala West</td>\n",
       "      <td>Female</td>\n",
       "      <td>All Locality Types</td>\n",
       "      <td>12841</td>\n",
       "      <td>682</td>\n",
       "      <td>888</td>\n",
       "      <td>497</td>\n",
       "      <td>663</td>\n",
       "      <td>1202</td>\n",
       "      <td>1355</td>\n",
       "      <td>1369</td>\n",
       "      <td>1184</td>\n",
       "      <td>1088</td>\n",
       "    </tr>\n",
       "    <tr>\n",
       "      <th>30</th>\n",
       "      <td>Attended in the past</td>\n",
       "      <td>Sissala West</td>\n",
       "      <td>Both sexes</td>\n",
       "      <td>All Locality Types</td>\n",
       "      <td>4141</td>\n",
       "      <td>0</td>\n",
       "      <td>0</td>\n",
       "      <td>59</td>\n",
       "      <td>506</td>\n",
       "      <td>932</td>\n",
       "      <td>778</td>\n",
       "      <td>534</td>\n",
       "      <td>373</td>\n",
       "      <td>218</td>\n",
       "    </tr>\n",
       "    <tr>\n",
       "      <th>31</th>\n",
       "      <td>Attended in the past</td>\n",
       "      <td>Sissala West</td>\n",
       "      <td>Male</td>\n",
       "      <td>All Locality Types</td>\n",
       "      <td>2291</td>\n",
       "      <td>0</td>\n",
       "      <td>0</td>\n",
       "      <td>33</td>\n",
       "      <td>233</td>\n",
       "      <td>472</td>\n",
       "      <td>402</td>\n",
       "      <td>294</td>\n",
       "      <td>233</td>\n",
       "      <td>142</td>\n",
       "    </tr>\n",
       "    <tr>\n",
       "      <th>32</th>\n",
       "      <td>Attended in the past</td>\n",
       "      <td>Sissala West</td>\n",
       "      <td>Female</td>\n",
       "      <td>All Locality Types</td>\n",
       "      <td>1850</td>\n",
       "      <td>0</td>\n",
       "      <td>0</td>\n",
       "      <td>26</td>\n",
       "      <td>273</td>\n",
       "      <td>460</td>\n",
       "      <td>376</td>\n",
       "      <td>240</td>\n",
       "      <td>140</td>\n",
       "      <td>76</td>\n",
       "    </tr>\n",
       "    <tr>\n",
       "      <th>33</th>\n",
       "      <td>Attending now</td>\n",
       "      <td>Sissala West</td>\n",
       "      <td>Both sexes</td>\n",
       "      <td>All Locality Types</td>\n",
       "      <td>18145</td>\n",
       "      <td>1906</td>\n",
       "      <td>6108</td>\n",
       "      <td>5424</td>\n",
       "      <td>3498</td>\n",
       "      <td>873</td>\n",
       "      <td>260</td>\n",
       "      <td>51</td>\n",
       "      <td>18</td>\n",
       "      <td>3</td>\n",
       "    </tr>\n",
       "    <tr>\n",
       "      <th>34</th>\n",
       "      <td>Attending now</td>\n",
       "      <td>Sissala West</td>\n",
       "      <td>Male</td>\n",
       "      <td>All Locality Types</td>\n",
       "      <td>9546</td>\n",
       "      <td>975</td>\n",
       "      <td>3089</td>\n",
       "      <td>2790</td>\n",
       "      <td>1887</td>\n",
       "      <td>569</td>\n",
       "      <td>182</td>\n",
       "      <td>36</td>\n",
       "      <td>13</td>\n",
       "      <td>2</td>\n",
       "    </tr>\n",
       "    <tr>\n",
       "      <th>35</th>\n",
       "      <td>Attending now</td>\n",
       "      <td>Sissala West</td>\n",
       "      <td>Female</td>\n",
       "      <td>All Locality Types</td>\n",
       "      <td>8599</td>\n",
       "      <td>931</td>\n",
       "      <td>3019</td>\n",
       "      <td>2634</td>\n",
       "      <td>1611</td>\n",
       "      <td>304</td>\n",
       "      <td>78</td>\n",
       "      <td>15</td>\n",
       "      <td>5</td>\n",
       "      <td>1</td>\n",
       "    </tr>\n",
       "    <tr>\n",
       "      <th>36</th>\n",
       "      <td>Attended</td>\n",
       "      <td>Ghana</td>\n",
       "      <td>Total</td>\n",
       "      <td>Total</td>\n",
       "      <td>8930304</td>\n",
       "      <td>1013152</td>\n",
       "      <td>2756234</td>\n",
       "      <td>2642315</td>\n",
       "      <td>1743331</td>\n",
       "      <td>548648</td>\n",
       "      <td>144920</td>\n",
       "      <td>46293</td>\n",
       "      <td>17010</td>\n",
       "      <td>8296</td>\n",
       "    </tr>\n",
       "    <tr>\n",
       "      <th>37</th>\n",
       "      <td>Never attended</td>\n",
       "      <td>Ghana</td>\n",
       "      <td>Total</td>\n",
       "      <td>Total</td>\n",
       "      <td>5299884</td>\n",
       "      <td>357541</td>\n",
       "      <td>372718</td>\n",
       "      <td>235823</td>\n",
       "      <td>288642</td>\n",
       "      <td>415005</td>\n",
       "      <td>482332</td>\n",
       "      <td>479008</td>\n",
       "      <td>449370</td>\n",
       "      <td>412092</td>\n",
       "    </tr>\n",
       "    <tr>\n",
       "      <th>38</th>\n",
       "      <td>Attended</td>\n",
       "      <td>Upper West</td>\n",
       "      <td>Total</td>\n",
       "      <td>Total</td>\n",
       "      <td>256955</td>\n",
       "      <td>24796</td>\n",
       "      <td>76707</td>\n",
       "      <td>73145</td>\n",
       "      <td>53678</td>\n",
       "      <td>20752</td>\n",
       "      <td>5588</td>\n",
       "      <td>1574</td>\n",
       "      <td>438</td>\n",
       "      <td>132</td>\n",
       "    </tr>\n",
       "    <tr>\n",
       "      <th>39</th>\n",
       "      <td>Never attended</td>\n",
       "      <td>Upper West</td>\n",
       "      <td>Total</td>\n",
       "      <td>Total</td>\n",
       "      <td>305245</td>\n",
       "      <td>17645</td>\n",
       "      <td>26135</td>\n",
       "      <td>17855</td>\n",
       "      <td>17200</td>\n",
       "      <td>22228</td>\n",
       "      <td>26058</td>\n",
       "      <td>28169</td>\n",
       "      <td>25698</td>\n",
       "      <td>24655</td>\n",
       "    </tr>\n",
       "    <tr>\n",
       "      <th>40</th>\n",
       "      <td>Attended</td>\n",
       "      <td>Sissala East Municipal</td>\n",
       "      <td>Total</td>\n",
       "      <td>Total</td>\n",
       "      <td>19409</td>\n",
       "      <td>2157</td>\n",
       "      <td>6300</td>\n",
       "      <td>5132</td>\n",
       "      <td>3957</td>\n",
       "      <td>1278</td>\n",
       "      <td>415</td>\n",
       "      <td>109</td>\n",
       "      <td>38</td>\n",
       "      <td>9</td>\n",
       "    </tr>\n",
       "    <tr>\n",
       "      <th>41</th>\n",
       "      <td>Never attended</td>\n",
       "      <td>Sissala East Municipal</td>\n",
       "      <td>Total</td>\n",
       "      <td>Total</td>\n",
       "      <td>26455</td>\n",
       "      <td>1622</td>\n",
       "      <td>2294</td>\n",
       "      <td>1679</td>\n",
       "      <td>1860</td>\n",
       "      <td>2284</td>\n",
       "      <td>2673</td>\n",
       "      <td>2821</td>\n",
       "      <td>2353</td>\n",
       "      <td>2102</td>\n",
       "    </tr>\n",
       "    <tr>\n",
       "      <th>42</th>\n",
       "      <td>Attended</td>\n",
       "      <td>Sissala West</td>\n",
       "      <td>Total</td>\n",
       "      <td>Total</td>\n",
       "      <td>18145</td>\n",
       "      <td>1906</td>\n",
       "      <td>6108</td>\n",
       "      <td>5424</td>\n",
       "      <td>3498</td>\n",
       "      <td>873</td>\n",
       "      <td>260</td>\n",
       "      <td>51</td>\n",
       "      <td>18</td>\n",
       "      <td>3</td>\n",
       "    </tr>\n",
       "    <tr>\n",
       "      <th>43</th>\n",
       "      <td>Never attended</td>\n",
       "      <td>Sissala West</td>\n",
       "      <td>Total</td>\n",
       "      <td>Total</td>\n",
       "      <td>22945</td>\n",
       "      <td>1413</td>\n",
       "      <td>1941</td>\n",
       "      <td>1237</td>\n",
       "      <td>1500</td>\n",
       "      <td>2017</td>\n",
       "      <td>2163</td>\n",
       "      <td>2277</td>\n",
       "      <td>1967</td>\n",
       "      <td>1788</td>\n",
       "    </tr>\n",
       "  </tbody>\n",
       "</table>\n",
       "</div>"
      ],
      "text/plain": [
       "       School_Attendance         Geographic_Area         Sex  \\\n",
       "0         Never attended                   Ghana  Both sexes   \n",
       "1         Never attended                   Ghana        Male   \n",
       "2         Never attended                   Ghana      Female   \n",
       "3   Attended in the past                   Ghana  Both sexes   \n",
       "4   Attended in the past                   Ghana        Male   \n",
       "5   Attended in the past                   Ghana      Female   \n",
       "6          Attending now                   Ghana  Both sexes   \n",
       "7          Attending now                   Ghana        Male   \n",
       "8          Attending now                   Ghana      Female   \n",
       "9         Never attended              Upper West  Both sexes   \n",
       "10        Never attended              Upper West        Male   \n",
       "11        Never attended              Upper West      Female   \n",
       "12  Attended in the past              Upper West  Both sexes   \n",
       "13  Attended in the past              Upper West        Male   \n",
       "14  Attended in the past              Upper West      Female   \n",
       "15         Attending now              Upper West  Both sexes   \n",
       "16         Attending now              Upper West        Male   \n",
       "17         Attending now              Upper West      Female   \n",
       "18        Never attended  Sissala East Municipal  Both sexes   \n",
       "19        Never attended  Sissala East Municipal        Male   \n",
       "20        Never attended  Sissala East Municipal      Female   \n",
       "21  Attended in the past  Sissala East Municipal  Both sexes   \n",
       "22  Attended in the past  Sissala East Municipal        Male   \n",
       "23  Attended in the past  Sissala East Municipal      Female   \n",
       "24         Attending now  Sissala East Municipal  Both sexes   \n",
       "25         Attending now  Sissala East Municipal        Male   \n",
       "26         Attending now  Sissala East Municipal      Female   \n",
       "27        Never attended            Sissala West  Both sexes   \n",
       "28        Never attended            Sissala West        Male   \n",
       "29        Never attended            Sissala West      Female   \n",
       "30  Attended in the past            Sissala West  Both sexes   \n",
       "31  Attended in the past            Sissala West        Male   \n",
       "32  Attended in the past            Sissala West      Female   \n",
       "33         Attending now            Sissala West  Both sexes   \n",
       "34         Attending now            Sissala West        Male   \n",
       "35         Attending now            Sissala West      Female   \n",
       "36              Attended                   Ghana       Total   \n",
       "37        Never attended                   Ghana       Total   \n",
       "38              Attended              Upper West       Total   \n",
       "39        Never attended              Upper West       Total   \n",
       "40              Attended  Sissala East Municipal       Total   \n",
       "41        Never attended  Sissala East Municipal       Total   \n",
       "42              Attended            Sissala West       Total   \n",
       "43        Never attended            Sissala West       Total   \n",
       "\n",
       "              Locality  All ages      3-4      5-9    10-14    15-19    20-24  \\\n",
       "0   All Locality Types   5299884   357541   372718   235823   288642   415005   \n",
       "1   All Locality Types   2058897   184103   190373   120478   130659   150724   \n",
       "2   All Locality Types   3240987   173438   182345   115345   157983   264281   \n",
       "3   All Locality Types   8393922        0        0    37902   578016  1359838   \n",
       "4   All Locality Types   4285155        0        0    16862   258275   622511   \n",
       "5   All Locality Types   4108767        0        0    21040   319741   737327   \n",
       "6   All Locality Types   8930304  1013152  2756234  2642315  1743331   548648   \n",
       "7   All Locality Types   4644919   511810  1399259  1340185   922178   327492   \n",
       "8   All Locality Types   4285385   501342  1356975  1302130   821153   221156   \n",
       "9   All Locality Types    305245    17645    26135    17855    17200    22228   \n",
       "10  All Locality Types    131669     9152    14155    10639     9175     8551   \n",
       "11  All Locality Types    173576     8493    11980     7216     8025    13677   \n",
       "12  All Locality Types     84408        0        0      913     7458    15969   \n",
       "13  All Locality Types     46343        0        0      523     3657     7758   \n",
       "14  All Locality Types     38065        0        0      390     3801     8211   \n",
       "15  All Locality Types    256955    24796    76707    73145    53678    20752   \n",
       "16  All Locality Types    134807    12441    38669    37268    28203    12706   \n",
       "17  All Locality Types    122148    12355    38038    35877    25475     8046   \n",
       "18  All Locality Types     26455     1622     2294     1679     1860     2284   \n",
       "19  All Locality Types     12601      823     1353     1108     1192     1025   \n",
       "20  All Locality Types     13854      799      941      571      668     1259   \n",
       "21  All Locality Types      6269        0        0       57      601     1211   \n",
       "22  All Locality Types      3298        0        0       35      266      577   \n",
       "23  All Locality Types      2971        0        0       22      335      634   \n",
       "24  All Locality Types     19409     2157     6300     5132     3957     1278   \n",
       "25  All Locality Types      9356     1087     3075     2372     1812      633   \n",
       "26  All Locality Types     10053     1070     3225     2760     2145      645   \n",
       "27  All Locality Types     22945     1413     1941     1237     1500     2017   \n",
       "28  All Locality Types     10104      731     1053      740      837      815   \n",
       "29  All Locality Types     12841      682      888      497      663     1202   \n",
       "30  All Locality Types      4141        0        0       59      506      932   \n",
       "31  All Locality Types      2291        0        0       33      233      472   \n",
       "32  All Locality Types      1850        0        0       26      273      460   \n",
       "33  All Locality Types     18145     1906     6108     5424     3498      873   \n",
       "34  All Locality Types      9546      975     3089     2790     1887      569   \n",
       "35  All Locality Types      8599      931     3019     2634     1611      304   \n",
       "36               Total   8930304  1013152  2756234  2642315  1743331   548648   \n",
       "37               Total   5299884   357541   372718   235823   288642   415005   \n",
       "38               Total    256955    24796    76707    73145    53678    20752   \n",
       "39               Total    305245    17645    26135    17855    17200    22228   \n",
       "40               Total     19409     2157     6300     5132     3957     1278   \n",
       "41               Total     26455     1622     2294     1679     1860     2284   \n",
       "42               Total     18145     1906     6108     5424     3498      873   \n",
       "43               Total     22945     1413     1941     1237     1500     2017   \n",
       "\n",
       "      25-29    30-34   35-39   40-44  \n",
       "0    482332   479008  449370  412092  \n",
       "1    170399   170489  163515  151939  \n",
       "2    311933   308519  285855  260153  \n",
       "3   1422859  1153508  955023  765962  \n",
       "4    682289   589383  501582  415232  \n",
       "5    740570   564125  453441  350730  \n",
       "6    144920    46293   17010    8296  \n",
       "7     90525    30429   11671    5449  \n",
       "8     54395    15864    5339    2847  \n",
       "9     26058    28169   25698   24655  \n",
       "10     9510    10454    9857    9650  \n",
       "11    16548    17715   15841   15005  \n",
       "12    15538    11670    8236    5722  \n",
       "13     7908     6495    4975    3385  \n",
       "14     7630     5175    3261    2337  \n",
       "15     5588     1574     438     132  \n",
       "16     3894     1136     331      74  \n",
       "17     1694      438     107      58  \n",
       "18     2673     2821    2353    2102  \n",
       "19     1067     1096    1004     903  \n",
       "20     1606     1725    1349    1199  \n",
       "21     1234      970     685     435  \n",
       "22      586      463     412     266  \n",
       "23      648      507     273     169  \n",
       "24      415      109      38       9  \n",
       "25      272       65      26       5  \n",
       "26      143       44      12       4  \n",
       "27     2163     2277    1967    1788  \n",
       "28      808      908     783     700  \n",
       "29     1355     1369    1184    1088  \n",
       "30      778      534     373     218  \n",
       "31      402      294     233     142  \n",
       "32      376      240     140      76  \n",
       "33      260       51      18       3  \n",
       "34      182       36      13       2  \n",
       "35       78       15       5       1  \n",
       "36   144920    46293   17010    8296  \n",
       "37   482332   479008  449370  412092  \n",
       "38     5588     1574     438     132  \n",
       "39    26058    28169   25698   24655  \n",
       "40      415      109      38       9  \n",
       "41     2673     2821    2353    2102  \n",
       "42      260       51      18       3  \n",
       "43     2163     2277    1967    1788  "
      ]
     },
     "execution_count": 22,
     "metadata": {},
     "output_type": "execute_result"
    }
   ],
   "source": [
    "df10"
   ]
  },
  {
   "cell_type": "code",
   "execution_count": 16,
   "metadata": {
    "collapsed": false
   },
   "outputs": [],
   "source": [
    "def percentage(df):\n",
    "    percentage = pd.DataFrame()\n",
    "    for region in df['Geographic_Area'].unique():\n",
    "        region_data = df[df['Geographic_Area'] == region]\n",
    "\n",
    "        attended_row = region_data[region_data['School_Attendance'] == 'Attended'].iloc[:, 5:].sum()\n",
    "        never_attended_row = region_data[region_data['School_Attendance'] == 'Never attended'].iloc[:, 5:].sum()\n",
    "\n",
    "        total_row = attended_row + never_attended_row\n",
    "        percentage_row = (attended_row / total_row) * 100\n",
    "\n",
    "        percentage_row = pd.Series([region] + percentage_row.tolist(), index=['Geographic_Area'] + df.columns[5:].tolist())\n",
    "\n",
    "        percentage = pd.concat([percentage, pd.DataFrame([percentage_row])], ignore_index=True)\n",
    "    return percentage\n",
    "\n",
    "percentage10 = percentage(df10)\n",
    "percentage21 = percentage(df21)"
   ]
  },
  {
   "cell_type": "code",
   "execution_count": 17,
   "metadata": {
    "collapsed": false
   },
   "outputs": [
    {
     "data": {
      "text/html": [
       "<div>\n",
       "<style scoped>\n",
       "    .dataframe tbody tr th:only-of-type {\n",
       "        vertical-align: middle;\n",
       "    }\n",
       "\n",
       "    .dataframe tbody tr th {\n",
       "        vertical-align: top;\n",
       "    }\n",
       "\n",
       "    .dataframe thead th {\n",
       "        text-align: right;\n",
       "    }\n",
       "</style>\n",
       "<table border=\"1\" class=\"dataframe\">\n",
       "  <thead>\n",
       "    <tr style=\"text-align: right;\">\n",
       "      <th></th>\n",
       "      <th>Geographic_Area</th>\n",
       "      <th>3-5</th>\n",
       "      <th>6-10</th>\n",
       "      <th>11-14</th>\n",
       "      <th>15-19</th>\n",
       "      <th>20-24</th>\n",
       "      <th>25-29</th>\n",
       "      <th>30-34</th>\n",
       "      <th>35-39</th>\n",
       "      <th>40-44</th>\n",
       "    </tr>\n",
       "  </thead>\n",
       "  <tbody>\n",
       "    <tr>\n",
       "      <th>0</th>\n",
       "      <td>Ghana</td>\n",
       "      <td>51.448526</td>\n",
       "      <td>76.914845</td>\n",
       "      <td>82.025176</td>\n",
       "      <td>75.176474</td>\n",
       "      <td>40.564973</td>\n",
       "      <td>13.941392</td>\n",
       "      <td>5.398818</td>\n",
       "      <td>2.684734</td>\n",
       "      <td>1.289392</td>\n",
       "    </tr>\n",
       "    <tr>\n",
       "      <th>1</th>\n",
       "      <td>Upper West</td>\n",
       "      <td>37.397927</td>\n",
       "      <td>63.095705</td>\n",
       "      <td>67.233712</td>\n",
       "      <td>58.436918</td>\n",
       "      <td>30.031519</td>\n",
       "      <td>10.192183</td>\n",
       "      <td>3.458959</td>\n",
       "      <td>1.674313</td>\n",
       "      <td>0.647809</td>\n",
       "    </tr>\n",
       "    <tr>\n",
       "      <th>2</th>\n",
       "      <td>Sissala East Municipal</td>\n",
       "      <td>30.680559</td>\n",
       "      <td>58.718964</td>\n",
       "      <td>62.274815</td>\n",
       "      <td>53.935834</td>\n",
       "      <td>22.278117</td>\n",
       "      <td>7.134256</td>\n",
       "      <td>2.915534</td>\n",
       "      <td>1.499398</td>\n",
       "      <td>0.634079</td>\n",
       "    </tr>\n",
       "    <tr>\n",
       "      <th>3</th>\n",
       "      <td>Sissala West</td>\n",
       "      <td>36.131494</td>\n",
       "      <td>67.158344</td>\n",
       "      <td>69.514238</td>\n",
       "      <td>57.820022</td>\n",
       "      <td>21.747700</td>\n",
       "      <td>5.919230</td>\n",
       "      <td>1.795423</td>\n",
       "      <td>0.726525</td>\n",
       "      <td>0.269695</td>\n",
       "    </tr>\n",
       "  </tbody>\n",
       "</table>\n",
       "</div>"
      ],
      "text/plain": [
       "          Geographic_Area        3-5       6-10      11-14      15-19  \\\n",
       "0                   Ghana  51.448526  76.914845  82.025176  75.176474   \n",
       "1              Upper West  37.397927  63.095705  67.233712  58.436918   \n",
       "2  Sissala East Municipal  30.680559  58.718964  62.274815  53.935834   \n",
       "3            Sissala West  36.131494  67.158344  69.514238  57.820022   \n",
       "\n",
       "       20-24      25-29     30-34     35-39     40-44  \n",
       "0  40.564973  13.941392  5.398818  2.684734  1.289392  \n",
       "1  30.031519  10.192183  3.458959  1.674313  0.647809  \n",
       "2  22.278117   7.134256  2.915534  1.499398  0.634079  \n",
       "3  21.747700   5.919230  1.795423  0.726525  0.269695  "
      ]
     },
     "execution_count": 17,
     "metadata": {},
     "output_type": "execute_result"
    }
   ],
   "source": [
    "percentage21"
   ]
  },
  {
   "cell_type": "code",
   "execution_count": 18,
   "metadata": {
    "collapsed": false
   },
   "outputs": [
    {
     "data": {
      "application/vnd.plotly.v1+json": {
       "config": {
        "plotlyServerURL": "https://plot.ly"
       },
       "data": [
        {
         "hovertemplate": "Geographic_Area=Ghana<br>Time Period=2010<br>Age Group=%{x}<br>Percentage=%{y}<extra></extra>",
         "legendgroup": "Ghana, 2010",
         "line": {
          "color": "#636efa",
          "dash": "solid"
         },
         "marker": {
          "symbol": "circle"
         },
         "mode": "lines",
         "name": "Ghana, 2010",
         "orientation": "v",
         "showlegend": true,
         "type": "scatter",
         "x": [
          "3-5",
          "5-9",
          "10-14",
          "15-19",
          "20-24",
          "25-29",
          "30-34",
          "35-39",
          "40-44"
         ],
         "xaxis": "x",
         "y": [
          48.5743668420611,
          71.13985486223888,
          78.88016063125264,
          66.81331122231347,
          30.588131661298696,
          9.103495410561864,
          3.12091076957926,
          1.2460443037974684,
          0.6665745332531987
         ],
         "yaxis": "y"
        },
        {
         "hovertemplate": "Geographic_Area=Ghana<br>Time Period=2021<br>Age Group=%{x}<br>Percentage=%{y}<extra></extra>",
         "legendgroup": "Ghana, 2021",
         "line": {
          "color": "#636efa",
          "dash": "dot"
         },
         "marker": {
          "symbol": "circle"
         },
         "mode": "lines",
         "name": "Ghana, 2021",
         "orientation": "v",
         "showlegend": true,
         "type": "scatter",
         "x": [
          "3-5",
          "5-9",
          "10-14",
          "15-19",
          "20-24",
          "25-29",
          "30-34",
          "35-39",
          "40-44"
         ],
         "xaxis": "x",
         "y": [
          51.44852572785808,
          76.9148446203446,
          82.02517559006458,
          75.17647445252615,
          40.56497307972633,
          13.941392400214278,
          5.398817590572875,
          2.6847339893080178,
          1.2893915507460696
         ],
         "yaxis": "y"
        },
        {
         "hovertemplate": "Geographic_Area=Upper West<br>Time Period=2010<br>Age Group=%{x}<br>Percentage=%{y}<extra></extra>",
         "legendgroup": "Upper West, 2010",
         "line": {
          "color": "#EF553B",
          "dash": "solid"
         },
         "marker": {
          "symbol": "circle"
         },
         "mode": "lines",
         "name": "Upper West, 2010",
         "orientation": "v",
         "showlegend": true,
         "type": "scatter",
         "x": [
          "3-5",
          "5-9",
          "10-14",
          "15-19",
          "20-24",
          "25-29",
          "30-34",
          "35-39",
          "40-44"
         ],
         "xaxis": "x",
         "y": [
          31.899756853764906,
          49.452653566455204,
          57.72630415910347,
          50.986910845570776,
          23.733931103893134,
          6.671282920656145,
          1.8285103565246688,
          0.564928029716762,
          0.1781448641645411
         ],
         "yaxis": "y"
        },
        {
         "hovertemplate": "Geographic_Area=Upper West<br>Time Period=2021<br>Age Group=%{x}<br>Percentage=%{y}<extra></extra>",
         "legendgroup": "Upper West, 2021",
         "line": {
          "color": "#EF553B",
          "dash": "dot"
         },
         "marker": {
          "symbol": "circle"
         },
         "mode": "lines",
         "name": "Upper West, 2021",
         "orientation": "v",
         "showlegend": true,
         "type": "scatter",
         "x": [
          "3-5",
          "5-9",
          "10-14",
          "15-19",
          "20-24",
          "25-29",
          "30-34",
          "35-39",
          "40-44"
         ],
         "xaxis": "x",
         "y": [
          37.3979267037104,
          63.09570513800876,
          67.23371235861163,
          58.43691812188616,
          30.031518652601996,
          10.192183113798317,
          3.458959387288622,
          1.6743134972265972,
          0.6478094866826422
         ],
         "yaxis": "y"
        },
        {
         "hovertemplate": "Geographic_Area=Sissala East Municipal<br>Time Period=2010<br>Age Group=%{x}<br>Percentage=%{y}<extra></extra>",
         "legendgroup": "Sissala East Municipal, 2010",
         "line": {
          "color": "#00cc96",
          "dash": "solid"
         },
         "marker": {
          "symbol": "circle"
         },
         "mode": "lines",
         "name": "Sissala East Municipal, 2010",
         "orientation": "v",
         "showlegend": true,
         "type": "scatter",
         "x": [
          "3-5",
          "5-9",
          "10-14",
          "15-19",
          "20-24",
          "25-29",
          "30-34",
          "35-39",
          "40-44"
         ],
         "xaxis": "x",
         "y": [
          30.713370354549337,
          47.792444242148385,
          50.467105910118995,
          41.49103491664045,
          15.719557195571957,
          4.9205596395541855,
          1.2715818945403639,
          0.535437508806538,
          0.14251781472684086
         ],
         "yaxis": "y"
        },
        {
         "hovertemplate": "Geographic_Area=Sissala East Municipal<br>Time Period=2021<br>Age Group=%{x}<br>Percentage=%{y}<extra></extra>",
         "legendgroup": "Sissala East Municipal, 2021",
         "line": {
          "color": "#00cc96",
          "dash": "dot"
         },
         "marker": {
          "symbol": "circle"
         },
         "mode": "lines",
         "name": "Sissala East Municipal, 2021",
         "orientation": "v",
         "showlegend": true,
         "type": "scatter",
         "x": [
          "3-5",
          "5-9",
          "10-14",
          "15-19",
          "20-24",
          "25-29",
          "30-34",
          "35-39",
          "40-44"
         ],
         "xaxis": "x",
         "y": [
          30.680558634449124,
          58.71896365599136,
          62.27481455316143,
          53.935833709896066,
          22.27811713977722,
          7.134256472004815,
          2.915533889565951,
          1.4993980518769836,
          0.6340788563523172
         ],
         "yaxis": "y"
        },
        {
         "hovertemplate": "Geographic_Area=Sissala West<br>Time Period=2010<br>Age Group=%{x}<br>Percentage=%{y}<extra></extra>",
         "legendgroup": "Sissala West, 2010",
         "line": {
          "color": "#ab63fa",
          "dash": "solid"
         },
         "marker": {
          "symbol": "circle"
         },
         "mode": "lines",
         "name": "Sissala West, 2010",
         "orientation": "v",
         "showlegend": true,
         "type": "scatter",
         "x": [
          "3-5",
          "5-9",
          "10-14",
          "15-19",
          "20-24",
          "25-29",
          "30-34",
          "35-39",
          "40-44"
         ],
         "xaxis": "x",
         "y": [
          31.017087062652564,
          51.194367613779235,
          59.376026272577995,
          43.735933983495876,
          12.608318890814557,
          3.8524225811231294,
          0.7410636442894507,
          0.30410542321338063,
          0.05589714924538849
         ],
         "yaxis": "y"
        },
        {
         "hovertemplate": "Geographic_Area=Sissala West<br>Time Period=2021<br>Age Group=%{x}<br>Percentage=%{y}<extra></extra>",
         "legendgroup": "Sissala West, 2021",
         "line": {
          "color": "#ab63fa",
          "dash": "dot"
         },
         "marker": {
          "symbol": "circle"
         },
         "mode": "lines",
         "name": "Sissala West, 2021",
         "orientation": "v",
         "showlegend": true,
         "type": "scatter",
         "x": [
          "3-5",
          "5-9",
          "10-14",
          "15-19",
          "20-24",
          "25-29",
          "30-34",
          "35-39",
          "40-44"
         ],
         "xaxis": "x",
         "y": [
          36.131493982976224,
          67.15834370001778,
          69.5142378559464,
          57.82002221947907,
          21.747700394218132,
          5.919230208485201,
          1.795422935895815,
          0.7265250171350239,
          0.26969481902058196
         ],
         "yaxis": "y"
        }
       ],
       "layout": {
        "legend": {
         "title": {
          "text": "Geographic_Area, Time Period"
         },
         "tracegroupgap": 0
        },
        "template": {
         "data": {
          "bar": [
           {
            "error_x": {
             "color": "#f2f5fa"
            },
            "error_y": {
             "color": "#f2f5fa"
            },
            "marker": {
             "line": {
              "color": "rgb(17,17,17)",
              "width": 0.5
             },
             "pattern": {
              "fillmode": "overlay",
              "size": 10,
              "solidity": 0.2
             }
            },
            "type": "bar"
           }
          ],
          "barpolar": [
           {
            "marker": {
             "line": {
              "color": "rgb(17,17,17)",
              "width": 0.5
             },
             "pattern": {
              "fillmode": "overlay",
              "size": 10,
              "solidity": 0.2
             }
            },
            "type": "barpolar"
           }
          ],
          "carpet": [
           {
            "aaxis": {
             "endlinecolor": "#A2B1C6",
             "gridcolor": "#506784",
             "linecolor": "#506784",
             "minorgridcolor": "#506784",
             "startlinecolor": "#A2B1C6"
            },
            "baxis": {
             "endlinecolor": "#A2B1C6",
             "gridcolor": "#506784",
             "linecolor": "#506784",
             "minorgridcolor": "#506784",
             "startlinecolor": "#A2B1C6"
            },
            "type": "carpet"
           }
          ],
          "choropleth": [
           {
            "colorbar": {
             "outlinewidth": 0,
             "ticks": ""
            },
            "type": "choropleth"
           }
          ],
          "contour": [
           {
            "colorbar": {
             "outlinewidth": 0,
             "ticks": ""
            },
            "colorscale": [
             [
              0.0,
              "#0d0887"
             ],
             [
              0.1111111111111111,
              "#46039f"
             ],
             [
              0.2222222222222222,
              "#7201a8"
             ],
             [
              0.3333333333333333,
              "#9c179e"
             ],
             [
              0.4444444444444444,
              "#bd3786"
             ],
             [
              0.5555555555555556,
              "#d8576b"
             ],
             [
              0.6666666666666666,
              "#ed7953"
             ],
             [
              0.7777777777777778,
              "#fb9f3a"
             ],
             [
              0.8888888888888888,
              "#fdca26"
             ],
             [
              1.0,
              "#f0f921"
             ]
            ],
            "type": "contour"
           }
          ],
          "contourcarpet": [
           {
            "colorbar": {
             "outlinewidth": 0,
             "ticks": ""
            },
            "type": "contourcarpet"
           }
          ],
          "heatmap": [
           {
            "colorbar": {
             "outlinewidth": 0,
             "ticks": ""
            },
            "colorscale": [
             [
              0.0,
              "#0d0887"
             ],
             [
              0.1111111111111111,
              "#46039f"
             ],
             [
              0.2222222222222222,
              "#7201a8"
             ],
             [
              0.3333333333333333,
              "#9c179e"
             ],
             [
              0.4444444444444444,
              "#bd3786"
             ],
             [
              0.5555555555555556,
              "#d8576b"
             ],
             [
              0.6666666666666666,
              "#ed7953"
             ],
             [
              0.7777777777777778,
              "#fb9f3a"
             ],
             [
              0.8888888888888888,
              "#fdca26"
             ],
             [
              1.0,
              "#f0f921"
             ]
            ],
            "type": "heatmap"
           }
          ],
          "heatmapgl": [
           {
            "colorbar": {
             "outlinewidth": 0,
             "ticks": ""
            },
            "colorscale": [
             [
              0.0,
              "#0d0887"
             ],
             [
              0.1111111111111111,
              "#46039f"
             ],
             [
              0.2222222222222222,
              "#7201a8"
             ],
             [
              0.3333333333333333,
              "#9c179e"
             ],
             [
              0.4444444444444444,
              "#bd3786"
             ],
             [
              0.5555555555555556,
              "#d8576b"
             ],
             [
              0.6666666666666666,
              "#ed7953"
             ],
             [
              0.7777777777777778,
              "#fb9f3a"
             ],
             [
              0.8888888888888888,
              "#fdca26"
             ],
             [
              1.0,
              "#f0f921"
             ]
            ],
            "type": "heatmapgl"
           }
          ],
          "histogram": [
           {
            "marker": {
             "pattern": {
              "fillmode": "overlay",
              "size": 10,
              "solidity": 0.2
             }
            },
            "type": "histogram"
           }
          ],
          "histogram2d": [
           {
            "colorbar": {
             "outlinewidth": 0,
             "ticks": ""
            },
            "colorscale": [
             [
              0.0,
              "#0d0887"
             ],
             [
              0.1111111111111111,
              "#46039f"
             ],
             [
              0.2222222222222222,
              "#7201a8"
             ],
             [
              0.3333333333333333,
              "#9c179e"
             ],
             [
              0.4444444444444444,
              "#bd3786"
             ],
             [
              0.5555555555555556,
              "#d8576b"
             ],
             [
              0.6666666666666666,
              "#ed7953"
             ],
             [
              0.7777777777777778,
              "#fb9f3a"
             ],
             [
              0.8888888888888888,
              "#fdca26"
             ],
             [
              1.0,
              "#f0f921"
             ]
            ],
            "type": "histogram2d"
           }
          ],
          "histogram2dcontour": [
           {
            "colorbar": {
             "outlinewidth": 0,
             "ticks": ""
            },
            "colorscale": [
             [
              0.0,
              "#0d0887"
             ],
             [
              0.1111111111111111,
              "#46039f"
             ],
             [
              0.2222222222222222,
              "#7201a8"
             ],
             [
              0.3333333333333333,
              "#9c179e"
             ],
             [
              0.4444444444444444,
              "#bd3786"
             ],
             [
              0.5555555555555556,
              "#d8576b"
             ],
             [
              0.6666666666666666,
              "#ed7953"
             ],
             [
              0.7777777777777778,
              "#fb9f3a"
             ],
             [
              0.8888888888888888,
              "#fdca26"
             ],
             [
              1.0,
              "#f0f921"
             ]
            ],
            "type": "histogram2dcontour"
           }
          ],
          "mesh3d": [
           {
            "colorbar": {
             "outlinewidth": 0,
             "ticks": ""
            },
            "type": "mesh3d"
           }
          ],
          "parcoords": [
           {
            "line": {
             "colorbar": {
              "outlinewidth": 0,
              "ticks": ""
             }
            },
            "type": "parcoords"
           }
          ],
          "pie": [
           {
            "automargin": true,
            "type": "pie"
           }
          ],
          "scatter": [
           {
            "marker": {
             "line": {
              "color": "#283442"
             }
            },
            "type": "scatter"
           }
          ],
          "scatter3d": [
           {
            "line": {
             "colorbar": {
              "outlinewidth": 0,
              "ticks": ""
             }
            },
            "marker": {
             "colorbar": {
              "outlinewidth": 0,
              "ticks": ""
             }
            },
            "type": "scatter3d"
           }
          ],
          "scattercarpet": [
           {
            "marker": {
             "colorbar": {
              "outlinewidth": 0,
              "ticks": ""
             }
            },
            "type": "scattercarpet"
           }
          ],
          "scattergeo": [
           {
            "marker": {
             "colorbar": {
              "outlinewidth": 0,
              "ticks": ""
             }
            },
            "type": "scattergeo"
           }
          ],
          "scattergl": [
           {
            "marker": {
             "line": {
              "color": "#283442"
             }
            },
            "type": "scattergl"
           }
          ],
          "scattermapbox": [
           {
            "marker": {
             "colorbar": {
              "outlinewidth": 0,
              "ticks": ""
             }
            },
            "type": "scattermapbox"
           }
          ],
          "scatterpolar": [
           {
            "marker": {
             "colorbar": {
              "outlinewidth": 0,
              "ticks": ""
             }
            },
            "type": "scatterpolar"
           }
          ],
          "scatterpolargl": [
           {
            "marker": {
             "colorbar": {
              "outlinewidth": 0,
              "ticks": ""
             }
            },
            "type": "scatterpolargl"
           }
          ],
          "scatterternary": [
           {
            "marker": {
             "colorbar": {
              "outlinewidth": 0,
              "ticks": ""
             }
            },
            "type": "scatterternary"
           }
          ],
          "surface": [
           {
            "colorbar": {
             "outlinewidth": 0,
             "ticks": ""
            },
            "colorscale": [
             [
              0.0,
              "#0d0887"
             ],
             [
              0.1111111111111111,
              "#46039f"
             ],
             [
              0.2222222222222222,
              "#7201a8"
             ],
             [
              0.3333333333333333,
              "#9c179e"
             ],
             [
              0.4444444444444444,
              "#bd3786"
             ],
             [
              0.5555555555555556,
              "#d8576b"
             ],
             [
              0.6666666666666666,
              "#ed7953"
             ],
             [
              0.7777777777777778,
              "#fb9f3a"
             ],
             [
              0.8888888888888888,
              "#fdca26"
             ],
             [
              1.0,
              "#f0f921"
             ]
            ],
            "type": "surface"
           }
          ],
          "table": [
           {
            "cells": {
             "fill": {
              "color": "#506784"
             },
             "line": {
              "color": "rgb(17,17,17)"
             }
            },
            "header": {
             "fill": {
              "color": "#2a3f5f"
             },
             "line": {
              "color": "rgb(17,17,17)"
             }
            },
            "type": "table"
           }
          ]
         },
         "layout": {
          "annotationdefaults": {
           "arrowcolor": "#f2f5fa",
           "arrowhead": 0,
           "arrowwidth": 1
          },
          "autotypenumbers": "strict",
          "coloraxis": {
           "colorbar": {
            "outlinewidth": 0,
            "ticks": ""
           }
          },
          "colorscale": {
           "diverging": [
            [
             0,
             "#8e0152"
            ],
            [
             0.1,
             "#c51b7d"
            ],
            [
             0.2,
             "#de77ae"
            ],
            [
             0.3,
             "#f1b6da"
            ],
            [
             0.4,
             "#fde0ef"
            ],
            [
             0.5,
             "#f7f7f7"
            ],
            [
             0.6,
             "#e6f5d0"
            ],
            [
             0.7,
             "#b8e186"
            ],
            [
             0.8,
             "#7fbc41"
            ],
            [
             0.9,
             "#4d9221"
            ],
            [
             1,
             "#276419"
            ]
           ],
           "sequential": [
            [
             0.0,
             "#0d0887"
            ],
            [
             0.1111111111111111,
             "#46039f"
            ],
            [
             0.2222222222222222,
             "#7201a8"
            ],
            [
             0.3333333333333333,
             "#9c179e"
            ],
            [
             0.4444444444444444,
             "#bd3786"
            ],
            [
             0.5555555555555556,
             "#d8576b"
            ],
            [
             0.6666666666666666,
             "#ed7953"
            ],
            [
             0.7777777777777778,
             "#fb9f3a"
            ],
            [
             0.8888888888888888,
             "#fdca26"
            ],
            [
             1.0,
             "#f0f921"
            ]
           ],
           "sequentialminus": [
            [
             0.0,
             "#0d0887"
            ],
            [
             0.1111111111111111,
             "#46039f"
            ],
            [
             0.2222222222222222,
             "#7201a8"
            ],
            [
             0.3333333333333333,
             "#9c179e"
            ],
            [
             0.4444444444444444,
             "#bd3786"
            ],
            [
             0.5555555555555556,
             "#d8576b"
            ],
            [
             0.6666666666666666,
             "#ed7953"
            ],
            [
             0.7777777777777778,
             "#fb9f3a"
            ],
            [
             0.8888888888888888,
             "#fdca26"
            ],
            [
             1.0,
             "#f0f921"
            ]
           ]
          },
          "colorway": [
           "#636efa",
           "#EF553B",
           "#00cc96",
           "#ab63fa",
           "#FFA15A",
           "#19d3f3",
           "#FF6692",
           "#B6E880",
           "#FF97FF",
           "#FECB52"
          ],
          "font": {
           "color": "#f2f5fa"
          },
          "geo": {
           "bgcolor": "rgb(17,17,17)",
           "lakecolor": "rgb(17,17,17)",
           "landcolor": "rgb(17,17,17)",
           "showlakes": true,
           "showland": true,
           "subunitcolor": "#506784"
          },
          "hoverlabel": {
           "align": "left"
          },
          "hovermode": "closest",
          "mapbox": {
           "style": "dark"
          },
          "paper_bgcolor": "rgb(17,17,17)",
          "plot_bgcolor": "rgb(17,17,17)",
          "polar": {
           "angularaxis": {
            "gridcolor": "#506784",
            "linecolor": "#506784",
            "ticks": ""
           },
           "bgcolor": "rgb(17,17,17)",
           "radialaxis": {
            "gridcolor": "#506784",
            "linecolor": "#506784",
            "ticks": ""
           }
          },
          "scene": {
           "xaxis": {
            "backgroundcolor": "rgb(17,17,17)",
            "gridcolor": "#506784",
            "gridwidth": 2,
            "linecolor": "#506784",
            "showbackground": true,
            "ticks": "",
            "zerolinecolor": "#C8D4E3"
           },
           "yaxis": {
            "backgroundcolor": "rgb(17,17,17)",
            "gridcolor": "#506784",
            "gridwidth": 2,
            "linecolor": "#506784",
            "showbackground": true,
            "ticks": "",
            "zerolinecolor": "#C8D4E3"
           },
           "zaxis": {
            "backgroundcolor": "rgb(17,17,17)",
            "gridcolor": "#506784",
            "gridwidth": 2,
            "linecolor": "#506784",
            "showbackground": true,
            "ticks": "",
            "zerolinecolor": "#C8D4E3"
           }
          },
          "shapedefaults": {
           "line": {
            "color": "#f2f5fa"
           }
          },
          "sliderdefaults": {
           "bgcolor": "#C8D4E3",
           "bordercolor": "rgb(17,17,17)",
           "borderwidth": 1,
           "tickwidth": 0
          },
          "ternary": {
           "aaxis": {
            "gridcolor": "#506784",
            "linecolor": "#506784",
            "ticks": ""
           },
           "baxis": {
            "gridcolor": "#506784",
            "linecolor": "#506784",
            "ticks": ""
           },
           "bgcolor": "rgb(17,17,17)",
           "caxis": {
            "gridcolor": "#506784",
            "linecolor": "#506784",
            "ticks": ""
           }
          },
          "title": {
           "x": 0.05
          },
          "updatemenudefaults": {
           "bgcolor": "#506784",
           "borderwidth": 0
          },
          "xaxis": {
           "automargin": true,
           "gridcolor": "#283442",
           "linecolor": "#506784",
           "ticks": "",
           "title": {
            "standoff": 15
           },
           "zerolinecolor": "#283442",
           "zerolinewidth": 2
          },
          "yaxis": {
           "automargin": true,
           "gridcolor": "#283442",
           "linecolor": "#506784",
           "ticks": "",
           "title": {
            "standoff": 15
           },
           "zerolinecolor": "#283442",
           "zerolinewidth": 2
          }
         }
        },
        "title": {
         "text": "School Attendance Percentages by Age and Region 2010 vs 2021"
        },
        "xaxis": {
         "anchor": "y",
         "domain": [
          0.0,
          1.0
         ],
         "title": {
          "text": "Age Group"
         },
         "type": "category"
        },
        "yaxis": {
         "anchor": "x",
         "domain": [
          0.0,
          1.0
         ],
         "title": {
          "text": "Percentage"
         }
        }
       }
      },
      "text/html": [
       "<div>                            <div id=\"79a1c002-5854-40e8-b3e9-5394879a1ffe\" class=\"plotly-graph-div\" style=\"height:525px; width:100%;\"></div>            <script type=\"text/javascript\">                require([\"plotly\"], function(Plotly) {                    window.PLOTLYENV=window.PLOTLYENV || {};                                    if (document.getElementById(\"79a1c002-5854-40e8-b3e9-5394879a1ffe\")) {                    Plotly.newPlot(                        \"79a1c002-5854-40e8-b3e9-5394879a1ffe\",                        [{\"hovertemplate\":\"Geographic_Area=Ghana\\u003cbr\\u003eTime Period=2010\\u003cbr\\u003eAge Group=%{x}\\u003cbr\\u003ePercentage=%{y}\\u003cextra\\u003e\\u003c\\u002fextra\\u003e\",\"legendgroup\":\"Ghana, 2010\",\"line\":{\"color\":\"#636efa\",\"dash\":\"solid\"},\"marker\":{\"symbol\":\"circle\"},\"mode\":\"lines\",\"name\":\"Ghana, 2010\",\"orientation\":\"v\",\"showlegend\":true,\"x\":[\"3-5\",\"5-9\",\"10-14\",\"15-19\",\"20-24\",\"25-29\",\"30-34\",\"35-39\",\"40-44\"],\"xaxis\":\"x\",\"y\":[48.5743668420611,71.13985486223888,78.88016063125264,66.81331122231347,30.588131661298696,9.103495410561864,3.12091076957926,1.2460443037974684,0.6665745332531987],\"yaxis\":\"y\",\"type\":\"scatter\"},{\"hovertemplate\":\"Geographic_Area=Ghana\\u003cbr\\u003eTime Period=2021\\u003cbr\\u003eAge Group=%{x}\\u003cbr\\u003ePercentage=%{y}\\u003cextra\\u003e\\u003c\\u002fextra\\u003e\",\"legendgroup\":\"Ghana, 2021\",\"line\":{\"color\":\"#636efa\",\"dash\":\"dot\"},\"marker\":{\"symbol\":\"circle\"},\"mode\":\"lines\",\"name\":\"Ghana, 2021\",\"orientation\":\"v\",\"showlegend\":true,\"x\":[\"3-5\",\"5-9\",\"10-14\",\"15-19\",\"20-24\",\"25-29\",\"30-34\",\"35-39\",\"40-44\"],\"xaxis\":\"x\",\"y\":[51.44852572785808,76.9148446203446,82.02517559006458,75.17647445252615,40.56497307972633,13.941392400214278,5.398817590572875,2.6847339893080178,1.2893915507460696],\"yaxis\":\"y\",\"type\":\"scatter\"},{\"hovertemplate\":\"Geographic_Area=Upper West\\u003cbr\\u003eTime Period=2010\\u003cbr\\u003eAge Group=%{x}\\u003cbr\\u003ePercentage=%{y}\\u003cextra\\u003e\\u003c\\u002fextra\\u003e\",\"legendgroup\":\"Upper West, 2010\",\"line\":{\"color\":\"#EF553B\",\"dash\":\"solid\"},\"marker\":{\"symbol\":\"circle\"},\"mode\":\"lines\",\"name\":\"Upper West, 2010\",\"orientation\":\"v\",\"showlegend\":true,\"x\":[\"3-5\",\"5-9\",\"10-14\",\"15-19\",\"20-24\",\"25-29\",\"30-34\",\"35-39\",\"40-44\"],\"xaxis\":\"x\",\"y\":[31.899756853764906,49.452653566455204,57.72630415910347,50.986910845570776,23.733931103893134,6.671282920656145,1.8285103565246688,0.564928029716762,0.1781448641645411],\"yaxis\":\"y\",\"type\":\"scatter\"},{\"hovertemplate\":\"Geographic_Area=Upper West\\u003cbr\\u003eTime Period=2021\\u003cbr\\u003eAge Group=%{x}\\u003cbr\\u003ePercentage=%{y}\\u003cextra\\u003e\\u003c\\u002fextra\\u003e\",\"legendgroup\":\"Upper West, 2021\",\"line\":{\"color\":\"#EF553B\",\"dash\":\"dot\"},\"marker\":{\"symbol\":\"circle\"},\"mode\":\"lines\",\"name\":\"Upper West, 2021\",\"orientation\":\"v\",\"showlegend\":true,\"x\":[\"3-5\",\"5-9\",\"10-14\",\"15-19\",\"20-24\",\"25-29\",\"30-34\",\"35-39\",\"40-44\"],\"xaxis\":\"x\",\"y\":[37.3979267037104,63.09570513800876,67.23371235861163,58.43691812188616,30.031518652601996,10.192183113798317,3.458959387288622,1.6743134972265972,0.6478094866826422],\"yaxis\":\"y\",\"type\":\"scatter\"},{\"hovertemplate\":\"Geographic_Area=Sissala East Municipal\\u003cbr\\u003eTime Period=2010\\u003cbr\\u003eAge Group=%{x}\\u003cbr\\u003ePercentage=%{y}\\u003cextra\\u003e\\u003c\\u002fextra\\u003e\",\"legendgroup\":\"Sissala East Municipal, 2010\",\"line\":{\"color\":\"#00cc96\",\"dash\":\"solid\"},\"marker\":{\"symbol\":\"circle\"},\"mode\":\"lines\",\"name\":\"Sissala East Municipal, 2010\",\"orientation\":\"v\",\"showlegend\":true,\"x\":[\"3-5\",\"5-9\",\"10-14\",\"15-19\",\"20-24\",\"25-29\",\"30-34\",\"35-39\",\"40-44\"],\"xaxis\":\"x\",\"y\":[30.713370354549337,47.792444242148385,50.467105910118995,41.49103491664045,15.719557195571957,4.9205596395541855,1.2715818945403639,0.535437508806538,0.14251781472684086],\"yaxis\":\"y\",\"type\":\"scatter\"},{\"hovertemplate\":\"Geographic_Area=Sissala East Municipal\\u003cbr\\u003eTime Period=2021\\u003cbr\\u003eAge Group=%{x}\\u003cbr\\u003ePercentage=%{y}\\u003cextra\\u003e\\u003c\\u002fextra\\u003e\",\"legendgroup\":\"Sissala East Municipal, 2021\",\"line\":{\"color\":\"#00cc96\",\"dash\":\"dot\"},\"marker\":{\"symbol\":\"circle\"},\"mode\":\"lines\",\"name\":\"Sissala East Municipal, 2021\",\"orientation\":\"v\",\"showlegend\":true,\"x\":[\"3-5\",\"5-9\",\"10-14\",\"15-19\",\"20-24\",\"25-29\",\"30-34\",\"35-39\",\"40-44\"],\"xaxis\":\"x\",\"y\":[30.680558634449124,58.71896365599136,62.27481455316143,53.935833709896066,22.27811713977722,7.134256472004815,2.915533889565951,1.4993980518769836,0.6340788563523172],\"yaxis\":\"y\",\"type\":\"scatter\"},{\"hovertemplate\":\"Geographic_Area=Sissala West\\u003cbr\\u003eTime Period=2010\\u003cbr\\u003eAge Group=%{x}\\u003cbr\\u003ePercentage=%{y}\\u003cextra\\u003e\\u003c\\u002fextra\\u003e\",\"legendgroup\":\"Sissala West, 2010\",\"line\":{\"color\":\"#ab63fa\",\"dash\":\"solid\"},\"marker\":{\"symbol\":\"circle\"},\"mode\":\"lines\",\"name\":\"Sissala West, 2010\",\"orientation\":\"v\",\"showlegend\":true,\"x\":[\"3-5\",\"5-9\",\"10-14\",\"15-19\",\"20-24\",\"25-29\",\"30-34\",\"35-39\",\"40-44\"],\"xaxis\":\"x\",\"y\":[31.017087062652564,51.194367613779235,59.376026272577995,43.735933983495876,12.608318890814557,3.8524225811231294,0.7410636442894507,0.30410542321338063,0.05589714924538849],\"yaxis\":\"y\",\"type\":\"scatter\"},{\"hovertemplate\":\"Geographic_Area=Sissala West\\u003cbr\\u003eTime Period=2021\\u003cbr\\u003eAge Group=%{x}\\u003cbr\\u003ePercentage=%{y}\\u003cextra\\u003e\\u003c\\u002fextra\\u003e\",\"legendgroup\":\"Sissala West, 2021\",\"line\":{\"color\":\"#ab63fa\",\"dash\":\"dot\"},\"marker\":{\"symbol\":\"circle\"},\"mode\":\"lines\",\"name\":\"Sissala West, 2021\",\"orientation\":\"v\",\"showlegend\":true,\"x\":[\"3-5\",\"5-9\",\"10-14\",\"15-19\",\"20-24\",\"25-29\",\"30-34\",\"35-39\",\"40-44\"],\"xaxis\":\"x\",\"y\":[36.131493982976224,67.15834370001778,69.5142378559464,57.82002221947907,21.747700394218132,5.919230208485201,1.795422935895815,0.7265250171350239,0.26969481902058196],\"yaxis\":\"y\",\"type\":\"scatter\"}],                        {\"template\":{\"data\":{\"histogram2dcontour\":[{\"type\":\"histogram2dcontour\",\"colorbar\":{\"outlinewidth\":0,\"ticks\":\"\"},\"colorscale\":[[0.0,\"#0d0887\"],[0.1111111111111111,\"#46039f\"],[0.2222222222222222,\"#7201a8\"],[0.3333333333333333,\"#9c179e\"],[0.4444444444444444,\"#bd3786\"],[0.5555555555555556,\"#d8576b\"],[0.6666666666666666,\"#ed7953\"],[0.7777777777777778,\"#fb9f3a\"],[0.8888888888888888,\"#fdca26\"],[1.0,\"#f0f921\"]]}],\"choropleth\":[{\"type\":\"choropleth\",\"colorbar\":{\"outlinewidth\":0,\"ticks\":\"\"}}],\"histogram2d\":[{\"type\":\"histogram2d\",\"colorbar\":{\"outlinewidth\":0,\"ticks\":\"\"},\"colorscale\":[[0.0,\"#0d0887\"],[0.1111111111111111,\"#46039f\"],[0.2222222222222222,\"#7201a8\"],[0.3333333333333333,\"#9c179e\"],[0.4444444444444444,\"#bd3786\"],[0.5555555555555556,\"#d8576b\"],[0.6666666666666666,\"#ed7953\"],[0.7777777777777778,\"#fb9f3a\"],[0.8888888888888888,\"#fdca26\"],[1.0,\"#f0f921\"]]}],\"heatmap\":[{\"type\":\"heatmap\",\"colorbar\":{\"outlinewidth\":0,\"ticks\":\"\"},\"colorscale\":[[0.0,\"#0d0887\"],[0.1111111111111111,\"#46039f\"],[0.2222222222222222,\"#7201a8\"],[0.3333333333333333,\"#9c179e\"],[0.4444444444444444,\"#bd3786\"],[0.5555555555555556,\"#d8576b\"],[0.6666666666666666,\"#ed7953\"],[0.7777777777777778,\"#fb9f3a\"],[0.8888888888888888,\"#fdca26\"],[1.0,\"#f0f921\"]]}],\"heatmapgl\":[{\"type\":\"heatmapgl\",\"colorbar\":{\"outlinewidth\":0,\"ticks\":\"\"},\"colorscale\":[[0.0,\"#0d0887\"],[0.1111111111111111,\"#46039f\"],[0.2222222222222222,\"#7201a8\"],[0.3333333333333333,\"#9c179e\"],[0.4444444444444444,\"#bd3786\"],[0.5555555555555556,\"#d8576b\"],[0.6666666666666666,\"#ed7953\"],[0.7777777777777778,\"#fb9f3a\"],[0.8888888888888888,\"#fdca26\"],[1.0,\"#f0f921\"]]}],\"contourcarpet\":[{\"type\":\"contourcarpet\",\"colorbar\":{\"outlinewidth\":0,\"ticks\":\"\"}}],\"contour\":[{\"type\":\"contour\",\"colorbar\":{\"outlinewidth\":0,\"ticks\":\"\"},\"colorscale\":[[0.0,\"#0d0887\"],[0.1111111111111111,\"#46039f\"],[0.2222222222222222,\"#7201a8\"],[0.3333333333333333,\"#9c179e\"],[0.4444444444444444,\"#bd3786\"],[0.5555555555555556,\"#d8576b\"],[0.6666666666666666,\"#ed7953\"],[0.7777777777777778,\"#fb9f3a\"],[0.8888888888888888,\"#fdca26\"],[1.0,\"#f0f921\"]]}],\"surface\":[{\"type\":\"surface\",\"colorbar\":{\"outlinewidth\":0,\"ticks\":\"\"},\"colorscale\":[[0.0,\"#0d0887\"],[0.1111111111111111,\"#46039f\"],[0.2222222222222222,\"#7201a8\"],[0.3333333333333333,\"#9c179e\"],[0.4444444444444444,\"#bd3786\"],[0.5555555555555556,\"#d8576b\"],[0.6666666666666666,\"#ed7953\"],[0.7777777777777778,\"#fb9f3a\"],[0.8888888888888888,\"#fdca26\"],[1.0,\"#f0f921\"]]}],\"mesh3d\":[{\"type\":\"mesh3d\",\"colorbar\":{\"outlinewidth\":0,\"ticks\":\"\"}}],\"scatter\":[{\"marker\":{\"line\":{\"color\":\"#283442\"}},\"type\":\"scatter\"}],\"parcoords\":[{\"type\":\"parcoords\",\"line\":{\"colorbar\":{\"outlinewidth\":0,\"ticks\":\"\"}}}],\"scatterpolargl\":[{\"type\":\"scatterpolargl\",\"marker\":{\"colorbar\":{\"outlinewidth\":0,\"ticks\":\"\"}}}],\"bar\":[{\"error_x\":{\"color\":\"#f2f5fa\"},\"error_y\":{\"color\":\"#f2f5fa\"},\"marker\":{\"line\":{\"color\":\"rgb(17,17,17)\",\"width\":0.5},\"pattern\":{\"fillmode\":\"overlay\",\"size\":10,\"solidity\":0.2}},\"type\":\"bar\"}],\"scattergeo\":[{\"type\":\"scattergeo\",\"marker\":{\"colorbar\":{\"outlinewidth\":0,\"ticks\":\"\"}}}],\"scatterpolar\":[{\"type\":\"scatterpolar\",\"marker\":{\"colorbar\":{\"outlinewidth\":0,\"ticks\":\"\"}}}],\"histogram\":[{\"marker\":{\"pattern\":{\"fillmode\":\"overlay\",\"size\":10,\"solidity\":0.2}},\"type\":\"histogram\"}],\"scattergl\":[{\"marker\":{\"line\":{\"color\":\"#283442\"}},\"type\":\"scattergl\"}],\"scatter3d\":[{\"type\":\"scatter3d\",\"line\":{\"colorbar\":{\"outlinewidth\":0,\"ticks\":\"\"}},\"marker\":{\"colorbar\":{\"outlinewidth\":0,\"ticks\":\"\"}}}],\"scattermapbox\":[{\"type\":\"scattermapbox\",\"marker\":{\"colorbar\":{\"outlinewidth\":0,\"ticks\":\"\"}}}],\"scatterternary\":[{\"type\":\"scatterternary\",\"marker\":{\"colorbar\":{\"outlinewidth\":0,\"ticks\":\"\"}}}],\"scattercarpet\":[{\"type\":\"scattercarpet\",\"marker\":{\"colorbar\":{\"outlinewidth\":0,\"ticks\":\"\"}}}],\"carpet\":[{\"aaxis\":{\"endlinecolor\":\"#A2B1C6\",\"gridcolor\":\"#506784\",\"linecolor\":\"#506784\",\"minorgridcolor\":\"#506784\",\"startlinecolor\":\"#A2B1C6\"},\"baxis\":{\"endlinecolor\":\"#A2B1C6\",\"gridcolor\":\"#506784\",\"linecolor\":\"#506784\",\"minorgridcolor\":\"#506784\",\"startlinecolor\":\"#A2B1C6\"},\"type\":\"carpet\"}],\"table\":[{\"cells\":{\"fill\":{\"color\":\"#506784\"},\"line\":{\"color\":\"rgb(17,17,17)\"}},\"header\":{\"fill\":{\"color\":\"#2a3f5f\"},\"line\":{\"color\":\"rgb(17,17,17)\"}},\"type\":\"table\"}],\"barpolar\":[{\"marker\":{\"line\":{\"color\":\"rgb(17,17,17)\",\"width\":0.5},\"pattern\":{\"fillmode\":\"overlay\",\"size\":10,\"solidity\":0.2}},\"type\":\"barpolar\"}],\"pie\":[{\"automargin\":true,\"type\":\"pie\"}]},\"layout\":{\"autotypenumbers\":\"strict\",\"colorway\":[\"#636efa\",\"#EF553B\",\"#00cc96\",\"#ab63fa\",\"#FFA15A\",\"#19d3f3\",\"#FF6692\",\"#B6E880\",\"#FF97FF\",\"#FECB52\"],\"font\":{\"color\":\"#f2f5fa\"},\"hovermode\":\"closest\",\"hoverlabel\":{\"align\":\"left\"},\"paper_bgcolor\":\"rgb(17,17,17)\",\"plot_bgcolor\":\"rgb(17,17,17)\",\"polar\":{\"bgcolor\":\"rgb(17,17,17)\",\"angularaxis\":{\"gridcolor\":\"#506784\",\"linecolor\":\"#506784\",\"ticks\":\"\"},\"radialaxis\":{\"gridcolor\":\"#506784\",\"linecolor\":\"#506784\",\"ticks\":\"\"}},\"ternary\":{\"bgcolor\":\"rgb(17,17,17)\",\"aaxis\":{\"gridcolor\":\"#506784\",\"linecolor\":\"#506784\",\"ticks\":\"\"},\"baxis\":{\"gridcolor\":\"#506784\",\"linecolor\":\"#506784\",\"ticks\":\"\"},\"caxis\":{\"gridcolor\":\"#506784\",\"linecolor\":\"#506784\",\"ticks\":\"\"}},\"coloraxis\":{\"colorbar\":{\"outlinewidth\":0,\"ticks\":\"\"}},\"colorscale\":{\"sequential\":[[0.0,\"#0d0887\"],[0.1111111111111111,\"#46039f\"],[0.2222222222222222,\"#7201a8\"],[0.3333333333333333,\"#9c179e\"],[0.4444444444444444,\"#bd3786\"],[0.5555555555555556,\"#d8576b\"],[0.6666666666666666,\"#ed7953\"],[0.7777777777777778,\"#fb9f3a\"],[0.8888888888888888,\"#fdca26\"],[1.0,\"#f0f921\"]],\"sequentialminus\":[[0.0,\"#0d0887\"],[0.1111111111111111,\"#46039f\"],[0.2222222222222222,\"#7201a8\"],[0.3333333333333333,\"#9c179e\"],[0.4444444444444444,\"#bd3786\"],[0.5555555555555556,\"#d8576b\"],[0.6666666666666666,\"#ed7953\"],[0.7777777777777778,\"#fb9f3a\"],[0.8888888888888888,\"#fdca26\"],[1.0,\"#f0f921\"]],\"diverging\":[[0,\"#8e0152\"],[0.1,\"#c51b7d\"],[0.2,\"#de77ae\"],[0.3,\"#f1b6da\"],[0.4,\"#fde0ef\"],[0.5,\"#f7f7f7\"],[0.6,\"#e6f5d0\"],[0.7,\"#b8e186\"],[0.8,\"#7fbc41\"],[0.9,\"#4d9221\"],[1,\"#276419\"]]},\"xaxis\":{\"gridcolor\":\"#283442\",\"linecolor\":\"#506784\",\"ticks\":\"\",\"title\":{\"standoff\":15},\"zerolinecolor\":\"#283442\",\"automargin\":true,\"zerolinewidth\":2},\"yaxis\":{\"gridcolor\":\"#283442\",\"linecolor\":\"#506784\",\"ticks\":\"\",\"title\":{\"standoff\":15},\"zerolinecolor\":\"#283442\",\"automargin\":true,\"zerolinewidth\":2},\"scene\":{\"xaxis\":{\"backgroundcolor\":\"rgb(17,17,17)\",\"gridcolor\":\"#506784\",\"linecolor\":\"#506784\",\"showbackground\":true,\"ticks\":\"\",\"zerolinecolor\":\"#C8D4E3\",\"gridwidth\":2},\"yaxis\":{\"backgroundcolor\":\"rgb(17,17,17)\",\"gridcolor\":\"#506784\",\"linecolor\":\"#506784\",\"showbackground\":true,\"ticks\":\"\",\"zerolinecolor\":\"#C8D4E3\",\"gridwidth\":2},\"zaxis\":{\"backgroundcolor\":\"rgb(17,17,17)\",\"gridcolor\":\"#506784\",\"linecolor\":\"#506784\",\"showbackground\":true,\"ticks\":\"\",\"zerolinecolor\":\"#C8D4E3\",\"gridwidth\":2}},\"shapedefaults\":{\"line\":{\"color\":\"#f2f5fa\"}},\"annotationdefaults\":{\"arrowcolor\":\"#f2f5fa\",\"arrowhead\":0,\"arrowwidth\":1},\"geo\":{\"bgcolor\":\"rgb(17,17,17)\",\"landcolor\":\"rgb(17,17,17)\",\"subunitcolor\":\"#506784\",\"showland\":true,\"showlakes\":true,\"lakecolor\":\"rgb(17,17,17)\"},\"title\":{\"x\":0.05},\"updatemenudefaults\":{\"bgcolor\":\"#506784\",\"borderwidth\":0},\"sliderdefaults\":{\"bgcolor\":\"#C8D4E3\",\"borderwidth\":1,\"bordercolor\":\"rgb(17,17,17)\",\"tickwidth\":0},\"mapbox\":{\"style\":\"dark\"}}},\"xaxis\":{\"anchor\":\"y\",\"domain\":[0.0,1.0],\"title\":{\"text\":\"Age Group\"},\"type\":\"category\"},\"yaxis\":{\"anchor\":\"x\",\"domain\":[0.0,1.0],\"title\":{\"text\":\"Percentage\"}},\"legend\":{\"title\":{\"text\":\"Geographic_Area, Time Period\"},\"tracegroupgap\":0},\"title\":{\"text\":\"School Attendance Percentages by Age and Region 2010 vs 2021\"}},                        {\"responsive\": true}                    ).then(function(){\n",
       "                            \n",
       "var gd = document.getElementById('79a1c002-5854-40e8-b3e9-5394879a1ffe');\n",
       "var x = new MutationObserver(function (mutations, observer) {{\n",
       "        var display = window.getComputedStyle(gd).display;\n",
       "        if (!display || display === 'none') {{\n",
       "            console.log([gd, 'removed!']);\n",
       "            Plotly.purge(gd);\n",
       "            observer.disconnect();\n",
       "        }}\n",
       "}});\n",
       "\n",
       "// Listen for the removal of the full notebook cells\n",
       "var notebookContainer = gd.closest('#notebook-container');\n",
       "if (notebookContainer) {{\n",
       "    x.observe(notebookContainer, {childList: true});\n",
       "}}\n",
       "\n",
       "// Listen for the clearing of the current output cell\n",
       "var outputEl = gd.closest('.output');\n",
       "if (outputEl) {{\n",
       "    x.observe(outputEl, {childList: true});\n",
       "}}\n",
       "\n",
       "                        })                };                });            </script>        </div>"
      ]
     },
     "metadata": {},
     "output_type": "display_data"
    }
   ],
   "source": [
    "percentage10['Time Period'] = '2010'\n",
    "percentage21['Time Period'] = '2021'\n",
    "\n",
    "percentage10 = percentage10.rename(columns={'3-4': '3-5'})\n",
    "percentage21 = percentage21.rename(columns={'6-10': '5-9'})\n",
    "percentage21 = percentage21.rename(columns={'11-14': '10-14'})\n",
    "\n",
    "df_combined = pd.concat([percentage10, percentage21])\n",
    "\n",
    "df_melt = df_combined.melt(id_vars=['Geographic_Area', 'Time Period'], var_name='Age Group', value_name='Percentage')\n",
    "\n",
    "fig = px.line(df_melt, x='Age Group', y='Percentage', color='Geographic_Area', line_dash='Time Period',\n",
    "              title='School Attendance Percentages by Age and Region 2010 vs 2021')\n",
    "fig.update_layout(xaxis_type='category')\n",
    "fig.show()"
   ]
  },
  {
   "cell_type": "code",
   "execution_count": 20,
   "metadata": {
    "collapsed": false
   },
   "outputs": [
    {
     "name": "stderr",
     "output_type": "stream",
     "text": [
      "/tmp/ipykernel_67088/1538393902.py:1: FutureWarning:\n",
      "\n",
      "DataFrame.replace without 'value' and with non-dict-like 'to_replace' is deprecated and will raise in a future version. Explicitly specify the new values instead.\n",
      "\n",
      "/tmp/ipykernel_67088/1538393902.py:6: FutureWarning:\n",
      "\n",
      "DataFrame.applymap has been deprecated. Use DataFrame.map instead.\n",
      "\n",
      "/tmp/ipykernel_67088/1538393902.py:8: FutureWarning:\n",
      "\n",
      "DataFrame.replace without 'value' and with non-dict-like 'to_replace' is deprecated and will raise in a future version. Explicitly specify the new values instead.\n",
      "\n",
      "/tmp/ipykernel_67088/1538393902.py:13: FutureWarning:\n",
      "\n",
      "DataFrame.applymap has been deprecated. Use DataFrame.map instead.\n",
      "\n"
     ]
    },
    {
     "data": {
      "application/vnd.plotly.v1+json": {
       "config": {
        "plotlyServerURL": "https://plot.ly"
       },
       "data": [
        {
         "alignmentgroup": "True",
         "hovertemplate": "Geographic_Area=Ghana<br>Age Group=%{x}<br>Difference=%{y}<extra></extra>",
         "legendgroup": "Ghana",
         "marker": {
          "color": "#636efa",
          "pattern": {
           "shape": ""
          }
         },
         "name": "Ghana",
         "offsetgroup": "Ghana",
         "orientation": "v",
         "showlegend": true,
         "textposition": "auto",
         "type": "bar",
         "x": [
          "03-05",
          "05-09",
          "10-14",
          "15-19",
          "20-24",
          "25-29",
          "30-34",
          "35-39",
          "40-44"
         ],
         "xaxis": "x",
         "y": [
          2.87415888579698,
          5.774989758105718,
          3.1450149588119416,
          8.363163230212677,
          9.976841418427632,
          4.837896989652414,
          2.277906820993615,
          1.4386896855105493,
          0.6228170174928709
         ],
         "yaxis": "y"
        },
        {
         "alignmentgroup": "True",
         "hovertemplate": "Geographic_Area=Sissala East Municipal<br>Age Group=%{x}<br>Difference=%{y}<extra></extra>",
         "legendgroup": "Sissala East Municipal",
         "marker": {
          "color": "#EF553B",
          "pattern": {
           "shape": ""
          }
         },
         "name": "Sissala East Municipal",
         "offsetgroup": "Sissala East Municipal",
         "orientation": "v",
         "showlegend": true,
         "textposition": "auto",
         "type": "bar",
         "x": [
          "03-05",
          "05-09",
          "10-14",
          "15-19",
          "20-24",
          "25-29",
          "30-34",
          "35-39",
          "40-44"
         ],
         "xaxis": "x",
         "y": [
          -0.03281172010021294,
          10.926519413842975,
          11.807708643042432,
          12.444798793255615,
          6.558559944205262,
          2.21369683245063,
          1.6439519950255872,
          0.9639605430704457,
          0.4915610416254763
         ],
         "yaxis": "y"
        },
        {
         "alignmentgroup": "True",
         "hovertemplate": "Geographic_Area=Sissala West<br>Age Group=%{x}<br>Difference=%{y}<extra></extra>",
         "legendgroup": "Sissala West",
         "marker": {
          "color": "#00cc96",
          "pattern": {
           "shape": ""
          }
         },
         "name": "Sissala West",
         "offsetgroup": "Sissala West",
         "orientation": "v",
         "showlegend": true,
         "textposition": "auto",
         "type": "bar",
         "x": [
          "03-05",
          "05-09",
          "10-14",
          "15-19",
          "20-24",
          "25-29",
          "30-34",
          "35-39",
          "40-44"
         ],
         "xaxis": "x",
         "y": [
          5.11440692032366,
          15.963976086238546,
          10.13821158336841,
          14.084088235983195,
          9.139381503403575,
          2.066807627362072,
          1.0543592916063642,
          0.4224195939216433,
          0.21379766977519346
         ],
         "yaxis": "y"
        },
        {
         "alignmentgroup": "True",
         "hovertemplate": "Geographic_Area=Upper West<br>Age Group=%{x}<br>Difference=%{y}<extra></extra>",
         "legendgroup": "Upper West",
         "marker": {
          "color": "#ab63fa",
          "pattern": {
           "shape": ""
          }
         },
         "name": "Upper West",
         "offsetgroup": "Upper West",
         "orientation": "v",
         "showlegend": true,
         "textposition": "auto",
         "type": "bar",
         "x": [
          "03-05",
          "05-09",
          "10-14",
          "15-19",
          "20-24",
          "25-29",
          "30-34",
          "35-39",
          "40-44"
         ],
         "xaxis": "x",
         "y": [
          5.498169849945491,
          13.643051571553556,
          9.507408199508156,
          7.450007276315382,
          6.2975875487088615,
          3.5209001931421717,
          1.6304490307639534,
          1.1093854675098351,
          0.46966462251810104
         ],
         "yaxis": "y"
        }
       ],
       "layout": {
        "barmode": "group",
        "legend": {
         "title": {
          "text": "Geographic_Area"
         },
         "tracegroupgap": 0
        },
        "template": {
         "data": {
          "bar": [
           {
            "error_x": {
             "color": "#f2f5fa"
            },
            "error_y": {
             "color": "#f2f5fa"
            },
            "marker": {
             "line": {
              "color": "rgb(17,17,17)",
              "width": 0.5
             },
             "pattern": {
              "fillmode": "overlay",
              "size": 10,
              "solidity": 0.2
             }
            },
            "type": "bar"
           }
          ],
          "barpolar": [
           {
            "marker": {
             "line": {
              "color": "rgb(17,17,17)",
              "width": 0.5
             },
             "pattern": {
              "fillmode": "overlay",
              "size": 10,
              "solidity": 0.2
             }
            },
            "type": "barpolar"
           }
          ],
          "carpet": [
           {
            "aaxis": {
             "endlinecolor": "#A2B1C6",
             "gridcolor": "#506784",
             "linecolor": "#506784",
             "minorgridcolor": "#506784",
             "startlinecolor": "#A2B1C6"
            },
            "baxis": {
             "endlinecolor": "#A2B1C6",
             "gridcolor": "#506784",
             "linecolor": "#506784",
             "minorgridcolor": "#506784",
             "startlinecolor": "#A2B1C6"
            },
            "type": "carpet"
           }
          ],
          "choropleth": [
           {
            "colorbar": {
             "outlinewidth": 0,
             "ticks": ""
            },
            "type": "choropleth"
           }
          ],
          "contour": [
           {
            "colorbar": {
             "outlinewidth": 0,
             "ticks": ""
            },
            "colorscale": [
             [
              0.0,
              "#0d0887"
             ],
             [
              0.1111111111111111,
              "#46039f"
             ],
             [
              0.2222222222222222,
              "#7201a8"
             ],
             [
              0.3333333333333333,
              "#9c179e"
             ],
             [
              0.4444444444444444,
              "#bd3786"
             ],
             [
              0.5555555555555556,
              "#d8576b"
             ],
             [
              0.6666666666666666,
              "#ed7953"
             ],
             [
              0.7777777777777778,
              "#fb9f3a"
             ],
             [
              0.8888888888888888,
              "#fdca26"
             ],
             [
              1.0,
              "#f0f921"
             ]
            ],
            "type": "contour"
           }
          ],
          "contourcarpet": [
           {
            "colorbar": {
             "outlinewidth": 0,
             "ticks": ""
            },
            "type": "contourcarpet"
           }
          ],
          "heatmap": [
           {
            "colorbar": {
             "outlinewidth": 0,
             "ticks": ""
            },
            "colorscale": [
             [
              0.0,
              "#0d0887"
             ],
             [
              0.1111111111111111,
              "#46039f"
             ],
             [
              0.2222222222222222,
              "#7201a8"
             ],
             [
              0.3333333333333333,
              "#9c179e"
             ],
             [
              0.4444444444444444,
              "#bd3786"
             ],
             [
              0.5555555555555556,
              "#d8576b"
             ],
             [
              0.6666666666666666,
              "#ed7953"
             ],
             [
              0.7777777777777778,
              "#fb9f3a"
             ],
             [
              0.8888888888888888,
              "#fdca26"
             ],
             [
              1.0,
              "#f0f921"
             ]
            ],
            "type": "heatmap"
           }
          ],
          "heatmapgl": [
           {
            "colorbar": {
             "outlinewidth": 0,
             "ticks": ""
            },
            "colorscale": [
             [
              0.0,
              "#0d0887"
             ],
             [
              0.1111111111111111,
              "#46039f"
             ],
             [
              0.2222222222222222,
              "#7201a8"
             ],
             [
              0.3333333333333333,
              "#9c179e"
             ],
             [
              0.4444444444444444,
              "#bd3786"
             ],
             [
              0.5555555555555556,
              "#d8576b"
             ],
             [
              0.6666666666666666,
              "#ed7953"
             ],
             [
              0.7777777777777778,
              "#fb9f3a"
             ],
             [
              0.8888888888888888,
              "#fdca26"
             ],
             [
              1.0,
              "#f0f921"
             ]
            ],
            "type": "heatmapgl"
           }
          ],
          "histogram": [
           {
            "marker": {
             "pattern": {
              "fillmode": "overlay",
              "size": 10,
              "solidity": 0.2
             }
            },
            "type": "histogram"
           }
          ],
          "histogram2d": [
           {
            "colorbar": {
             "outlinewidth": 0,
             "ticks": ""
            },
            "colorscale": [
             [
              0.0,
              "#0d0887"
             ],
             [
              0.1111111111111111,
              "#46039f"
             ],
             [
              0.2222222222222222,
              "#7201a8"
             ],
             [
              0.3333333333333333,
              "#9c179e"
             ],
             [
              0.4444444444444444,
              "#bd3786"
             ],
             [
              0.5555555555555556,
              "#d8576b"
             ],
             [
              0.6666666666666666,
              "#ed7953"
             ],
             [
              0.7777777777777778,
              "#fb9f3a"
             ],
             [
              0.8888888888888888,
              "#fdca26"
             ],
             [
              1.0,
              "#f0f921"
             ]
            ],
            "type": "histogram2d"
           }
          ],
          "histogram2dcontour": [
           {
            "colorbar": {
             "outlinewidth": 0,
             "ticks": ""
            },
            "colorscale": [
             [
              0.0,
              "#0d0887"
             ],
             [
              0.1111111111111111,
              "#46039f"
             ],
             [
              0.2222222222222222,
              "#7201a8"
             ],
             [
              0.3333333333333333,
              "#9c179e"
             ],
             [
              0.4444444444444444,
              "#bd3786"
             ],
             [
              0.5555555555555556,
              "#d8576b"
             ],
             [
              0.6666666666666666,
              "#ed7953"
             ],
             [
              0.7777777777777778,
              "#fb9f3a"
             ],
             [
              0.8888888888888888,
              "#fdca26"
             ],
             [
              1.0,
              "#f0f921"
             ]
            ],
            "type": "histogram2dcontour"
           }
          ],
          "mesh3d": [
           {
            "colorbar": {
             "outlinewidth": 0,
             "ticks": ""
            },
            "type": "mesh3d"
           }
          ],
          "parcoords": [
           {
            "line": {
             "colorbar": {
              "outlinewidth": 0,
              "ticks": ""
             }
            },
            "type": "parcoords"
           }
          ],
          "pie": [
           {
            "automargin": true,
            "type": "pie"
           }
          ],
          "scatter": [
           {
            "marker": {
             "line": {
              "color": "#283442"
             }
            },
            "type": "scatter"
           }
          ],
          "scatter3d": [
           {
            "line": {
             "colorbar": {
              "outlinewidth": 0,
              "ticks": ""
             }
            },
            "marker": {
             "colorbar": {
              "outlinewidth": 0,
              "ticks": ""
             }
            },
            "type": "scatter3d"
           }
          ],
          "scattercarpet": [
           {
            "marker": {
             "colorbar": {
              "outlinewidth": 0,
              "ticks": ""
             }
            },
            "type": "scattercarpet"
           }
          ],
          "scattergeo": [
           {
            "marker": {
             "colorbar": {
              "outlinewidth": 0,
              "ticks": ""
             }
            },
            "type": "scattergeo"
           }
          ],
          "scattergl": [
           {
            "marker": {
             "line": {
              "color": "#283442"
             }
            },
            "type": "scattergl"
           }
          ],
          "scattermapbox": [
           {
            "marker": {
             "colorbar": {
              "outlinewidth": 0,
              "ticks": ""
             }
            },
            "type": "scattermapbox"
           }
          ],
          "scatterpolar": [
           {
            "marker": {
             "colorbar": {
              "outlinewidth": 0,
              "ticks": ""
             }
            },
            "type": "scatterpolar"
           }
          ],
          "scatterpolargl": [
           {
            "marker": {
             "colorbar": {
              "outlinewidth": 0,
              "ticks": ""
             }
            },
            "type": "scatterpolargl"
           }
          ],
          "scatterternary": [
           {
            "marker": {
             "colorbar": {
              "outlinewidth": 0,
              "ticks": ""
             }
            },
            "type": "scatterternary"
           }
          ],
          "surface": [
           {
            "colorbar": {
             "outlinewidth": 0,
             "ticks": ""
            },
            "colorscale": [
             [
              0.0,
              "#0d0887"
             ],
             [
              0.1111111111111111,
              "#46039f"
             ],
             [
              0.2222222222222222,
              "#7201a8"
             ],
             [
              0.3333333333333333,
              "#9c179e"
             ],
             [
              0.4444444444444444,
              "#bd3786"
             ],
             [
              0.5555555555555556,
              "#d8576b"
             ],
             [
              0.6666666666666666,
              "#ed7953"
             ],
             [
              0.7777777777777778,
              "#fb9f3a"
             ],
             [
              0.8888888888888888,
              "#fdca26"
             ],
             [
              1.0,
              "#f0f921"
             ]
            ],
            "type": "surface"
           }
          ],
          "table": [
           {
            "cells": {
             "fill": {
              "color": "#506784"
             },
             "line": {
              "color": "rgb(17,17,17)"
             }
            },
            "header": {
             "fill": {
              "color": "#2a3f5f"
             },
             "line": {
              "color": "rgb(17,17,17)"
             }
            },
            "type": "table"
           }
          ]
         },
         "layout": {
          "annotationdefaults": {
           "arrowcolor": "#f2f5fa",
           "arrowhead": 0,
           "arrowwidth": 1
          },
          "autotypenumbers": "strict",
          "coloraxis": {
           "colorbar": {
            "outlinewidth": 0,
            "ticks": ""
           }
          },
          "colorscale": {
           "diverging": [
            [
             0,
             "#8e0152"
            ],
            [
             0.1,
             "#c51b7d"
            ],
            [
             0.2,
             "#de77ae"
            ],
            [
             0.3,
             "#f1b6da"
            ],
            [
             0.4,
             "#fde0ef"
            ],
            [
             0.5,
             "#f7f7f7"
            ],
            [
             0.6,
             "#e6f5d0"
            ],
            [
             0.7,
             "#b8e186"
            ],
            [
             0.8,
             "#7fbc41"
            ],
            [
             0.9,
             "#4d9221"
            ],
            [
             1,
             "#276419"
            ]
           ],
           "sequential": [
            [
             0.0,
             "#0d0887"
            ],
            [
             0.1111111111111111,
             "#46039f"
            ],
            [
             0.2222222222222222,
             "#7201a8"
            ],
            [
             0.3333333333333333,
             "#9c179e"
            ],
            [
             0.4444444444444444,
             "#bd3786"
            ],
            [
             0.5555555555555556,
             "#d8576b"
            ],
            [
             0.6666666666666666,
             "#ed7953"
            ],
            [
             0.7777777777777778,
             "#fb9f3a"
            ],
            [
             0.8888888888888888,
             "#fdca26"
            ],
            [
             1.0,
             "#f0f921"
            ]
           ],
           "sequentialminus": [
            [
             0.0,
             "#0d0887"
            ],
            [
             0.1111111111111111,
             "#46039f"
            ],
            [
             0.2222222222222222,
             "#7201a8"
            ],
            [
             0.3333333333333333,
             "#9c179e"
            ],
            [
             0.4444444444444444,
             "#bd3786"
            ],
            [
             0.5555555555555556,
             "#d8576b"
            ],
            [
             0.6666666666666666,
             "#ed7953"
            ],
            [
             0.7777777777777778,
             "#fb9f3a"
            ],
            [
             0.8888888888888888,
             "#fdca26"
            ],
            [
             1.0,
             "#f0f921"
            ]
           ]
          },
          "colorway": [
           "#636efa",
           "#EF553B",
           "#00cc96",
           "#ab63fa",
           "#FFA15A",
           "#19d3f3",
           "#FF6692",
           "#B6E880",
           "#FF97FF",
           "#FECB52"
          ],
          "font": {
           "color": "#f2f5fa"
          },
          "geo": {
           "bgcolor": "rgb(17,17,17)",
           "lakecolor": "rgb(17,17,17)",
           "landcolor": "rgb(17,17,17)",
           "showlakes": true,
           "showland": true,
           "subunitcolor": "#506784"
          },
          "hoverlabel": {
           "align": "left"
          },
          "hovermode": "closest",
          "mapbox": {
           "style": "dark"
          },
          "paper_bgcolor": "rgb(17,17,17)",
          "plot_bgcolor": "rgb(17,17,17)",
          "polar": {
           "angularaxis": {
            "gridcolor": "#506784",
            "linecolor": "#506784",
            "ticks": ""
           },
           "bgcolor": "rgb(17,17,17)",
           "radialaxis": {
            "gridcolor": "#506784",
            "linecolor": "#506784",
            "ticks": ""
           }
          },
          "scene": {
           "xaxis": {
            "backgroundcolor": "rgb(17,17,17)",
            "gridcolor": "#506784",
            "gridwidth": 2,
            "linecolor": "#506784",
            "showbackground": true,
            "ticks": "",
            "zerolinecolor": "#C8D4E3"
           },
           "yaxis": {
            "backgroundcolor": "rgb(17,17,17)",
            "gridcolor": "#506784",
            "gridwidth": 2,
            "linecolor": "#506784",
            "showbackground": true,
            "ticks": "",
            "zerolinecolor": "#C8D4E3"
           },
           "zaxis": {
            "backgroundcolor": "rgb(17,17,17)",
            "gridcolor": "#506784",
            "gridwidth": 2,
            "linecolor": "#506784",
            "showbackground": true,
            "ticks": "",
            "zerolinecolor": "#C8D4E3"
           }
          },
          "shapedefaults": {
           "line": {
            "color": "#f2f5fa"
           }
          },
          "sliderdefaults": {
           "bgcolor": "#C8D4E3",
           "bordercolor": "rgb(17,17,17)",
           "borderwidth": 1,
           "tickwidth": 0
          },
          "ternary": {
           "aaxis": {
            "gridcolor": "#506784",
            "linecolor": "#506784",
            "ticks": ""
           },
           "baxis": {
            "gridcolor": "#506784",
            "linecolor": "#506784",
            "ticks": ""
           },
           "bgcolor": "rgb(17,17,17)",
           "caxis": {
            "gridcolor": "#506784",
            "linecolor": "#506784",
            "ticks": ""
           }
          },
          "title": {
           "x": 0.05
          },
          "updatemenudefaults": {
           "bgcolor": "#506784",
           "borderwidth": 0
          },
          "xaxis": {
           "automargin": true,
           "gridcolor": "#283442",
           "linecolor": "#506784",
           "ticks": "",
           "title": {
            "standoff": 15
           },
           "zerolinecolor": "#283442",
           "zerolinewidth": 2
          },
          "yaxis": {
           "automargin": true,
           "gridcolor": "#283442",
           "linecolor": "#506784",
           "ticks": "",
           "title": {
            "standoff": 15
           },
           "zerolinecolor": "#283442",
           "zerolinewidth": 2
          }
         }
        },
        "title": {
         "text": "Difference in School Attendance Percentages by Region and Age (2010 vs 2021)"
        },
        "xaxis": {
         "anchor": "y",
         "domain": [
          0.0,
          1.0
         ],
         "title": {
          "text": "Age Group"
         },
         "type": "category"
        },
        "yaxis": {
         "anchor": "x",
         "domain": [
          0.0,
          1.0
         ],
         "title": {
          "text": "Difference"
         }
        }
       }
      },
      "text/html": [
       "<div>                            <div id=\"e98b6342-9132-4128-bc8e-adfbee0d13d8\" class=\"plotly-graph-div\" style=\"height:525px; width:100%;\"></div>            <script type=\"text/javascript\">                require([\"plotly\"], function(Plotly) {                    window.PLOTLYENV=window.PLOTLYENV || {};                                    if (document.getElementById(\"e98b6342-9132-4128-bc8e-adfbee0d13d8\")) {                    Plotly.newPlot(                        \"e98b6342-9132-4128-bc8e-adfbee0d13d8\",                        [{\"alignmentgroup\":\"True\",\"hovertemplate\":\"Geographic_Area=Ghana\\u003cbr\\u003eAge Group=%{x}\\u003cbr\\u003eDifference=%{y}\\u003cextra\\u003e\\u003c\\u002fextra\\u003e\",\"legendgroup\":\"Ghana\",\"marker\":{\"color\":\"#636efa\",\"pattern\":{\"shape\":\"\"}},\"name\":\"Ghana\",\"offsetgroup\":\"Ghana\",\"orientation\":\"v\",\"showlegend\":true,\"textposition\":\"auto\",\"x\":[\"03-05\",\"05-09\",\"10-14\",\"15-19\",\"20-24\",\"25-29\",\"30-34\",\"35-39\",\"40-44\"],\"xaxis\":\"x\",\"y\":[2.87415888579698,5.774989758105718,3.1450149588119416,8.363163230212677,9.976841418427632,4.837896989652414,2.277906820993615,1.4386896855105493,0.6228170174928709],\"yaxis\":\"y\",\"type\":\"bar\"},{\"alignmentgroup\":\"True\",\"hovertemplate\":\"Geographic_Area=Sissala East Municipal\\u003cbr\\u003eAge Group=%{x}\\u003cbr\\u003eDifference=%{y}\\u003cextra\\u003e\\u003c\\u002fextra\\u003e\",\"legendgroup\":\"Sissala East Municipal\",\"marker\":{\"color\":\"#EF553B\",\"pattern\":{\"shape\":\"\"}},\"name\":\"Sissala East Municipal\",\"offsetgroup\":\"Sissala East Municipal\",\"orientation\":\"v\",\"showlegend\":true,\"textposition\":\"auto\",\"x\":[\"03-05\",\"05-09\",\"10-14\",\"15-19\",\"20-24\",\"25-29\",\"30-34\",\"35-39\",\"40-44\"],\"xaxis\":\"x\",\"y\":[-0.03281172010021294,10.926519413842975,11.807708643042432,12.444798793255615,6.558559944205262,2.21369683245063,1.6439519950255872,0.9639605430704457,0.4915610416254763],\"yaxis\":\"y\",\"type\":\"bar\"},{\"alignmentgroup\":\"True\",\"hovertemplate\":\"Geographic_Area=Sissala West\\u003cbr\\u003eAge Group=%{x}\\u003cbr\\u003eDifference=%{y}\\u003cextra\\u003e\\u003c\\u002fextra\\u003e\",\"legendgroup\":\"Sissala West\",\"marker\":{\"color\":\"#00cc96\",\"pattern\":{\"shape\":\"\"}},\"name\":\"Sissala West\",\"offsetgroup\":\"Sissala West\",\"orientation\":\"v\",\"showlegend\":true,\"textposition\":\"auto\",\"x\":[\"03-05\",\"05-09\",\"10-14\",\"15-19\",\"20-24\",\"25-29\",\"30-34\",\"35-39\",\"40-44\"],\"xaxis\":\"x\",\"y\":[5.11440692032366,15.963976086238546,10.13821158336841,14.084088235983195,9.139381503403575,2.066807627362072,1.0543592916063642,0.4224195939216433,0.21379766977519346],\"yaxis\":\"y\",\"type\":\"bar\"},{\"alignmentgroup\":\"True\",\"hovertemplate\":\"Geographic_Area=Upper West\\u003cbr\\u003eAge Group=%{x}\\u003cbr\\u003eDifference=%{y}\\u003cextra\\u003e\\u003c\\u002fextra\\u003e\",\"legendgroup\":\"Upper West\",\"marker\":{\"color\":\"#ab63fa\",\"pattern\":{\"shape\":\"\"}},\"name\":\"Upper West\",\"offsetgroup\":\"Upper West\",\"orientation\":\"v\",\"showlegend\":true,\"textposition\":\"auto\",\"x\":[\"03-05\",\"05-09\",\"10-14\",\"15-19\",\"20-24\",\"25-29\",\"30-34\",\"35-39\",\"40-44\"],\"xaxis\":\"x\",\"y\":[5.498169849945491,13.643051571553556,9.507408199508156,7.450007276315382,6.2975875487088615,3.5209001931421717,1.6304490307639534,1.1093854675098351,0.46966462251810104],\"yaxis\":\"y\",\"type\":\"bar\"}],                        {\"template\":{\"data\":{\"histogram2dcontour\":[{\"type\":\"histogram2dcontour\",\"colorbar\":{\"outlinewidth\":0,\"ticks\":\"\"},\"colorscale\":[[0.0,\"#0d0887\"],[0.1111111111111111,\"#46039f\"],[0.2222222222222222,\"#7201a8\"],[0.3333333333333333,\"#9c179e\"],[0.4444444444444444,\"#bd3786\"],[0.5555555555555556,\"#d8576b\"],[0.6666666666666666,\"#ed7953\"],[0.7777777777777778,\"#fb9f3a\"],[0.8888888888888888,\"#fdca26\"],[1.0,\"#f0f921\"]]}],\"choropleth\":[{\"type\":\"choropleth\",\"colorbar\":{\"outlinewidth\":0,\"ticks\":\"\"}}],\"histogram2d\":[{\"type\":\"histogram2d\",\"colorbar\":{\"outlinewidth\":0,\"ticks\":\"\"},\"colorscale\":[[0.0,\"#0d0887\"],[0.1111111111111111,\"#46039f\"],[0.2222222222222222,\"#7201a8\"],[0.3333333333333333,\"#9c179e\"],[0.4444444444444444,\"#bd3786\"],[0.5555555555555556,\"#d8576b\"],[0.6666666666666666,\"#ed7953\"],[0.7777777777777778,\"#fb9f3a\"],[0.8888888888888888,\"#fdca26\"],[1.0,\"#f0f921\"]]}],\"heatmap\":[{\"type\":\"heatmap\",\"colorbar\":{\"outlinewidth\":0,\"ticks\":\"\"},\"colorscale\":[[0.0,\"#0d0887\"],[0.1111111111111111,\"#46039f\"],[0.2222222222222222,\"#7201a8\"],[0.3333333333333333,\"#9c179e\"],[0.4444444444444444,\"#bd3786\"],[0.5555555555555556,\"#d8576b\"],[0.6666666666666666,\"#ed7953\"],[0.7777777777777778,\"#fb9f3a\"],[0.8888888888888888,\"#fdca26\"],[1.0,\"#f0f921\"]]}],\"heatmapgl\":[{\"type\":\"heatmapgl\",\"colorbar\":{\"outlinewidth\":0,\"ticks\":\"\"},\"colorscale\":[[0.0,\"#0d0887\"],[0.1111111111111111,\"#46039f\"],[0.2222222222222222,\"#7201a8\"],[0.3333333333333333,\"#9c179e\"],[0.4444444444444444,\"#bd3786\"],[0.5555555555555556,\"#d8576b\"],[0.6666666666666666,\"#ed7953\"],[0.7777777777777778,\"#fb9f3a\"],[0.8888888888888888,\"#fdca26\"],[1.0,\"#f0f921\"]]}],\"contourcarpet\":[{\"type\":\"contourcarpet\",\"colorbar\":{\"outlinewidth\":0,\"ticks\":\"\"}}],\"contour\":[{\"type\":\"contour\",\"colorbar\":{\"outlinewidth\":0,\"ticks\":\"\"},\"colorscale\":[[0.0,\"#0d0887\"],[0.1111111111111111,\"#46039f\"],[0.2222222222222222,\"#7201a8\"],[0.3333333333333333,\"#9c179e\"],[0.4444444444444444,\"#bd3786\"],[0.5555555555555556,\"#d8576b\"],[0.6666666666666666,\"#ed7953\"],[0.7777777777777778,\"#fb9f3a\"],[0.8888888888888888,\"#fdca26\"],[1.0,\"#f0f921\"]]}],\"surface\":[{\"type\":\"surface\",\"colorbar\":{\"outlinewidth\":0,\"ticks\":\"\"},\"colorscale\":[[0.0,\"#0d0887\"],[0.1111111111111111,\"#46039f\"],[0.2222222222222222,\"#7201a8\"],[0.3333333333333333,\"#9c179e\"],[0.4444444444444444,\"#bd3786\"],[0.5555555555555556,\"#d8576b\"],[0.6666666666666666,\"#ed7953\"],[0.7777777777777778,\"#fb9f3a\"],[0.8888888888888888,\"#fdca26\"],[1.0,\"#f0f921\"]]}],\"mesh3d\":[{\"type\":\"mesh3d\",\"colorbar\":{\"outlinewidth\":0,\"ticks\":\"\"}}],\"scatter\":[{\"marker\":{\"line\":{\"color\":\"#283442\"}},\"type\":\"scatter\"}],\"parcoords\":[{\"type\":\"parcoords\",\"line\":{\"colorbar\":{\"outlinewidth\":0,\"ticks\":\"\"}}}],\"scatterpolargl\":[{\"type\":\"scatterpolargl\",\"marker\":{\"colorbar\":{\"outlinewidth\":0,\"ticks\":\"\"}}}],\"bar\":[{\"error_x\":{\"color\":\"#f2f5fa\"},\"error_y\":{\"color\":\"#f2f5fa\"},\"marker\":{\"line\":{\"color\":\"rgb(17,17,17)\",\"width\":0.5},\"pattern\":{\"fillmode\":\"overlay\",\"size\":10,\"solidity\":0.2}},\"type\":\"bar\"}],\"scattergeo\":[{\"type\":\"scattergeo\",\"marker\":{\"colorbar\":{\"outlinewidth\":0,\"ticks\":\"\"}}}],\"scatterpolar\":[{\"type\":\"scatterpolar\",\"marker\":{\"colorbar\":{\"outlinewidth\":0,\"ticks\":\"\"}}}],\"histogram\":[{\"marker\":{\"pattern\":{\"fillmode\":\"overlay\",\"size\":10,\"solidity\":0.2}},\"type\":\"histogram\"}],\"scattergl\":[{\"marker\":{\"line\":{\"color\":\"#283442\"}},\"type\":\"scattergl\"}],\"scatter3d\":[{\"type\":\"scatter3d\",\"line\":{\"colorbar\":{\"outlinewidth\":0,\"ticks\":\"\"}},\"marker\":{\"colorbar\":{\"outlinewidth\":0,\"ticks\":\"\"}}}],\"scattermapbox\":[{\"type\":\"scattermapbox\",\"marker\":{\"colorbar\":{\"outlinewidth\":0,\"ticks\":\"\"}}}],\"scatterternary\":[{\"type\":\"scatterternary\",\"marker\":{\"colorbar\":{\"outlinewidth\":0,\"ticks\":\"\"}}}],\"scattercarpet\":[{\"type\":\"scattercarpet\",\"marker\":{\"colorbar\":{\"outlinewidth\":0,\"ticks\":\"\"}}}],\"carpet\":[{\"aaxis\":{\"endlinecolor\":\"#A2B1C6\",\"gridcolor\":\"#506784\",\"linecolor\":\"#506784\",\"minorgridcolor\":\"#506784\",\"startlinecolor\":\"#A2B1C6\"},\"baxis\":{\"endlinecolor\":\"#A2B1C6\",\"gridcolor\":\"#506784\",\"linecolor\":\"#506784\",\"minorgridcolor\":\"#506784\",\"startlinecolor\":\"#A2B1C6\"},\"type\":\"carpet\"}],\"table\":[{\"cells\":{\"fill\":{\"color\":\"#506784\"},\"line\":{\"color\":\"rgb(17,17,17)\"}},\"header\":{\"fill\":{\"color\":\"#2a3f5f\"},\"line\":{\"color\":\"rgb(17,17,17)\"}},\"type\":\"table\"}],\"barpolar\":[{\"marker\":{\"line\":{\"color\":\"rgb(17,17,17)\",\"width\":0.5},\"pattern\":{\"fillmode\":\"overlay\",\"size\":10,\"solidity\":0.2}},\"type\":\"barpolar\"}],\"pie\":[{\"automargin\":true,\"type\":\"pie\"}]},\"layout\":{\"autotypenumbers\":\"strict\",\"colorway\":[\"#636efa\",\"#EF553B\",\"#00cc96\",\"#ab63fa\",\"#FFA15A\",\"#19d3f3\",\"#FF6692\",\"#B6E880\",\"#FF97FF\",\"#FECB52\"],\"font\":{\"color\":\"#f2f5fa\"},\"hovermode\":\"closest\",\"hoverlabel\":{\"align\":\"left\"},\"paper_bgcolor\":\"rgb(17,17,17)\",\"plot_bgcolor\":\"rgb(17,17,17)\",\"polar\":{\"bgcolor\":\"rgb(17,17,17)\",\"angularaxis\":{\"gridcolor\":\"#506784\",\"linecolor\":\"#506784\",\"ticks\":\"\"},\"radialaxis\":{\"gridcolor\":\"#506784\",\"linecolor\":\"#506784\",\"ticks\":\"\"}},\"ternary\":{\"bgcolor\":\"rgb(17,17,17)\",\"aaxis\":{\"gridcolor\":\"#506784\",\"linecolor\":\"#506784\",\"ticks\":\"\"},\"baxis\":{\"gridcolor\":\"#506784\",\"linecolor\":\"#506784\",\"ticks\":\"\"},\"caxis\":{\"gridcolor\":\"#506784\",\"linecolor\":\"#506784\",\"ticks\":\"\"}},\"coloraxis\":{\"colorbar\":{\"outlinewidth\":0,\"ticks\":\"\"}},\"colorscale\":{\"sequential\":[[0.0,\"#0d0887\"],[0.1111111111111111,\"#46039f\"],[0.2222222222222222,\"#7201a8\"],[0.3333333333333333,\"#9c179e\"],[0.4444444444444444,\"#bd3786\"],[0.5555555555555556,\"#d8576b\"],[0.6666666666666666,\"#ed7953\"],[0.7777777777777778,\"#fb9f3a\"],[0.8888888888888888,\"#fdca26\"],[1.0,\"#f0f921\"]],\"sequentialminus\":[[0.0,\"#0d0887\"],[0.1111111111111111,\"#46039f\"],[0.2222222222222222,\"#7201a8\"],[0.3333333333333333,\"#9c179e\"],[0.4444444444444444,\"#bd3786\"],[0.5555555555555556,\"#d8576b\"],[0.6666666666666666,\"#ed7953\"],[0.7777777777777778,\"#fb9f3a\"],[0.8888888888888888,\"#fdca26\"],[1.0,\"#f0f921\"]],\"diverging\":[[0,\"#8e0152\"],[0.1,\"#c51b7d\"],[0.2,\"#de77ae\"],[0.3,\"#f1b6da\"],[0.4,\"#fde0ef\"],[0.5,\"#f7f7f7\"],[0.6,\"#e6f5d0\"],[0.7,\"#b8e186\"],[0.8,\"#7fbc41\"],[0.9,\"#4d9221\"],[1,\"#276419\"]]},\"xaxis\":{\"gridcolor\":\"#283442\",\"linecolor\":\"#506784\",\"ticks\":\"\",\"title\":{\"standoff\":15},\"zerolinecolor\":\"#283442\",\"automargin\":true,\"zerolinewidth\":2},\"yaxis\":{\"gridcolor\":\"#283442\",\"linecolor\":\"#506784\",\"ticks\":\"\",\"title\":{\"standoff\":15},\"zerolinecolor\":\"#283442\",\"automargin\":true,\"zerolinewidth\":2},\"scene\":{\"xaxis\":{\"backgroundcolor\":\"rgb(17,17,17)\",\"gridcolor\":\"#506784\",\"linecolor\":\"#506784\",\"showbackground\":true,\"ticks\":\"\",\"zerolinecolor\":\"#C8D4E3\",\"gridwidth\":2},\"yaxis\":{\"backgroundcolor\":\"rgb(17,17,17)\",\"gridcolor\":\"#506784\",\"linecolor\":\"#506784\",\"showbackground\":true,\"ticks\":\"\",\"zerolinecolor\":\"#C8D4E3\",\"gridwidth\":2},\"zaxis\":{\"backgroundcolor\":\"rgb(17,17,17)\",\"gridcolor\":\"#506784\",\"linecolor\":\"#506784\",\"showbackground\":true,\"ticks\":\"\",\"zerolinecolor\":\"#C8D4E3\",\"gridwidth\":2}},\"shapedefaults\":{\"line\":{\"color\":\"#f2f5fa\"}},\"annotationdefaults\":{\"arrowcolor\":\"#f2f5fa\",\"arrowhead\":0,\"arrowwidth\":1},\"geo\":{\"bgcolor\":\"rgb(17,17,17)\",\"landcolor\":\"rgb(17,17,17)\",\"subunitcolor\":\"#506784\",\"showland\":true,\"showlakes\":true,\"lakecolor\":\"rgb(17,17,17)\"},\"title\":{\"x\":0.05},\"updatemenudefaults\":{\"bgcolor\":\"#506784\",\"borderwidth\":0},\"sliderdefaults\":{\"bgcolor\":\"#C8D4E3\",\"borderwidth\":1,\"bordercolor\":\"rgb(17,17,17)\",\"tickwidth\":0},\"mapbox\":{\"style\":\"dark\"}}},\"xaxis\":{\"anchor\":\"y\",\"domain\":[0.0,1.0],\"title\":{\"text\":\"Age Group\"},\"type\":\"category\"},\"yaxis\":{\"anchor\":\"x\",\"domain\":[0.0,1.0],\"title\":{\"text\":\"Difference\"}},\"legend\":{\"title\":{\"text\":\"Geographic_Area\"},\"tracegroupgap\":0},\"title\":{\"text\":\"Difference in School Attendance Percentages by Region and Age (2010 vs 2021)\"},\"barmode\":\"group\"},                        {\"responsive\": true}                    ).then(function(){\n",
       "                            \n",
       "var gd = document.getElementById('e98b6342-9132-4128-bc8e-adfbee0d13d8');\n",
       "var x = new MutationObserver(function (mutations, observer) {{\n",
       "        var display = window.getComputedStyle(gd).display;\n",
       "        if (!display || display === 'none') {{\n",
       "            console.log([gd, 'removed!']);\n",
       "            Plotly.purge(gd);\n",
       "            observer.disconnect();\n",
       "        }}\n",
       "}});\n",
       "\n",
       "// Listen for the removal of the full notebook cells\n",
       "var notebookContainer = gd.closest('#notebook-container');\n",
       "if (notebookContainer) {{\n",
       "    x.observe(notebookContainer, {childList: true});\n",
       "}}\n",
       "\n",
       "// Listen for the clearing of the current output cell\n",
       "var outputEl = gd.closest('.output');\n",
       "if (outputEl) {{\n",
       "    x.observe(outputEl, {childList: true});\n",
       "}}\n",
       "\n",
       "                        })                };                });            </script>        </div>"
      ]
     },
     "metadata": {},
     "output_type": "display_data"
    }
   ],
   "source": [
    "df_melt.replace()\n",
    "def clean_entry(entry):\n",
    "    if isinstance(entry, str):  # Only apply to strings\n",
    "        return entry.replace('3-5', '03-05').strip()\n",
    "    return entry  # Return non-string entries unchanged\n",
    "df_melt = df_melt.applymap(clean_entry)\n",
    "\n",
    "df_melt.replace()\n",
    "def clean_entry(entry):\n",
    "    if isinstance(entry, str):  # Only apply to strings\n",
    "        return entry.replace('5-9', '05-09').strip()\n",
    "    return entry  # Return non-string entries unchanged\n",
    "df_melt = df_melt.applymap(clean_entry)\n",
    "\n",
    "df_pivot = df_melt.pivot_table(index=['Geographic_Area', 'Age Group'], columns='Time Period', values='Percentage').reset_index()\n",
    "\n",
    "df_pivot['Difference'] = df_pivot['2021'] - df_pivot['2010']\n",
    "fig = px.bar(df_pivot, x='Age Group', y='Difference', color='Geographic_Area',\n",
    "             title='Difference in School Attendance Percentages by Region and Age (2010 vs 2021)')\n",
    "fig.update_layout(barmode='group', xaxis_type='category')\n",
    "fig.show()"
   ]
  },
  {
   "cell_type": "code",
   "execution_count": 201,
   "metadata": {
    "collapsed": false
   },
   "outputs": [],
   "source": []
  }
 ],
 "metadata": {
  "kernelspec": {
   "display_name": "Python 3",
   "language": "python",
   "name": "python3"
  },
  "language_info": {
   "codemirror_mode": {
    "name": "ipython",
    "version": 2
   },
   "file_extension": ".py",
   "mimetype": "text/x-python",
   "name": "python",
   "nbconvert_exporter": "python",
   "pygments_lexer": "ipython2",
   "version": "2.7.6"
  }
 },
 "nbformat": 4,
 "nbformat_minor": 0
}
